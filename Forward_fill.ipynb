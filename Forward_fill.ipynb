{
 "cells": [
  {
   "cell_type": "code",
   "execution_count": 1,
   "id": "40c7bbd6",
   "metadata": {},
   "outputs": [
    {
     "name": "stdout",
     "output_type": "stream",
     "text": [
      "%pylab is deprecated, use %matplotlib inline and import the required libraries.\n",
      "Populating the interactive namespace from numpy and matplotlib\n"
     ]
    }
   ],
   "source": [
    "#Importing Libraries\n",
    "import numpy as np\n",
    "import pandas as pd\n",
    "import seaborn as sns\n",
    "import matplotlib.pyplot as plt\n",
    "%pylab inline\n",
    "pylab.rcParams['figure.figsize'] = (10, 6)\n",
    "\n",
    "\n",
    "import warnings\n",
    "warnings.filterwarnings(\"ignore\")"
   ]
  },
  {
   "cell_type": "markdown",
   "id": "fdf36bef",
   "metadata": {},
   "source": [
    "<h2 align=\"center\" style=\"color:green\"> Load data</h2>"
   ]
  },
  {
   "cell_type": "code",
   "execution_count": 2,
   "id": "6e6d14cd",
   "metadata": {},
   "outputs": [],
   "source": [
    "\n",
    "limit_rows   = 4000000\n",
    "forwardFill_df           = pd.read_csv(\"./afterCleaning/drop_features_df.csv\",dtype={\"sexo\":str,\n",
    "                                                    \"ind_nuevo\":str,\n",
    "                                                    \"ult_fec_cli_1t\":str,\n",
    "                   \n",
    "                                                   \"indext\":str}, nrows=limit_rows,low_memory=False)\n"
   ]
  },
  {
   "cell_type": "markdown",
   "id": "24e95df0",
   "metadata": {},
   "source": [
    "<h2 align=\"center\" style=\"color:green\"> Missing Data</h2>"
   ]
  },
  {
   "cell_type": "markdown",
   "id": "30957c55",
   "metadata": {},
   "source": [
    "<h3 align=\"left\" style=\"color:#8FBC8F\"> Columns with missing values</h3>"
   ]
  },
  {
   "cell_type": "markdown",
   "id": "b9ef6f65",
   "metadata": {},
   "source": [
    "<h3 align=\"left\" style=\"color:#8FBC8F\">2) Imputing( Forward fill  )</h3>\n"
   ]
  },
  {
   "cell_type": "code",
   "execution_count": 3,
   "id": "814d6fe1",
   "metadata": {},
   "outputs": [],
   "source": [
    "def perc_missing(df):\n",
    "    '''prints out columns with missing values with its %'''\n",
    "    for col in df.columns:\n",
    "        pct = df[col].isna().mean() * 100\n",
    "        if (pct != 0):\n",
    "            print('{} => {}%'.format(col, round(pct, 2)))\n",
    " "
   ]
  },
  {
   "cell_type": "code",
   "execution_count": 4,
   "id": "e7661749",
   "metadata": {},
   "outputs": [],
   "source": [
    "def forwardFill(forwardFill_df):\n",
    "   \n",
    "    for col in forwardFill_df.columns:\n",
    "        pct = forwardFill_df[col].isna().mean() * 100\n",
    "        if (pct != 0):\n",
    "            forwardFill_df[col].ffill(inplace=True)\n",
    "    \n",
    "forwardFill(forwardFill_df)"
   ]
  },
  {
   "cell_type": "code",
   "execution_count": 5,
   "id": "95f1aa7e",
   "metadata": {},
   "outputs": [],
   "source": [
    "perc_missing(forwardFill_df)"
   ]
  },
  {
   "cell_type": "markdown",
   "id": "8fa84a5f",
   "metadata": {},
   "source": [
    "<h3 align=\"center \" style=\"color:#8F7C8F\">Save the dataset  </h3>\n"
   ]
  },
  {
   "cell_type": "code",
   "execution_count": 6,
   "id": "36df3168",
   "metadata": {},
   "outputs": [],
   "source": [
    "forwardFill_df.to_csv('./afterCleaning/forwardFill_df.csv', index=False)"
   ]
  }
 ],
 "metadata": {
  "kernelspec": {
   "display_name": "Python 3 (ipykernel)",
   "language": "python",
   "name": "python3"
  },
  "language_info": {
   "codemirror_mode": {
    "name": "ipython",
    "version": 3
   },
   "file_extension": ".py",
   "mimetype": "text/x-python",
   "name": "python",
   "nbconvert_exporter": "python",
   "pygments_lexer": "ipython3",
   "version": "3.9.12"
  }
 },
 "nbformat": 4,
 "nbformat_minor": 5
}
