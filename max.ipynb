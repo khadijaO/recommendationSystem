{
 "cells": [
  {
   "cell_type": "code",
   "execution_count": 1,
   "id": "40c7bbd6",
   "metadata": {},
   "outputs": [
    {
     "name": "stdout",
     "output_type": "stream",
     "text": [
      "%pylab is deprecated, use %matplotlib inline and import the required libraries.\n",
      "Populating the interactive namespace from numpy and matplotlib\n"
     ]
    }
   ],
   "source": [
    "#Importing Libraries\n",
    "import numpy as np\n",
    "import pandas as pd\n",
    "import seaborn as sns\n",
    "import matplotlib.pyplot as plt\n",
    "%pylab inline\n",
    "pylab.rcParams['figure.figsize'] = (10, 6)\n",
    "\n",
    "\n",
    "import warnings\n",
    "warnings.filterwarnings(\"ignore\")"
   ]
  },
  {
   "cell_type": "markdown",
   "id": "308e5ba4",
   "metadata": {},
   "source": [
    "<h2 align=\"center\" style=\"color:green\"> Load data</h2>"
   ]
  },
  {
   "cell_type": "code",
   "execution_count": 2,
   "id": "7d20a456",
   "metadata": {},
   "outputs": [],
   "source": [
    "\n",
    "limit_rows   = 4000000\n",
    "fill_max_df          = pd.read_csv(\"./afterCleaning/drop_features_df.csv\",dtype={\"sexo\":str,\n",
    "                                                    \"ind_nuevo\":str,\n",
    "                                                    \"ult_fec_cli_1t\":str,\n",
    "                   \n",
    "                                                   \"indext\":str}, nrows=limit_rows,low_memory=False)\n"
   ]
  },
  {
   "cell_type": "markdown",
   "id": "1eab6841",
   "metadata": {},
   "source": [
    "<h3 align=\"left\" style=\"color:#8FBC8F\">4) filling in null values based on max</h3>\n"
   ]
  },
  {
   "cell_type": "code",
   "execution_count": 4,
   "id": "d1715e61",
   "metadata": {},
   "outputs": [],
   "source": [
    "def perc_missing(df):\n",
    "    '''prints out columns with missing values with its %'''\n",
    "    for col in df.columns:\n",
    "        pct = df[col].isna().mean() * 100\n",
    "        if (pct != 0):\n",
    "            print('{} => {}%'.format(col, round(pct, 2)))\n",
    " "
   ]
  },
  {
   "cell_type": "code",
   "execution_count": 5,
   "id": "59ab2b3d",
   "metadata": {},
   "outputs": [
    {
     "name": "stdout",
     "output_type": "stream",
     "text": [
      "EmployeeIndex => 0.69%\n",
      "CustomerRresidence => 0.69%\n",
      "sexe => 0.69%\n",
      "FirstContractDate => 0.69%\n",
      "ind_nuevo => 0.69%\n",
      "indrel => 0.69%\n",
      "indrel_1mes => 0.69%\n",
      "tiprel_1mes => 0.69%\n",
      "indresi => 0.69%\n",
      "indext => 0.69%\n",
      "canal_entrada => 0.71%\n",
      "indfall => 0.69%\n",
      "tipodom => 0.69%\n",
      "cod_prov => 1.29%\n",
      "nomprov => 1.29%\n",
      "ind_actividad_cliente => 0.69%\n",
      "GrossIncome => 17.53%\n",
      "segmentation => 0.71%\n",
      "P_Payroll => 0.4%\n"
     ]
    }
   ],
   "source": [
    "perc_missing(fill_max_df)\n"
   ]
  },
  {
   "cell_type": "code",
   "execution_count": 6,
   "id": "de3857f9",
   "metadata": {},
   "outputs": [],
   "source": [
    "num_df_max = fill_max_df.select_dtypes(exclude=['object'])"
   ]
  },
  {
   "cell_type": "code",
   "execution_count": 8,
   "id": "e63966ca",
   "metadata": {},
   "outputs": [],
   "source": [
    "def MaxFill(df):\n",
    "   \n",
    "     for col in df.columns:\n",
    "        pct = df[col].isna().mean() * 100\n",
    "\n",
    "        if (pct != 0):\n",
    "            # imputing price with mean\n",
    "            column = df[col]\n",
    "            max_value = column.max()\n",
    "            df[col].fillna(max_value, inplace=True)\n",
    "    \n",
    "    \n",
    "MaxFill(num_df_max)\n"
   ]
  },
  {
   "cell_type": "markdown",
   "id": "b118b02f",
   "metadata": {},
   "source": [
    "<h3 align=\"center \" style=\"color:#8F7C8F\">mode for  non numeric values </h3>\n"
   ]
  },
  {
   "cell_type": "code",
   "execution_count": 9,
   "id": "2e05c437",
   "metadata": {},
   "outputs": [],
   "source": [
    "def modeFill(fill_mean_df):\n",
    "   \n",
    "    for col in fill_mean_df.columns:\n",
    "        pct = fill_mean_df[col].isna().mean() * 100\n",
    "        if (pct != 0):\n",
    "#             print(fill_mean_df[col].mode()+\"------\")\n",
    "            fill_mean_df[col].fillna(fill_mean_df[col].mode()[0], inplace=True)\n",
    "    \n"
   ]
  },
  {
   "cell_type": "code",
   "execution_count": 10,
   "id": "37c06162",
   "metadata": {},
   "outputs": [],
   "source": [
    "modeFill(fill_max_df)"
   ]
  },
  {
   "cell_type": "code",
   "execution_count": 11,
   "id": "2206daa7",
   "metadata": {},
   "outputs": [],
   "source": [
    "perc_missing(fill_max_df)\n"
   ]
  },
  {
   "cell_type": "markdown",
   "id": "00f8647b",
   "metadata": {},
   "source": [
    "<h3 align=\"center \" style=\"color:#8F7C8F\">Save the dataset  </h3>\n"
   ]
  },
  {
   "cell_type": "code",
   "execution_count": 12,
   "id": "abd6dbf5",
   "metadata": {},
   "outputs": [],
   "source": [
    "fill_max_df.to_csv(\"./afterCleaning/fill_max_df.csv\") \n"
   ]
  }
 ],
 "metadata": {
  "kernelspec": {
   "display_name": "Python 3 (ipykernel)",
   "language": "python",
   "name": "python3"
  },
  "language_info": {
   "codemirror_mode": {
    "name": "ipython",
    "version": 3
   },
   "file_extension": ".py",
   "mimetype": "text/x-python",
   "name": "python",
   "nbconvert_exporter": "python",
   "pygments_lexer": "ipython3",
   "version": "3.9.12"
  }
 },
 "nbformat": 4,
 "nbformat_minor": 5
}
