{
 "cells": [
  {
   "cell_type": "code",
   "execution_count": 1,
   "id": "40c7bbd6",
   "metadata": {},
   "outputs": [
    {
     "name": "stdout",
     "output_type": "stream",
     "text": [
      "%pylab is deprecated, use %matplotlib inline and import the required libraries.\n",
      "Populating the interactive namespace from numpy and matplotlib\n"
     ]
    }
   ],
   "source": [
    "#Importing Libraries\n",
    "import numpy as np\n",
    "import pandas as pd\n",
    "import seaborn as sns\n",
    "import matplotlib.pyplot as plt\n",
    "%pylab inline\n",
    "pylab.rcParams['figure.figsize'] = (10, 6)\n",
    "\n",
    "\n",
    "import warnings\n",
    "warnings.filterwarnings(\"ignore\")"
   ]
  },
  {
   "cell_type": "markdown",
   "id": "93a87769",
   "metadata": {},
   "source": [
    "<h2 align=\"center\" style=\"color:green\"> Load data</h2>"
   ]
  },
  {
   "cell_type": "code",
   "execution_count": 4,
   "id": "09c5ee27",
   "metadata": {},
   "outputs": [],
   "source": [
    "\n",
    "limit_rows   = 4000000\n",
    "fill_min_df           = pd.read_csv(\"./afterCleaning/drop_features_df.csv\",dtype={\"sexo\":str,\n",
    "                                                    \"ind_nuevo\":str,\n",
    "                                                    \"ult_fec_cli_1t\":str,\n",
    "                   \n",
    "                                                   \"indext\":str}, nrows=limit_rows,low_memory=False)\n"
   ]
  },
  {
   "cell_type": "markdown",
   "id": "27dbe7c9",
   "metadata": {},
   "source": [
    "<h2 align=\"center\" style=\"color:green\"> Technique to deal with missing values</h2>"
   ]
  },
  {
   "cell_type": "markdown",
   "id": "73bf7344",
   "metadata": {},
   "source": [
    "<h3 align=\"left\" style=\"color:#8FBC8F\">4) filling in null values based on min</h3>\n"
   ]
  },
  {
   "cell_type": "code",
   "execution_count": 6,
   "id": "60bd55be",
   "metadata": {},
   "outputs": [],
   "source": [
    "def perc_missing(df):\n",
    "    '''prints out columns with missing values with its %'''\n",
    "    for col in df.columns:\n",
    "        pct = df[col].isna().mean() * 100\n",
    "        if (pct != 0):\n",
    "            print('{} => {}%'.format(col, round(pct, 2)))\n",
    " "
   ]
  },
  {
   "cell_type": "code",
   "execution_count": 7,
   "id": "ea3eab4b",
   "metadata": {},
   "outputs": [
    {
     "name": "stdout",
     "output_type": "stream",
     "text": [
      "EmployeeIndex => 0.69%\n",
      "CustomerRresidence => 0.69%\n",
      "sexe => 0.69%\n",
      "FirstContractDate => 0.69%\n",
      "ind_nuevo => 0.69%\n",
      "indrel => 0.69%\n",
      "indrel_1mes => 0.69%\n",
      "tiprel_1mes => 0.69%\n",
      "indresi => 0.69%\n",
      "indext => 0.69%\n",
      "canal_entrada => 0.71%\n",
      "indfall => 0.69%\n",
      "tipodom => 0.69%\n",
      "cod_prov => 1.29%\n",
      "nomprov => 1.29%\n",
      "ind_actividad_cliente => 0.69%\n",
      "GrossIncome => 17.53%\n",
      "segmentation => 0.71%\n",
      "P_Payroll => 0.4%\n"
     ]
    }
   ],
   "source": [
    "perc_missing(fill_min_df)\n"
   ]
  },
  {
   "cell_type": "code",
   "execution_count": 8,
   "id": "aad1a360",
   "metadata": {},
   "outputs": [],
   "source": [
    "num_df_min= fill_min_df.select_dtypes(exclude=['object'])"
   ]
  },
  {
   "cell_type": "code",
   "execution_count": 9,
   "id": "1d2a83ec",
   "metadata": {},
   "outputs": [],
   "source": [
    "def MinFill(df):\n",
    "   \n",
    "     for col in df.columns:\n",
    "        pct = df[col].isna().mean() * 100\n",
    "\n",
    "        if (pct != 0):\n",
    "            # imputing price with mean\n",
    "            column = df[col]\n",
    "            max_value = column.min()\n",
    "            df[col].fillna(max_value, inplace=True)\n",
    "    \n",
    "    \n",
    "MinFill(num_df_min)"
   ]
  },
  {
   "cell_type": "markdown",
   "id": "30c4cb6a",
   "metadata": {},
   "source": [
    "<h3 align=\"center \" style=\"color:#8F7C8F\">mode for  non numeric values </h3>\n"
   ]
  },
  {
   "cell_type": "code",
   "execution_count": 11,
   "id": "1177c323",
   "metadata": {},
   "outputs": [],
   "source": [
    "def modeFill(fill_mean_df):\n",
    "   \n",
    "    for col in fill_mean_df.columns:\n",
    "        pct = fill_mean_df[col].isna().mean() * 100\n",
    "        if (pct != 0):\n",
    "#             print(fill_mean_df[col].mode()+\"------\")\n",
    "            fill_mean_df[col].fillna(fill_mean_df[col].mode()[0], inplace=True)\n",
    "    \n"
   ]
  },
  {
   "cell_type": "code",
   "execution_count": 12,
   "id": "42afaac9",
   "metadata": {},
   "outputs": [],
   "source": [
    "modeFill(fill_min_df)"
   ]
  },
  {
   "cell_type": "code",
   "execution_count": 13,
   "id": "867655a1",
   "metadata": {},
   "outputs": [],
   "source": [
    "perc_missing(fill_min_df)\n"
   ]
  },
  {
   "cell_type": "markdown",
   "id": "85b11508",
   "metadata": {},
   "source": [
    "<h3 align=\"center \" style=\"color:#8F7C8F\">Save the dataset  </h3>\n"
   ]
  },
  {
   "cell_type": "code",
   "execution_count": 15,
   "id": "511272f0",
   "metadata": {},
   "outputs": [],
   "source": [
    "fill_min_df.to_csv(\"./afterCleaning/fill_min_df.csv\") \n"
   ]
  },
  {
   "cell_type": "code",
   "execution_count": null,
   "id": "66958816",
   "metadata": {},
   "outputs": [],
   "source": []
  }
 ],
 "metadata": {
  "kernelspec": {
   "display_name": "Python 3 (ipykernel)",
   "language": "python",
   "name": "python3"
  },
  "language_info": {
   "codemirror_mode": {
    "name": "ipython",
    "version": 3
   },
   "file_extension": ".py",
   "mimetype": "text/x-python",
   "name": "python",
   "nbconvert_exporter": "python",
   "pygments_lexer": "ipython3",
   "version": "3.9.12"
  }
 },
 "nbformat": 4,
 "nbformat_minor": 5
}
