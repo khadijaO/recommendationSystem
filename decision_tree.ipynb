{
 "cells": [
  {
   "cell_type": "code",
   "execution_count": 1,
   "id": "954cd4ab",
   "metadata": {},
   "outputs": [
    {
     "name": "stdout",
     "output_type": "stream",
     "text": [
      "%pylab is deprecated, use %matplotlib inline and import the required libraries.\n",
      "Populating the interactive namespace from numpy and matplotlib\n"
     ]
    }
   ],
   "source": [
    "#Importing Libraries\n",
    "import numpy as np\n",
    "import pandas as pd\n",
    "import seaborn as sns\n",
    "import matplotlib.pyplot as plt\n",
    "%pylab inline\n",
    "pylab.rcParams['figure.figsize'] = (10, 6)\n",
    "\n",
    "\n",
    "import warnings\n",
    "warnings.filterwarnings(\"ignore\")\n",
    "\n",
    "color = sns.color_palette()\n"
   ]
  },
  {
   "cell_type": "code",
   "execution_count": 2,
   "id": "1d1456d5",
   "metadata": {},
   "outputs": [],
   "source": [
    "df           = pd.read_csv(\"./afterCleaning/backFill_df.csv\",dtype={\"sexo\":str,\n",
    "                                                    \"ind_nuevo\":str,\n",
    "                                                    \"ult_fec_cli_1t\":str,\n",
    "                   \n",
    "                                                   \"indext\":str},low_memory=False)\n"
   ]
  },
  {
   "cell_type": "code",
   "execution_count": 3,
   "id": "410b9b1e",
   "metadata": {},
   "outputs": [
    {
     "data": {
      "text/plain": [
       "(4000000, 45)"
      ]
     },
     "execution_count": 3,
     "metadata": {},
     "output_type": "execute_result"
    }
   ],
   "source": [
    "df.shape"
   ]
  },
  {
   "cell_type": "code",
   "execution_count": 4,
   "id": "8a65feee",
   "metadata": {},
   "outputs": [
    {
     "data": {
      "text/plain": [
       "Index(['fecha_dato', 'CustomerCode', 'EmployeeIndex', 'CustomerRresidence',\n",
       "       'sexe', 'age', 'FirstContractDate', 'ind_nuevo', 'seniority', 'indrel',\n",
       "       'indrel_1mes', 'tiprel_1mes', 'indresi', 'indext', 'canal_entrada',\n",
       "       'indfall', 'tipodom', 'cod_prov', 'nomprov', 'ind_actividad_cliente',\n",
       "       'GrossIncome', 'segmentation', 'P_SavingAccount', 'P_Garantees',\n",
       "       'P_CurrentAccounts', 'P_Derivada_Account ', 'P_PayrollAccount',\n",
       "       'P_JuniorAccount', 'P_MásParticularAccount', 'P_ParticularAccount',\n",
       "       'P_ParticularPlusAccount', 'P_ShortTermDeposits',\n",
       "       'P_MeduimTermDeposits', 'P_LongTermDeposits', 'P_eAccount', 'P_Funds',\n",
       "       'P_Mortgage', 'P_Pensions', 'P_Loans', 'P_Taxes', 'P_CreditCard',\n",
       "       'P_securities', 'P_HomeAccount', 'P_Payroll', 'P_DirectDebit'],\n",
       "      dtype='object')"
      ]
     },
     "execution_count": 4,
     "metadata": {},
     "output_type": "execute_result"
    }
   ],
   "source": [
    "df.columns"
   ]
  },
  {
   "cell_type": "markdown",
   "id": "67635520",
   "metadata": {},
   "source": [
    "### Employee Status\n",
    "Employee index: A active, B ex employed, F filial, N not employee, P pasiv"
   ]
  },
  {
   "cell_type": "code",
   "execution_count": 5,
   "id": "7bc9acce",
   "metadata": {},
   "outputs": [
    {
     "name": "stdout",
     "output_type": "stream",
     "text": [
      "Number of unique values in Employee Status :  5\n"
     ]
    },
    {
     "data": {
      "text/plain": [
       "Text(0, 0.5, 'Number of Employees')"
      ]
     },
     "execution_count": 5,
     "metadata": {},
     "output_type": "execute_result"
    },
    {
     "data": {
      "image/png": "[encoded data removed]",
      "text/plain": [
       "<Figure size 720x432 with 1 Axes>"
      ]
     },
     "metadata": {
      "needs_background": "light"
     },
     "output_type": "display_data"
    }
   ],
   "source": [
    "EmployeeIndex = df.EmployeeIndex.value_counts()\n",
    "len_unique = len(EmployeeIndex)\n",
    "print(\"Number of unique values in Employee Status : \",len_unique)\n",
    "plt.figure(figsize=(10,6))\n",
    "plt.ticklabel_format(style = 'plain')\n",
    "sns.barplot(EmployeeIndex.index, EmployeeIndex.values, alpha=0.8, color=color[0])\n",
    "plt.title('Employee Status')\n",
    "plt.xlabel('Employee Status')\n",
    "plt.ylabel('Number of Employees')"
   ]
  },
  {
   "cell_type": "markdown",
   "id": "90176346",
   "metadata": {},
   "source": [
    "__ Il semble qu'il y ait des employés avec un statut autre que 'N' mais cela ne s'affiche pas. Essayons de prendre le journal de comptage."
   ]
  },
  {
   "cell_type": "code",
   "execution_count": 6,
   "id": "b8a2e1fa",
   "metadata": {
    "scrolled": true
   },
   "outputs": [
    {
     "name": "stdout",
     "output_type": "stream",
     "text": [
      "Number of unique values in Employee Status :  5\n"
     ]
    },
    {
     "data": {
      "text/plain": [
       "Text(0, 0.5, 'Number of Employees-Log')"
      ]
     },
     "execution_count": 6,
     "metadata": {},
     "output_type": "execute_result"
    },
    {
     "data": {
      "image/png": "[encoded data removed]",
      "text/plain": [
       "<Figure size 720x432 with 1 Axes>"
      ]
     },
     "metadata": {
      "needs_background": "light"
     },
     "output_type": "display_data"
    }
   ],
   "source": [
    "print(\"Number of unique values in Employee Status : \",len_unique)\n",
    "plt.figure(figsize=(10,6))\n",
    "sns.barplot(EmployeeIndex.index, np.log1p(EmployeeIndex.values), alpha=0.8, color=color[0])\n",
    "plt.title('Employee Status')\n",
    "plt.xlabel('Employee Status')\n",
    "plt.ylabel('Number of Employees-Log')"
   ]
  },
  {
   "cell_type": "markdown",
   "id": "b8503e6e",
   "metadata": {},
   "source": [
    "### Customer Country"
   ]
  },
  {
   "cell_type": "code",
   "execution_count": 7,
   "id": "3761efa6",
   "metadata": {},
   "outputs": [
    {
     "name": "stdout",
     "output_type": "stream",
     "text": [
      "Number of unique values in Cusotmer Country :  114\n"
     ]
    },
    {
     "data": {
      "text/plain": [
       "Text(0, 0.5, 'Number of Employees')"
      ]
     },
     "execution_count": 7,
     "metadata": {},
     "output_type": "execute_result"
    },
    {
     "data": {
      "image/png": "[encoded data removed]",
      "text/plain": [
       "<Figure size 2160x432 with 1 Axes>"
      ]
     },
     "metadata": {
      "needs_background": "light"
     },
     "output_type": "display_data"
    }
   ],
   "source": [
    "CustomerRresidence = df['CustomerRresidence'].value_counts()\n",
    "len_unique = len(CustomerRresidence)\n",
    "print(\"Number of unique values in Cusotmer Country : \",len_unique)\n",
    "\n",
    "plt.figure(figsize=(30,6))\n",
    "sns.barplot(CustomerRresidence.index, np.log1p(CustomerRresidence.values), alpha=0.8, color=color[0])\n",
    "plt.title('Customer\\'s Country of Residence')\n",
    "plt.xlabel('Customer\\'s Country')\n",
    "plt.ylabel('Number of Employees')"
   ]
  },
  {
   "cell_type": "markdown",
   "id": "be7214ec",
   "metadata": {},
   "source": [
    "### Customer's Sex\n"
   ]
  },
  {
   "cell_type": "code",
   "execution_count": 8,
   "id": "dbeb0349",
   "metadata": {},
   "outputs": [
    {
     "name": "stdout",
     "output_type": "stream",
     "text": [
      "Number of unique values in Customer Sex :  2\n"
     ]
    },
    {
     "data": {
      "text/plain": [
       "Text(0, 0.5, 'Number of Employees')"
      ]
     },
     "execution_count": 8,
     "metadata": {},
     "output_type": "execute_result"
    },
    {
     "data": {
      "image/png": "[encoded data removed]",
      "text/plain": [
       "<Figure size 720x432 with 1 Axes>"
      ]
     },
     "metadata": {
      "needs_background": "light"
     },
     "output_type": "display_data"
    }
   ],
   "source": [
    "sexe = df['sexe'].value_counts()\n",
    "len_unique = len(sexe)\n",
    "print(\"Number of unique values in Customer Sex : \",len_unique)\n",
    "\n",
    "plt.figure(figsize=(10,6))\n",
    "sns.barplot(sexe.index, np.log1p(sexe.values), alpha=0.8, color=color[0])\n",
    "plt.title('Customer\\'s Sex')\n",
    "plt.xlabel('Customer\\'s Sex')\n",
    "plt.ylabel('Number of Employees')"
   ]
  },
  {
   "cell_type": "markdown",
   "id": "a7ea1117",
   "metadata": {},
   "source": [
    "### Customer's Age"
   ]
  },
  {
   "cell_type": "markdown",
   "id": "afef342b",
   "metadata": {},
   "source": [
    "### Customer's Join Dates\n",
    "#### Join Months"
   ]
  },
  {
   "cell_type": "markdown",
   "id": "0d3bdb99",
   "metadata": {},
   "source": [
    "### Target Variables\n",
    "#### Popular Product"
   ]
  },
  {
   "cell_type": "code",
   "execution_count": 9,
   "id": "a7601681",
   "metadata": {},
   "outputs": [
    {
     "data": {
      "text/plain": [
       "Index(['P_SavingAccount', 'P_Garantees', 'P_CurrentAccounts',\n",
       "       'P_Derivada_Account ', 'P_PayrollAccount', 'P_JuniorAccount',\n",
       "       'P_MásParticularAccount', 'P_ParticularAccount',\n",
       "       'P_ParticularPlusAccount', 'P_ShortTermDeposits',\n",
       "       'P_MeduimTermDeposits', 'P_LongTermDeposits', 'P_eAccount', 'P_Funds',\n",
       "       'P_Mortgage', 'P_Pensions', 'P_Loans', 'P_Taxes', 'P_CreditCard',\n",
       "       'P_securities', 'P_HomeAccount', 'P_Payroll', 'P_DirectDebit'],\n",
       "      dtype='object')"
      ]
     },
     "execution_count": 9,
     "metadata": {},
     "output_type": "execute_result"
    }
   ],
   "source": [
    "df.columns[22:]"
   ]
  },
  {
   "cell_type": "code",
   "execution_count": 10,
   "id": "d8df31c8",
   "metadata": {},
   "outputs": [
    {
     "data": {
      "image/png": "[encoded data removed]",
      "text/plain": [
       "<Figure size 1080x288 with 1 Axes>"
      ]
     },
     "metadata": {
      "needs_background": "light"
     },
     "output_type": "display_data"
    }
   ],
   "source": [
    "target_variables = list(df.columns[24:])\n",
    "target_counts = df[target_variables].astype('float64').sum(axis=0)\n",
    "plt.figure(figsize=(15,4))\n",
    "sns.barplot(target_counts.index, target_counts.values, alpha=0.8, color=color[0])\n",
    "plt.xlabel('Product Name', fontsize=12)\n",
    "plt.ylabel('Number of Customers bought product', fontsize=12)\n",
    "plt.ticklabel_format(style = 'plain', axis='y')\n",
    "plt.xticks(rotation='vertical')\n",
    "plt.show()"
   ]
  },
  {
   "cell_type": "markdown",
   "id": "8a0ec66d",
   "metadata": {},
   "source": [
    "#### Popularity of products by Sex and Activity Index"
   ]
  },
  {
   "cell_type": "markdown",
   "id": "71645207",
   "metadata": {},
   "source": [
    "#### Popularity of products by Sex and Activity Index Activity index (1, active customer; 0, inactive customer)"
   ]
  },
  {
   "cell_type": "code",
   "execution_count": 11,
   "id": "df4345ba",
   "metadata": {},
   "outputs": [
    {
     "data": {
      "text/html": [
       "<div>\n",
       "<style scoped>\n",
       "    .dataframe tbody tr th:only-of-type {\n",
       "        vertical-align: middle;\n",
       "    }\n",
       "\n",
       "    .dataframe tbody tr th {\n",
       "        vertical-align: top;\n",
       "    }\n",
       "\n",
       "    .dataframe thead tr th {\n",
       "        text-align: left;\n",
       "    }\n",
       "</style>\n",
       "<table border=\"1\" class=\"dataframe\">\n",
       "  <thead>\n",
       "    <tr>\n",
       "      <th>sexe</th>\n",
       "      <th colspan=\"2\" halign=\"left\">H</th>\n",
       "      <th colspan=\"2\" halign=\"left\">V</th>\n",
       "    </tr>\n",
       "    <tr>\n",
       "      <th>ind_actividad_cliente</th>\n",
       "      <th>0.0</th>\n",
       "      <th>1.0</th>\n",
       "      <th>0.0</th>\n",
       "      <th>1.0</th>\n",
       "    </tr>\n",
       "  </thead>\n",
       "  <tbody>\n",
       "    <tr>\n",
       "      <th>P_SavingAccount</th>\n",
       "      <td>51.0</td>\n",
       "      <td>86.0</td>\n",
       "      <td>100.0</td>\n",
       "      <td>301.0</td>\n",
       "    </tr>\n",
       "    <tr>\n",
       "      <th>P_Garantees</th>\n",
       "      <td>0.0</td>\n",
       "      <td>35.0</td>\n",
       "      <td>0.0</td>\n",
       "      <td>94.0</td>\n",
       "    </tr>\n",
       "    <tr>\n",
       "      <th>P_CurrentAccounts</th>\n",
       "      <td>747674.0</td>\n",
       "      <td>669426.0</td>\n",
       "      <td>723718.0</td>\n",
       "      <td>918862.0</td>\n",
       "    </tr>\n",
       "    <tr>\n",
       "      <th>P_Derivada_Account</th>\n",
       "      <td>45.0</td>\n",
       "      <td>242.0</td>\n",
       "      <td>146.0</td>\n",
       "      <td>1539.0</td>\n",
       "    </tr>\n",
       "    <tr>\n",
       "      <th>P_PayrollAccount</th>\n",
       "      <td>2654.0</td>\n",
       "      <td>151632.0</td>\n",
       "      <td>3378.0</td>\n",
       "      <td>223141.0</td>\n",
       "    </tr>\n",
       "    <tr>\n",
       "      <th>P_JuniorAccount</th>\n",
       "      <td>4350.0</td>\n",
       "      <td>19727.0</td>\n",
       "      <td>5144.0</td>\n",
       "      <td>20708.0</td>\n",
       "    </tr>\n",
       "    <tr>\n",
       "      <th>P_MásParticularAccount</th>\n",
       "      <td>4751.0</td>\n",
       "      <td>16060.0</td>\n",
       "      <td>7768.0</td>\n",
       "      <td>23033.0</td>\n",
       "    </tr>\n",
       "    <tr>\n",
       "      <th>P_ParticularAccount</th>\n",
       "      <td>80297.0</td>\n",
       "      <td>166427.0</td>\n",
       "      <td>130579.0</td>\n",
       "      <td>277945.0</td>\n",
       "    </tr>\n",
       "    <tr>\n",
       "      <th>P_ParticularPlusAccount</th>\n",
       "      <td>16876.0</td>\n",
       "      <td>73394.0</td>\n",
       "      <td>25200.0</td>\n",
       "      <td>116750.0</td>\n",
       "    </tr>\n",
       "    <tr>\n",
       "      <th>P_ShortTermDeposits</th>\n",
       "      <td>1047.0</td>\n",
       "      <td>4167.0</td>\n",
       "      <td>1496.0</td>\n",
       "      <td>5849.0</td>\n",
       "    </tr>\n",
       "    <tr>\n",
       "      <th>P_MeduimTermDeposits</th>\n",
       "      <td>14.0</td>\n",
       "      <td>4045.0</td>\n",
       "      <td>62.0</td>\n",
       "      <td>5684.0</td>\n",
       "    </tr>\n",
       "    <tr>\n",
       "      <th>P_LongTermDeposits</th>\n",
       "      <td>1043.0</td>\n",
       "      <td>87977.0</td>\n",
       "      <td>1631.0</td>\n",
       "      <td>132827.0</td>\n",
       "    </tr>\n",
       "    <tr>\n",
       "      <th>P_eAccount</th>\n",
       "      <td>10414.0</td>\n",
       "      <td>139101.0</td>\n",
       "      <td>18100.0</td>\n",
       "      <td>222188.0</td>\n",
       "    </tr>\n",
       "    <tr>\n",
       "      <th>P_Funds</th>\n",
       "      <td>344.0</td>\n",
       "      <td>27335.0</td>\n",
       "      <td>617.0</td>\n",
       "      <td>62783.0</td>\n",
       "    </tr>\n",
       "    <tr>\n",
       "      <th>P_Mortgage</th>\n",
       "      <td>65.0</td>\n",
       "      <td>8586.0</td>\n",
       "      <td>154.0</td>\n",
       "      <td>21604.0</td>\n",
       "    </tr>\n",
       "    <tr>\n",
       "      <th>P_Pensions</th>\n",
       "      <td>134.0</td>\n",
       "      <td>16721.0</td>\n",
       "      <td>248.0</td>\n",
       "      <td>28408.0</td>\n",
       "    </tr>\n",
       "    <tr>\n",
       "      <th>P_Loans</th>\n",
       "      <td>1080.0</td>\n",
       "      <td>3730.0</td>\n",
       "      <td>2071.0</td>\n",
       "      <td>8281.0</td>\n",
       "    </tr>\n",
       "    <tr>\n",
       "      <th>P_Taxes</th>\n",
       "      <td>5869.0</td>\n",
       "      <td>81855.0</td>\n",
       "      <td>13806.0</td>\n",
       "      <td>149237.0</td>\n",
       "    </tr>\n",
       "    <tr>\n",
       "      <th>P_CreditCard</th>\n",
       "      <td>1105.0</td>\n",
       "      <td>76176.0</td>\n",
       "      <td>1757.0</td>\n",
       "      <td>144996.0</td>\n",
       "    </tr>\n",
       "    <tr>\n",
       "      <th>P_securities</th>\n",
       "      <td>496.0</td>\n",
       "      <td>35404.0</td>\n",
       "      <td>1129.0</td>\n",
       "      <td>87801.0</td>\n",
       "    </tr>\n",
       "    <tr>\n",
       "      <th>P_HomeAccount</th>\n",
       "      <td>1634.0</td>\n",
       "      <td>5878.0</td>\n",
       "      <td>2738.0</td>\n",
       "      <td>9672.0</td>\n",
       "    </tr>\n",
       "    <tr>\n",
       "      <th>P_Payroll</th>\n",
       "      <td>736.0</td>\n",
       "      <td>107119.0</td>\n",
       "      <td>960.0</td>\n",
       "      <td>153957.0</td>\n",
       "    </tr>\n",
       "    <tr>\n",
       "      <th>P_DirectDebit</th>\n",
       "      <td>2693.0</td>\n",
       "      <td>234638.0</td>\n",
       "      <td>4050.0</td>\n",
       "      <td>365006.0</td>\n",
       "    </tr>\n",
       "  </tbody>\n",
       "</table>\n",
       "</div>"
      ],
      "text/plain": [
       "sexe                            H                   V          \n",
       "ind_actividad_cliente         0.0       1.0       0.0       1.0\n",
       "P_SavingAccount              51.0      86.0     100.0     301.0\n",
       "P_Garantees                   0.0      35.0       0.0      94.0\n",
       "P_CurrentAccounts        747674.0  669426.0  723718.0  918862.0\n",
       "P_Derivada_Account           45.0     242.0     146.0    1539.0\n",
       "P_PayrollAccount           2654.0  151632.0    3378.0  223141.0\n",
       "P_JuniorAccount            4350.0   19727.0    5144.0   20708.0\n",
       "P_MásParticularAccount     4751.0   16060.0    7768.0   23033.0\n",
       "P_ParticularAccount       80297.0  166427.0  130579.0  277945.0\n",
       "P_ParticularPlusAccount   16876.0   73394.0   25200.0  116750.0\n",
       "P_ShortTermDeposits        1047.0    4167.0    1496.0    5849.0\n",
       "P_MeduimTermDeposits         14.0    4045.0      62.0    5684.0\n",
       "P_LongTermDeposits         1043.0   87977.0    1631.0  132827.0\n",
       "P_eAccount                10414.0  139101.0   18100.0  222188.0\n",
       "P_Funds                     344.0   27335.0     617.0   62783.0\n",
       "P_Mortgage                   65.0    8586.0     154.0   21604.0\n",
       "P_Pensions                  134.0   16721.0     248.0   28408.0\n",
       "P_Loans                    1080.0    3730.0    2071.0    8281.0\n",
       "P_Taxes                    5869.0   81855.0   13806.0  149237.0\n",
       "P_CreditCard               1105.0   76176.0    1757.0  144996.0\n",
       "P_securities                496.0   35404.0    1129.0   87801.0\n",
       "P_HomeAccount              1634.0    5878.0    2738.0    9672.0\n",
       "P_Payroll                   736.0  107119.0     960.0  153957.0\n",
       "P_DirectDebit              2693.0  234638.0    4050.0  365006.0"
      ]
     },
     "execution_count": 11,
     "metadata": {},
     "output_type": "execute_result"
    }
   ],
   "source": [
    "df_a = df.loc[:, ['sexe', 'ind_actividad_cliente']].join(df.loc[:, \"P_SavingAccount\": \"P_DirectDebit\"])\n",
    "df_a = df_a.groupby(['sexe', 'ind_actividad_cliente']).sum()\n",
    "df_a = df_a.T\n",
    "df_a.head(24)"
   ]
  },
  {
   "cell_type": "code",
   "execution_count": 12,
   "id": "7a2af537",
   "metadata": {},
   "outputs": [
    {
     "data": {
      "text/plain": [
       "<matplotlib.legend.Legend at 0x15fa53acb80>"
      ]
     },
     "execution_count": 12,
     "metadata": {},
     "output_type": "execute_result"
    },
    {
     "data": {
      "image/png": "[encoded data removed]",
      "text/plain": [
       "<Figure size 1152x864 with 1 Axes>"
      ]
     },
     "metadata": {
      "needs_background": "light"
     },
     "output_type": "display_data"
    }
   ],
   "source": [
    "df_a.plot(kind='barh', fontsize=14, figsize=[16,12], colormap='jet', width=1)\n",
    "plt.title('Popularity of products by sex and activity index', fontsize=20) \n",
    "plt.xlabel('Number of customers', fontsize=17) \n",
    "plt.ylabel('Products_names', fontsize=17) \n",
    "plt.legend([\"Sex:H; Activity_Ind:0(Inactive)\", \"Sex:H; Activity_Ind:1(Active)\", \"Sex:V; Activity_Ind:0(Inactive)\", \n",
    "            \"Sex:V; Activity_Ind:1(Active)\"], prop={'size':15}) "
   ]
  },
  {
   "cell_type": "code",
   "execution_count": 13,
   "id": "45fb1a12",
   "metadata": {},
   "outputs": [],
   "source": [
    "exclude = ['P_CurrentAccounts']\n",
    "df_a = df_a.T\n",
    "df_a = df_a.drop(exclude, axis=1).T"
   ]
  },
  {
   "cell_type": "code",
   "execution_count": 14,
   "id": "0f667193",
   "metadata": {},
   "outputs": [
    {
     "data": {
      "text/plain": [
       "<matplotlib.legend.Legend at 0x15fa56917f0>"
      ]
     },
     "execution_count": 14,
     "metadata": {},
     "output_type": "execute_result"
    },
    {
     "data": {
      "image/png": "[encoded data removed]",
      "text/plain": [
       "<Figure size 1152x1440 with 1 Axes>"
      ]
     },
     "metadata": {
      "needs_background": "light"
     },
     "output_type": "display_data"
    }
   ],
   "source": [
    "df_a.plot(kind='barh', fontsize=14, figsize=[16,20], colormap='jet', width=1.5)\n",
    "plt.title('Popularity of products by sex and activity index', fontsize=20) \n",
    "plt.xlabel('Number of customers', fontsize=17) \n",
    "plt.ylabel('Products_names', fontsize=17) \n",
    "plt.legend([\"Sex:H; Activity_Ind:0(Inactive)\", \"Sex:H; Activity_Ind:1(Active)\", \"Sex:V; Activity_Ind:0(Inactive)\", \n",
    "            \"Sex:V; Activity_Ind:1(Active)\"], prop={'size':15}) "
   ]
  },
  {
   "cell_type": "markdown",
   "id": "1a407284",
   "metadata": {},
   "source": [
    "Comprenons combien de clients détiennent des garanties et des comptes d'épargne en excluant tous les autres comptes"
   ]
  },
  {
   "cell_type": "code",
   "execution_count": 15,
   "id": "2799b440",
   "metadata": {},
   "outputs": [],
   "source": [
    "tmp = df.head()"
   ]
  },
  {
   "cell_type": "code",
   "execution_count": 16,
   "id": "fbf5f777",
   "metadata": {},
   "outputs": [
    {
     "data": {
      "text/html": [
       "<div>\n",
       "<style scoped>\n",
       "    .dataframe tbody tr th:only-of-type {\n",
       "        vertical-align: middle;\n",
       "    }\n",
       "\n",
       "    .dataframe tbody tr th {\n",
       "        vertical-align: top;\n",
       "    }\n",
       "\n",
       "    .dataframe thead tr th {\n",
       "        text-align: left;\n",
       "    }\n",
       "</style>\n",
       "<table border=\"1\" class=\"dataframe\">\n",
       "  <thead>\n",
       "    <tr>\n",
       "      <th>sexe</th>\n",
       "      <th colspan=\"2\" halign=\"left\">H</th>\n",
       "      <th colspan=\"2\" halign=\"left\">V</th>\n",
       "    </tr>\n",
       "    <tr>\n",
       "      <th>ind_actividad_cliente</th>\n",
       "      <th>0.0</th>\n",
       "      <th>1.0</th>\n",
       "      <th>0.0</th>\n",
       "      <th>1.0</th>\n",
       "    </tr>\n",
       "  </thead>\n",
       "  <tbody>\n",
       "    <tr>\n",
       "      <th>P_SavingAccount</th>\n",
       "      <td>51.0</td>\n",
       "      <td>86.0</td>\n",
       "      <td>100.0</td>\n",
       "      <td>301.0</td>\n",
       "    </tr>\n",
       "    <tr>\n",
       "      <th>P_Garantees</th>\n",
       "      <td>0.0</td>\n",
       "      <td>35.0</td>\n",
       "      <td>0.0</td>\n",
       "      <td>94.0</td>\n",
       "    </tr>\n",
       "    <tr>\n",
       "      <th>P_Derivada_Account</th>\n",
       "      <td>45.0</td>\n",
       "      <td>242.0</td>\n",
       "      <td>146.0</td>\n",
       "      <td>1539.0</td>\n",
       "    </tr>\n",
       "    <tr>\n",
       "      <th>P_PayrollAccount</th>\n",
       "      <td>2654.0</td>\n",
       "      <td>151632.0</td>\n",
       "      <td>3378.0</td>\n",
       "      <td>223141.0</td>\n",
       "    </tr>\n",
       "    <tr>\n",
       "      <th>P_JuniorAccount</th>\n",
       "      <td>4350.0</td>\n",
       "      <td>19727.0</td>\n",
       "      <td>5144.0</td>\n",
       "      <td>20708.0</td>\n",
       "    </tr>\n",
       "    <tr>\n",
       "      <th>P_MásParticularAccount</th>\n",
       "      <td>4751.0</td>\n",
       "      <td>16060.0</td>\n",
       "      <td>7768.0</td>\n",
       "      <td>23033.0</td>\n",
       "    </tr>\n",
       "    <tr>\n",
       "      <th>P_ParticularAccount</th>\n",
       "      <td>80297.0</td>\n",
       "      <td>166427.0</td>\n",
       "      <td>130579.0</td>\n",
       "      <td>277945.0</td>\n",
       "    </tr>\n",
       "    <tr>\n",
       "      <th>P_ParticularPlusAccount</th>\n",
       "      <td>16876.0</td>\n",
       "      <td>73394.0</td>\n",
       "      <td>25200.0</td>\n",
       "      <td>116750.0</td>\n",
       "    </tr>\n",
       "    <tr>\n",
       "      <th>P_ShortTermDeposits</th>\n",
       "      <td>1047.0</td>\n",
       "      <td>4167.0</td>\n",
       "      <td>1496.0</td>\n",
       "      <td>5849.0</td>\n",
       "    </tr>\n",
       "    <tr>\n",
       "      <th>P_MeduimTermDeposits</th>\n",
       "      <td>14.0</td>\n",
       "      <td>4045.0</td>\n",
       "      <td>62.0</td>\n",
       "      <td>5684.0</td>\n",
       "    </tr>\n",
       "    <tr>\n",
       "      <th>P_LongTermDeposits</th>\n",
       "      <td>1043.0</td>\n",
       "      <td>87977.0</td>\n",
       "      <td>1631.0</td>\n",
       "      <td>132827.0</td>\n",
       "    </tr>\n",
       "    <tr>\n",
       "      <th>P_eAccount</th>\n",
       "      <td>10414.0</td>\n",
       "      <td>139101.0</td>\n",
       "      <td>18100.0</td>\n",
       "      <td>222188.0</td>\n",
       "    </tr>\n",
       "    <tr>\n",
       "      <th>P_Funds</th>\n",
       "      <td>344.0</td>\n",
       "      <td>27335.0</td>\n",
       "      <td>617.0</td>\n",
       "      <td>62783.0</td>\n",
       "    </tr>\n",
       "    <tr>\n",
       "      <th>P_Mortgage</th>\n",
       "      <td>65.0</td>\n",
       "      <td>8586.0</td>\n",
       "      <td>154.0</td>\n",
       "      <td>21604.0</td>\n",
       "    </tr>\n",
       "    <tr>\n",
       "      <th>P_Pensions</th>\n",
       "      <td>134.0</td>\n",
       "      <td>16721.0</td>\n",
       "      <td>248.0</td>\n",
       "      <td>28408.0</td>\n",
       "    </tr>\n",
       "    <tr>\n",
       "      <th>P_Loans</th>\n",
       "      <td>1080.0</td>\n",
       "      <td>3730.0</td>\n",
       "      <td>2071.0</td>\n",
       "      <td>8281.0</td>\n",
       "    </tr>\n",
       "    <tr>\n",
       "      <th>P_Taxes</th>\n",
       "      <td>5869.0</td>\n",
       "      <td>81855.0</td>\n",
       "      <td>13806.0</td>\n",
       "      <td>149237.0</td>\n",
       "    </tr>\n",
       "    <tr>\n",
       "      <th>P_CreditCard</th>\n",
       "      <td>1105.0</td>\n",
       "      <td>76176.0</td>\n",
       "      <td>1757.0</td>\n",
       "      <td>144996.0</td>\n",
       "    </tr>\n",
       "    <tr>\n",
       "      <th>P_securities</th>\n",
       "      <td>496.0</td>\n",
       "      <td>35404.0</td>\n",
       "      <td>1129.0</td>\n",
       "      <td>87801.0</td>\n",
       "    </tr>\n",
       "    <tr>\n",
       "      <th>P_HomeAccount</th>\n",
       "      <td>1634.0</td>\n",
       "      <td>5878.0</td>\n",
       "      <td>2738.0</td>\n",
       "      <td>9672.0</td>\n",
       "    </tr>\n",
       "    <tr>\n",
       "      <th>P_Payroll</th>\n",
       "      <td>736.0</td>\n",
       "      <td>107119.0</td>\n",
       "      <td>960.0</td>\n",
       "      <td>153957.0</td>\n",
       "    </tr>\n",
       "    <tr>\n",
       "      <th>P_DirectDebit</th>\n",
       "      <td>2693.0</td>\n",
       "      <td>234638.0</td>\n",
       "      <td>4050.0</td>\n",
       "      <td>365006.0</td>\n",
       "    </tr>\n",
       "  </tbody>\n",
       "</table>\n",
       "</div>"
      ],
      "text/plain": [
       "sexe                           H                   V          \n",
       "ind_actividad_cliente        0.0       1.0       0.0       1.0\n",
       "P_SavingAccount             51.0      86.0     100.0     301.0\n",
       "P_Garantees                  0.0      35.0       0.0      94.0\n",
       "P_Derivada_Account          45.0     242.0     146.0    1539.0\n",
       "P_PayrollAccount          2654.0  151632.0    3378.0  223141.0\n",
       "P_JuniorAccount           4350.0   19727.0    5144.0   20708.0\n",
       "P_MásParticularAccount    4751.0   16060.0    7768.0   23033.0\n",
       "P_ParticularAccount      80297.0  166427.0  130579.0  277945.0\n",
       "P_ParticularPlusAccount  16876.0   73394.0   25200.0  116750.0\n",
       "P_ShortTermDeposits       1047.0    4167.0    1496.0    5849.0\n",
       "P_MeduimTermDeposits        14.0    4045.0      62.0    5684.0\n",
       "P_LongTermDeposits        1043.0   87977.0    1631.0  132827.0\n",
       "P_eAccount               10414.0  139101.0   18100.0  222188.0\n",
       "P_Funds                    344.0   27335.0     617.0   62783.0\n",
       "P_Mortgage                  65.0    8586.0     154.0   21604.0\n",
       "P_Pensions                 134.0   16721.0     248.0   28408.0\n",
       "P_Loans                   1080.0    3730.0    2071.0    8281.0\n",
       "P_Taxes                   5869.0   81855.0   13806.0  149237.0\n",
       "P_CreditCard              1105.0   76176.0    1757.0  144996.0\n",
       "P_securities               496.0   35404.0    1129.0   87801.0\n",
       "P_HomeAccount             1634.0    5878.0    2738.0    9672.0\n",
       "P_Payroll                  736.0  107119.0     960.0  153957.0\n",
       "P_DirectDebit             2693.0  234638.0    4050.0  365006.0"
      ]
     },
     "execution_count": 16,
     "metadata": {},
     "output_type": "execute_result"
    }
   ],
   "source": [
    "df_a"
   ]
  },
  {
   "cell_type": "markdown",
   "id": "83cabe9b",
   "metadata": {},
   "source": [
    "#### Popularity of products by household income"
   ]
  },
  {
   "cell_type": "code",
   "execution_count": 17,
   "id": "f365ab76",
   "metadata": {
    "scrolled": true
   },
   "outputs": [
    {
     "data": {
      "text/html": [
       "<div>\n",
       "<style scoped>\n",
       "    .dataframe tbody tr th:only-of-type {\n",
       "        vertical-align: middle;\n",
       "    }\n",
       "\n",
       "    .dataframe tbody tr th {\n",
       "        vertical-align: top;\n",
       "    }\n",
       "\n",
       "    .dataframe thead th {\n",
       "        text-align: right;\n",
       "    }\n",
       "</style>\n",
       "<table border=\"1\" class=\"dataframe\">\n",
       "  <thead>\n",
       "    <tr style=\"text-align: right;\">\n",
       "      <th></th>\n",
       "      <th>P_SavingAccount</th>\n",
       "      <th>P_Garantees</th>\n",
       "      <th>P_CurrentAccounts</th>\n",
       "      <th>P_Derivada_Account</th>\n",
       "      <th>P_PayrollAccount</th>\n",
       "      <th>P_JuniorAccount</th>\n",
       "      <th>P_MásParticularAccount</th>\n",
       "      <th>P_ParticularAccount</th>\n",
       "      <th>P_ParticularPlusAccount</th>\n",
       "      <th>P_ShortTermDeposits</th>\n",
       "      <th>...</th>\n",
       "      <th>P_Funds</th>\n",
       "      <th>P_Mortgage</th>\n",
       "      <th>P_Pensions</th>\n",
       "      <th>P_Loans</th>\n",
       "      <th>P_Taxes</th>\n",
       "      <th>P_CreditCard</th>\n",
       "      <th>P_securities</th>\n",
       "      <th>P_HomeAccount</th>\n",
       "      <th>P_Payroll</th>\n",
       "      <th>P_DirectDebit</th>\n",
       "    </tr>\n",
       "    <tr>\n",
       "      <th>GrossIncome</th>\n",
       "      <th></th>\n",
       "      <th></th>\n",
       "      <th></th>\n",
       "      <th></th>\n",
       "      <th></th>\n",
       "      <th></th>\n",
       "      <th></th>\n",
       "      <th></th>\n",
       "      <th></th>\n",
       "      <th></th>\n",
       "      <th></th>\n",
       "      <th></th>\n",
       "      <th></th>\n",
       "      <th></th>\n",
       "      <th></th>\n",
       "      <th></th>\n",
       "      <th></th>\n",
       "      <th></th>\n",
       "      <th></th>\n",
       "      <th></th>\n",
       "      <th></th>\n",
       "    </tr>\n",
       "  </thead>\n",
       "  <tbody>\n",
       "    <tr>\n",
       "      <th>[0.0, 60000.0)</th>\n",
       "      <td>56</td>\n",
       "      <td>6</td>\n",
       "      <td>575059</td>\n",
       "      <td>267</td>\n",
       "      <td>49502</td>\n",
       "      <td>4527</td>\n",
       "      <td>7402</td>\n",
       "      <td>73303</td>\n",
       "      <td>24134</td>\n",
       "      <td>2009</td>\n",
       "      <td>...</td>\n",
       "      <td>7683</td>\n",
       "      <td>3581</td>\n",
       "      <td>3566</td>\n",
       "      <td>3776</td>\n",
       "      <td>27555</td>\n",
       "      <td>22870</td>\n",
       "      <td>10877</td>\n",
       "      <td>1817</td>\n",
       "      <td>33239.0</td>\n",
       "      <td>84639</td>\n",
       "    </tr>\n",
       "    <tr>\n",
       "      <th>[60000.0, 120000.0)</th>\n",
       "      <td>123</td>\n",
       "      <td>30</td>\n",
       "      <td>1328920</td>\n",
       "      <td>651</td>\n",
       "      <td>150315</td>\n",
       "      <td>18143</td>\n",
       "      <td>21648</td>\n",
       "      <td>245028</td>\n",
       "      <td>88276</td>\n",
       "      <td>5593</td>\n",
       "      <td>...</td>\n",
       "      <td>30499</td>\n",
       "      <td>12377</td>\n",
       "      <td>13900</td>\n",
       "      <td>6924</td>\n",
       "      <td>90037</td>\n",
       "      <td>82401</td>\n",
       "      <td>41133</td>\n",
       "      <td>6850</td>\n",
       "      <td>103480.0</td>\n",
       "      <td>243945</td>\n",
       "    </tr>\n",
       "    <tr>\n",
       "      <th>[120000.0, 180000.0)</th>\n",
       "      <td>155</td>\n",
       "      <td>23</td>\n",
       "      <td>619292</td>\n",
       "      <td>489</td>\n",
       "      <td>93042</td>\n",
       "      <td>13921</td>\n",
       "      <td>11844</td>\n",
       "      <td>165678</td>\n",
       "      <td>58945</td>\n",
       "      <td>2905</td>\n",
       "      <td>...</td>\n",
       "      <td>23700</td>\n",
       "      <td>7513</td>\n",
       "      <td>12154</td>\n",
       "      <td>2500</td>\n",
       "      <td>61601</td>\n",
       "      <td>58488</td>\n",
       "      <td>31822</td>\n",
       "      <td>5163</td>\n",
       "      <td>65848.0</td>\n",
       "      <td>142833</td>\n",
       "    </tr>\n",
       "    <tr>\n",
       "      <th>[180000.0, 240000.0)</th>\n",
       "      <td>102</td>\n",
       "      <td>46</td>\n",
       "      <td>266811</td>\n",
       "      <td>292</td>\n",
       "      <td>45190</td>\n",
       "      <td>7087</td>\n",
       "      <td>5782</td>\n",
       "      <td>84255</td>\n",
       "      <td>30061</td>\n",
       "      <td>1118</td>\n",
       "      <td>...</td>\n",
       "      <td>13352</td>\n",
       "      <td>3665</td>\n",
       "      <td>7329</td>\n",
       "      <td>923</td>\n",
       "      <td>33203</td>\n",
       "      <td>30081</td>\n",
       "      <td>18993</td>\n",
       "      <td>2794</td>\n",
       "      <td>31821.0</td>\n",
       "      <td>67560</td>\n",
       "    </tr>\n",
       "    <tr>\n",
       "      <th>[240000.0, inf)</th>\n",
       "      <td>102</td>\n",
       "      <td>24</td>\n",
       "      <td>269598</td>\n",
       "      <td>273</td>\n",
       "      <td>42756</td>\n",
       "      <td>6251</td>\n",
       "      <td>4936</td>\n",
       "      <td>86984</td>\n",
       "      <td>30804</td>\n",
       "      <td>934</td>\n",
       "      <td>...</td>\n",
       "      <td>15845</td>\n",
       "      <td>3273</td>\n",
       "      <td>8562</td>\n",
       "      <td>1039</td>\n",
       "      <td>38371</td>\n",
       "      <td>30194</td>\n",
       "      <td>22005</td>\n",
       "      <td>3298</td>\n",
       "      <td>28384.0</td>\n",
       "      <td>67410</td>\n",
       "    </tr>\n",
       "  </tbody>\n",
       "</table>\n",
       "<p>5 rows × 23 columns</p>\n",
       "</div>"
      ],
      "text/plain": [
       "                      P_SavingAccount  P_Garantees  P_CurrentAccounts  \\\n",
       "GrossIncome                                                             \n",
       "[0.0, 60000.0)                     56            6             575059   \n",
       "[60000.0, 120000.0)               123           30            1328920   \n",
       "[120000.0, 180000.0)              155           23             619292   \n",
       "[180000.0, 240000.0)              102           46             266811   \n",
       "[240000.0, inf)                   102           24             269598   \n",
       "\n",
       "                      P_Derivada_Account   P_PayrollAccount  P_JuniorAccount  \\\n",
       "GrossIncome                                                                    \n",
       "[0.0, 60000.0)                        267             49502             4527   \n",
       "[60000.0, 120000.0)                   651            150315            18143   \n",
       "[120000.0, 180000.0)                  489             93042            13921   \n",
       "[180000.0, 240000.0)                  292             45190             7087   \n",
       "[240000.0, inf)                       273             42756             6251   \n",
       "\n",
       "                      P_MásParticularAccount  P_ParticularAccount  \\\n",
       "GrossIncome                                                         \n",
       "[0.0, 60000.0)                          7402                73303   \n",
       "[60000.0, 120000.0)                    21648               245028   \n",
       "[120000.0, 180000.0)                   11844               165678   \n",
       "[180000.0, 240000.0)                    5782                84255   \n",
       "[240000.0, inf)                         4936                86984   \n",
       "\n",
       "                      P_ParticularPlusAccount  P_ShortTermDeposits  ...  \\\n",
       "GrossIncome                                                         ...   \n",
       "[0.0, 60000.0)                          24134                 2009  ...   \n",
       "[60000.0, 120000.0)                     88276                 5593  ...   \n",
       "[120000.0, 180000.0)                    58945                 2905  ...   \n",
       "[180000.0, 240000.0)                    30061                 1118  ...   \n",
       "[240000.0, inf)                         30804                  934  ...   \n",
       "\n",
       "                      P_Funds  P_Mortgage  P_Pensions  P_Loans  P_Taxes  \\\n",
       "GrossIncome                                                               \n",
       "[0.0, 60000.0)           7683        3581        3566     3776    27555   \n",
       "[60000.0, 120000.0)     30499       12377       13900     6924    90037   \n",
       "[120000.0, 180000.0)    23700        7513       12154     2500    61601   \n",
       "[180000.0, 240000.0)    13352        3665        7329      923    33203   \n",
       "[240000.0, inf)         15845        3273        8562     1039    38371   \n",
       "\n",
       "                      P_CreditCard  P_securities  P_HomeAccount  P_Payroll  \\\n",
       "GrossIncome                                                                  \n",
       "[0.0, 60000.0)               22870         10877           1817    33239.0   \n",
       "[60000.0, 120000.0)          82401         41133           6850   103480.0   \n",
       "[120000.0, 180000.0)         58488         31822           5163    65848.0   \n",
       "[180000.0, 240000.0)         30081         18993           2794    31821.0   \n",
       "[240000.0, inf)              30194         22005           3298    28384.0   \n",
       "\n",
       "                      P_DirectDebit  \n",
       "GrossIncome                          \n",
       "[0.0, 60000.0)                84639  \n",
       "[60000.0, 120000.0)          243945  \n",
       "[120000.0, 180000.0)         142833  \n",
       "[180000.0, 240000.0)          67560  \n",
       "[240000.0, inf)               67410  \n",
       "\n",
       "[5 rows x 23 columns]"
      ]
     },
     "execution_count": 17,
     "metadata": {},
     "output_type": "execute_result"
    }
   ],
   "source": [
    "df_a = df.groupby(pd.cut(df['GrossIncome'], [0,60000,120000,180000,240000, pd.np.inf], right=False)).sum()\n",
    "df_a.loc[:, \"P_SavingAccount\": \"P_DirectDebit\"].head()"
   ]
  },
  {
   "cell_type": "code",
   "execution_count": 18,
   "id": "1f12bd41",
   "metadata": {},
   "outputs": [],
   "source": [
    "df_a = df_a\n",
    "\n",
    "df_a=df_a.loc[:,\"P_SavingAccount\": \"P_DirectDebit\"].T\n"
   ]
  },
  {
   "cell_type": "code",
   "execution_count": 19,
   "id": "d2647cb2",
   "metadata": {},
   "outputs": [
    {
     "data": {
      "text/html": [
       "<div>\n",
       "<style scoped>\n",
       "    .dataframe tbody tr th:only-of-type {\n",
       "        vertical-align: middle;\n",
       "    }\n",
       "\n",
       "    .dataframe tbody tr th {\n",
       "        vertical-align: top;\n",
       "    }\n",
       "\n",
       "    .dataframe thead th {\n",
       "        text-align: right;\n",
       "    }\n",
       "</style>\n",
       "<table border=\"1\" class=\"dataframe\">\n",
       "  <thead>\n",
       "    <tr style=\"text-align: right;\">\n",
       "      <th>GrossIncome</th>\n",
       "      <th>[0.0, 60000.0)</th>\n",
       "      <th>[60000.0, 120000.0)</th>\n",
       "      <th>[120000.0, 180000.0)</th>\n",
       "      <th>[180000.0, 240000.0)</th>\n",
       "      <th>[240000.0, inf)</th>\n",
       "    </tr>\n",
       "  </thead>\n",
       "  <tbody>\n",
       "    <tr>\n",
       "      <th>P_SavingAccount</th>\n",
       "      <td>56.0</td>\n",
       "      <td>123.0</td>\n",
       "      <td>155.0</td>\n",
       "      <td>102.0</td>\n",
       "      <td>102.0</td>\n",
       "    </tr>\n",
       "    <tr>\n",
       "      <th>P_Garantees</th>\n",
       "      <td>6.0</td>\n",
       "      <td>30.0</td>\n",
       "      <td>23.0</td>\n",
       "      <td>46.0</td>\n",
       "      <td>24.0</td>\n",
       "    </tr>\n",
       "    <tr>\n",
       "      <th>P_CurrentAccounts</th>\n",
       "      <td>575059.0</td>\n",
       "      <td>1328920.0</td>\n",
       "      <td>619292.0</td>\n",
       "      <td>266811.0</td>\n",
       "      <td>269598.0</td>\n",
       "    </tr>\n",
       "    <tr>\n",
       "      <th>P_Derivada_Account</th>\n",
       "      <td>267.0</td>\n",
       "      <td>651.0</td>\n",
       "      <td>489.0</td>\n",
       "      <td>292.0</td>\n",
       "      <td>273.0</td>\n",
       "    </tr>\n",
       "    <tr>\n",
       "      <th>P_PayrollAccount</th>\n",
       "      <td>49502.0</td>\n",
       "      <td>150315.0</td>\n",
       "      <td>93042.0</td>\n",
       "      <td>45190.0</td>\n",
       "      <td>42756.0</td>\n",
       "    </tr>\n",
       "  </tbody>\n",
       "</table>\n",
       "</div>"
      ],
      "text/plain": [
       "GrossIncome          [0.0, 60000.0)  [60000.0, 120000.0)  \\\n",
       "P_SavingAccount                56.0                123.0   \n",
       "P_Garantees                     6.0                 30.0   \n",
       "P_CurrentAccounts          575059.0            1328920.0   \n",
       "P_Derivada_Account            267.0                651.0   \n",
       "P_PayrollAccount            49502.0             150315.0   \n",
       "\n",
       "GrossIncome          [120000.0, 180000.0)  [180000.0, 240000.0)  \\\n",
       "P_SavingAccount                     155.0                 102.0   \n",
       "P_Garantees                          23.0                  46.0   \n",
       "P_CurrentAccounts                619292.0              266811.0   \n",
       "P_Derivada_Account                  489.0                 292.0   \n",
       "P_PayrollAccount                  93042.0               45190.0   \n",
       "\n",
       "GrossIncome          [240000.0, inf)  \n",
       "P_SavingAccount                102.0  \n",
       "P_Garantees                     24.0  \n",
       "P_CurrentAccounts           269598.0  \n",
       "P_Derivada_Account             273.0  \n",
       "P_PayrollAccount             42756.0  "
      ]
     },
     "execution_count": 19,
     "metadata": {},
     "output_type": "execute_result"
    }
   ],
   "source": [
    "df_a.head()"
   ]
  },
  {
   "cell_type": "code",
   "execution_count": 20,
   "id": "a4318575",
   "metadata": {},
   "outputs": [
    {
     "data": {
      "text/plain": [
       "<matplotlib.legend.Legend at 0x15fa5cc66a0>"
      ]
     },
     "execution_count": 20,
     "metadata": {},
     "output_type": "execute_result"
    },
    {
     "data": {
      "image/png": "[encoded data removed]",
      "text/plain": [
       "<Figure size 1152x864 with 1 Axes>"
      ]
     },
     "metadata": {
      "needs_background": "light"
     },
     "output_type": "display_data"
    }
   ],
   "source": [
    "# Plot of product share for each income group\n",
    "df_a.plot(kind='barh', fontsize=14, figsize=[16,12], colormap='jet', width=1.5)\n",
    "plt.title('Distribution of products among customers by income group', fontsize=20, color='black') \n",
    "plt.xlabel('Total number of products', fontsize=17, color='black') \n",
    "plt.ylabel('Products_names', fontsize=17, color='black') \n",
    "plt.legend(prop={'size':15}, loc=1) "
   ]
  },
  {
   "cell_type": "markdown",
   "id": "0aed6be6",
   "metadata": {},
   "source": [
    "#### Popularity of products by different Age group"
   ]
  },
  {
   "cell_type": "code",
   "execution_count": 21,
   "id": "b21b0ab6",
   "metadata": {},
   "outputs": [],
   "source": [
    "#change datatype\n",
    "df[\"age\"]   = pd.to_numeric(df[\"age\"], errors=\"coerce\") "
   ]
  },
  {
   "cell_type": "code",
   "execution_count": 22,
   "id": "13694586",
   "metadata": {},
   "outputs": [
    {
     "data": {
      "text/html": [
       "<div>\n",
       "<style scoped>\n",
       "    .dataframe tbody tr th:only-of-type {\n",
       "        vertical-align: middle;\n",
       "    }\n",
       "\n",
       "    .dataframe tbody tr th {\n",
       "        vertical-align: top;\n",
       "    }\n",
       "\n",
       "    .dataframe thead th {\n",
       "        text-align: right;\n",
       "    }\n",
       "</style>\n",
       "<table border=\"1\" class=\"dataframe\">\n",
       "  <thead>\n",
       "    <tr style=\"text-align: right;\">\n",
       "      <th>age</th>\n",
       "      <th>[0.0, 20.0)</th>\n",
       "      <th>[20.0, 40.0)</th>\n",
       "      <th>[40.0, 60.0)</th>\n",
       "      <th>[60.0, 80.0)</th>\n",
       "      <th>[80.0, 100.0)</th>\n",
       "      <th>[100.0, inf)</th>\n",
       "    </tr>\n",
       "  </thead>\n",
       "  <tbody>\n",
       "    <tr>\n",
       "      <th>P_SavingAccount</th>\n",
       "      <td>0.0</td>\n",
       "      <td>18.0</td>\n",
       "      <td>482.0</td>\n",
       "      <td>38.0</td>\n",
       "      <td>0.0</td>\n",
       "      <td>0.0</td>\n",
       "    </tr>\n",
       "    <tr>\n",
       "      <th>P_Garantees</th>\n",
       "      <td>0.0</td>\n",
       "      <td>37.0</td>\n",
       "      <td>86.0</td>\n",
       "      <td>6.0</td>\n",
       "      <td>0.0</td>\n",
       "      <td>0.0</td>\n",
       "    </tr>\n",
       "    <tr>\n",
       "      <th>P_CurrentAccounts</th>\n",
       "      <td>80.0</td>\n",
       "      <td>1692887.0</td>\n",
       "      <td>985076.0</td>\n",
       "      <td>298787.0</td>\n",
       "      <td>73166.0</td>\n",
       "      <td>2246.0</td>\n",
       "    </tr>\n",
       "    <tr>\n",
       "      <th>P_Derivada_Account</th>\n",
       "      <td>0.0</td>\n",
       "      <td>237.0</td>\n",
       "      <td>1297.0</td>\n",
       "      <td>371.0</td>\n",
       "      <td>63.0</td>\n",
       "      <td>0.0</td>\n",
       "    </tr>\n",
       "    <tr>\n",
       "      <th>P_PayrollAccount</th>\n",
       "      <td>0.0</td>\n",
       "      <td>122427.0</td>\n",
       "      <td>218755.0</td>\n",
       "      <td>34335.0</td>\n",
       "      <td>4646.0</td>\n",
       "      <td>38.0</td>\n",
       "    </tr>\n",
       "    <tr>\n",
       "      <th>P_JuniorAccount</th>\n",
       "      <td>48424.0</td>\n",
       "      <td>1257.0</td>\n",
       "      <td>0.0</td>\n",
       "      <td>0.0</td>\n",
       "      <td>0.0</td>\n",
       "      <td>0.0</td>\n",
       "    </tr>\n",
       "    <tr>\n",
       "      <th>P_MásParticularAccount</th>\n",
       "      <td>1.0</td>\n",
       "      <td>17688.0</td>\n",
       "      <td>25406.0</td>\n",
       "      <td>6725.0</td>\n",
       "      <td>1302.0</td>\n",
       "      <td>5.0</td>\n",
       "    </tr>\n",
       "    <tr>\n",
       "      <th>P_ParticularAccount</th>\n",
       "      <td>6.0</td>\n",
       "      <td>74199.0</td>\n",
       "      <td>388215.0</td>\n",
       "      <td>139557.0</td>\n",
       "      <td>49813.0</td>\n",
       "      <td>2225.0</td>\n",
       "    </tr>\n",
       "    <tr>\n",
       "      <th>P_ParticularPlusAccount</th>\n",
       "      <td>0.0</td>\n",
       "      <td>42852.0</td>\n",
       "      <td>148479.0</td>\n",
       "      <td>33692.0</td>\n",
       "      <td>6712.0</td>\n",
       "      <td>132.0</td>\n",
       "    </tr>\n",
       "    <tr>\n",
       "      <th>P_ShortTermDeposits</th>\n",
       "      <td>0.0</td>\n",
       "      <td>3674.0</td>\n",
       "      <td>6405.0</td>\n",
       "      <td>1654.0</td>\n",
       "      <td>384.0</td>\n",
       "      <td>0.0</td>\n",
       "    </tr>\n",
       "    <tr>\n",
       "      <th>P_MeduimTermDeposits</th>\n",
       "      <td>0.0</td>\n",
       "      <td>1303.0</td>\n",
       "      <td>6362.0</td>\n",
       "      <td>1578.0</td>\n",
       "      <td>557.0</td>\n",
       "      <td>0.0</td>\n",
       "    </tr>\n",
       "    <tr>\n",
       "      <th>P_LongTermDeposits</th>\n",
       "      <td>188.0</td>\n",
       "      <td>25224.0</td>\n",
       "      <td>131048.0</td>\n",
       "      <td>52695.0</td>\n",
       "      <td>14049.0</td>\n",
       "      <td>109.0</td>\n",
       "    </tr>\n",
       "    <tr>\n",
       "      <th>P_eAccount</th>\n",
       "      <td>0.0</td>\n",
       "      <td>95911.0</td>\n",
       "      <td>221325.0</td>\n",
       "      <td>60021.0</td>\n",
       "      <td>11265.0</td>\n",
       "      <td>79.0</td>\n",
       "    </tr>\n",
       "    <tr>\n",
       "      <th>P_Funds</th>\n",
       "      <td>0.0</td>\n",
       "      <td>8241.0</td>\n",
       "      <td>55958.0</td>\n",
       "      <td>21429.0</td>\n",
       "      <td>5232.0</td>\n",
       "      <td>91.0</td>\n",
       "    </tr>\n",
       "    <tr>\n",
       "      <th>P_Mortgage</th>\n",
       "      <td>13.0</td>\n",
       "      <td>1925.0</td>\n",
       "      <td>25938.0</td>\n",
       "      <td>2297.0</td>\n",
       "      <td>23.0</td>\n",
       "      <td>0.0</td>\n",
       "    </tr>\n",
       "    <tr>\n",
       "      <th>P_Pensions</th>\n",
       "      <td>0.0</td>\n",
       "      <td>2349.0</td>\n",
       "      <td>34638.0</td>\n",
       "      <td>8304.0</td>\n",
       "      <td>159.0</td>\n",
       "      <td>0.0</td>\n",
       "    </tr>\n",
       "    <tr>\n",
       "      <th>P_Loans</th>\n",
       "      <td>0.0</td>\n",
       "      <td>2882.0</td>\n",
       "      <td>8995.0</td>\n",
       "      <td>1854.0</td>\n",
       "      <td>91.0</td>\n",
       "      <td>6.0</td>\n",
       "    </tr>\n",
       "    <tr>\n",
       "      <th>P_Taxes</th>\n",
       "      <td>74.0</td>\n",
       "      <td>56147.0</td>\n",
       "      <td>154524.0</td>\n",
       "      <td>26009.0</td>\n",
       "      <td>3744.0</td>\n",
       "      <td>94.0</td>\n",
       "    </tr>\n",
       "    <tr>\n",
       "      <th>P_CreditCard</th>\n",
       "      <td>0.0</td>\n",
       "      <td>41574.0</td>\n",
       "      <td>152689.0</td>\n",
       "      <td>27855.0</td>\n",
       "      <td>1684.0</td>\n",
       "      <td>12.0</td>\n",
       "    </tr>\n",
       "    <tr>\n",
       "      <th>P_securities</th>\n",
       "      <td>0.0</td>\n",
       "      <td>14618.0</td>\n",
       "      <td>81815.0</td>\n",
       "      <td>23617.0</td>\n",
       "      <td>4574.0</td>\n",
       "      <td>55.0</td>\n",
       "    </tr>\n",
       "    <tr>\n",
       "      <th>P_HomeAccount</th>\n",
       "      <td>0.0</td>\n",
       "      <td>4683.0</td>\n",
       "      <td>14357.0</td>\n",
       "      <td>685.0</td>\n",
       "      <td>170.0</td>\n",
       "      <td>0.0</td>\n",
       "    </tr>\n",
       "    <tr>\n",
       "      <th>P_Payroll</th>\n",
       "      <td>21.0</td>\n",
       "      <td>81752.0</td>\n",
       "      <td>165518.0</td>\n",
       "      <td>13635.0</td>\n",
       "      <td>240.0</td>\n",
       "      <td>12.0</td>\n",
       "    </tr>\n",
       "    <tr>\n",
       "      <th>P_DirectDebit</th>\n",
       "      <td>0.0</td>\n",
       "      <td>203349.0</td>\n",
       "      <td>341146.0</td>\n",
       "      <td>53626.0</td>\n",
       "      <td>7292.0</td>\n",
       "      <td>65.0</td>\n",
       "    </tr>\n",
       "  </tbody>\n",
       "</table>\n",
       "</div>"
      ],
      "text/plain": [
       "age                      [0.0, 20.0)  [20.0, 40.0)  [40.0, 60.0)  \\\n",
       "P_SavingAccount                  0.0          18.0         482.0   \n",
       "P_Garantees                      0.0          37.0          86.0   \n",
       "P_CurrentAccounts               80.0     1692887.0      985076.0   \n",
       "P_Derivada_Account               0.0         237.0        1297.0   \n",
       "P_PayrollAccount                 0.0      122427.0      218755.0   \n",
       "P_JuniorAccount              48424.0        1257.0           0.0   \n",
       "P_MásParticularAccount           1.0       17688.0       25406.0   \n",
       "P_ParticularAccount              6.0       74199.0      388215.0   \n",
       "P_ParticularPlusAccount          0.0       42852.0      148479.0   \n",
       "P_ShortTermDeposits              0.0        3674.0        6405.0   \n",
       "P_MeduimTermDeposits             0.0        1303.0        6362.0   \n",
       "P_LongTermDeposits             188.0       25224.0      131048.0   \n",
       "P_eAccount                       0.0       95911.0      221325.0   \n",
       "P_Funds                          0.0        8241.0       55958.0   \n",
       "P_Mortgage                      13.0        1925.0       25938.0   \n",
       "P_Pensions                       0.0        2349.0       34638.0   \n",
       "P_Loans                          0.0        2882.0        8995.0   \n",
       "P_Taxes                         74.0       56147.0      154524.0   \n",
       "P_CreditCard                     0.0       41574.0      152689.0   \n",
       "P_securities                     0.0       14618.0       81815.0   \n",
       "P_HomeAccount                    0.0        4683.0       14357.0   \n",
       "P_Payroll                       21.0       81752.0      165518.0   \n",
       "P_DirectDebit                    0.0      203349.0      341146.0   \n",
       "\n",
       "age                      [60.0, 80.0)  [80.0, 100.0)  [100.0, inf)  \n",
       "P_SavingAccount                  38.0            0.0           0.0  \n",
       "P_Garantees                       6.0            0.0           0.0  \n",
       "P_CurrentAccounts            298787.0        73166.0        2246.0  \n",
       "P_Derivada_Account              371.0           63.0           0.0  \n",
       "P_PayrollAccount              34335.0         4646.0          38.0  \n",
       "P_JuniorAccount                   0.0            0.0           0.0  \n",
       "P_MásParticularAccount         6725.0         1302.0           5.0  \n",
       "P_ParticularAccount          139557.0        49813.0        2225.0  \n",
       "P_ParticularPlusAccount       33692.0         6712.0         132.0  \n",
       "P_ShortTermDeposits            1654.0          384.0           0.0  \n",
       "P_MeduimTermDeposits           1578.0          557.0           0.0  \n",
       "P_LongTermDeposits            52695.0        14049.0         109.0  \n",
       "P_eAccount                    60021.0        11265.0          79.0  \n",
       "P_Funds                       21429.0         5232.0          91.0  \n",
       "P_Mortgage                     2297.0           23.0           0.0  \n",
       "P_Pensions                     8304.0          159.0           0.0  \n",
       "P_Loans                        1854.0           91.0           6.0  \n",
       "P_Taxes                       26009.0         3744.0          94.0  \n",
       "P_CreditCard                  27855.0         1684.0          12.0  \n",
       "P_securities                  23617.0         4574.0          55.0  \n",
       "P_HomeAccount                   685.0          170.0           0.0  \n",
       "P_Payroll                     13635.0          240.0          12.0  \n",
       "P_DirectDebit                 53626.0         7292.0          65.0  "
      ]
     },
     "execution_count": 22,
     "metadata": {},
     "output_type": "execute_result"
    }
   ],
   "source": [
    "df_a = df.groupby(pd.cut(df['age'], [0,20,40,60,80,100, pd.np.inf], right=False)).sum()\n",
    "df_a=df_a.loc[:,\"P_SavingAccount\": \"P_DirectDebit\"].T\n",
    "df_a.head(23)"
   ]
  },
  {
   "cell_type": "code",
   "execution_count": 23,
   "id": "fdb360a2",
   "metadata": {},
   "outputs": [
    {
     "data": {
      "text/plain": [
       "<matplotlib.legend.Legend at 0x15fa5ceab80>"
      ]
     },
     "execution_count": 23,
     "metadata": {},
     "output_type": "execute_result"
    },
    {
     "data": {
      "image/png": "[encoded data removed]",
      "text/plain": [
       "<Figure size 1152x864 with 1 Axes>"
      ]
     },
     "metadata": {
      "needs_background": "light"
     },
     "output_type": "display_data"
    }
   ],
   "source": [
    "# Plot of product share for each age group\n",
    "df_a.plot(kind='barh', stacked=True, fontsize=14, figsize=[16,12], colormap='jet')\n",
    "plt.title('Distribution of products among customers by age group', fontsize=20, color='black') \n",
    "plt.xlabel('Total number of products', fontsize=17, color='black') \n",
    "plt.ylabel('Products_names', fontsize=17, color='black') \n",
    "plt.legend(prop={'size':15}, loc=1) "
   ]
  },
  {
   "cell_type": "markdown",
   "id": "5bbbd5cc",
   "metadata": {},
   "source": [
    "#### Popularity of products by different channels used to join"
   ]
  },
  {
   "cell_type": "code",
   "execution_count": 24,
   "id": "d61e4c77",
   "metadata": {},
   "outputs": [
    {
     "data": {
      "text/plain": [
       "KHE    1302010\n",
       "KAT    1058677\n",
       "KFC     969310\n",
       "KFA     140566\n",
       "KHK      58229\n",
       "Name: canal_entrada, dtype: int64"
      ]
     },
     "execution_count": 24,
     "metadata": {},
     "output_type": "execute_result"
    }
   ],
   "source": [
    "df[\"canal_entrada\"].value_counts().head(5)"
   ]
  },
  {
   "cell_type": "code",
   "execution_count": 25,
   "id": "75878dcc",
   "metadata": {},
   "outputs": [
    {
     "data": {
      "text/html": [
       "<div>\n",
       "<style scoped>\n",
       "    .dataframe tbody tr th:only-of-type {\n",
       "        vertical-align: middle;\n",
       "    }\n",
       "\n",
       "    .dataframe tbody tr th {\n",
       "        vertical-align: top;\n",
       "    }\n",
       "\n",
       "    .dataframe thead th {\n",
       "        text-align: right;\n",
       "    }\n",
       "</style>\n",
       "<table border=\"1\" class=\"dataframe\">\n",
       "  <thead>\n",
       "    <tr style=\"text-align: right;\">\n",
       "      <th>canal_entrada</th>\n",
       "      <th>KAT</th>\n",
       "      <th>KFA</th>\n",
       "      <th>KFC</th>\n",
       "      <th>KHE</th>\n",
       "      <th>KHK</th>\n",
       "    </tr>\n",
       "  </thead>\n",
       "  <tbody>\n",
       "    <tr>\n",
       "      <th>P_SavingAccount</th>\n",
       "      <td>298.0</td>\n",
       "      <td>21.0</td>\n",
       "      <td>106.0</td>\n",
       "      <td>0.0</td>\n",
       "      <td>0.0</td>\n",
       "    </tr>\n",
       "    <tr>\n",
       "      <th>P_Garantees</th>\n",
       "      <td>57.0</td>\n",
       "      <td>0.0</td>\n",
       "      <td>53.0</td>\n",
       "      <td>0.0</td>\n",
       "      <td>0.0</td>\n",
       "    </tr>\n",
       "    <tr>\n",
       "      <th>P_CurrentAccounts</th>\n",
       "      <td>691191.0</td>\n",
       "      <td>87187.0</td>\n",
       "      <td>653014.0</td>\n",
       "      <td>1266103.0</td>\n",
       "      <td>46150.0</td>\n",
       "    </tr>\n",
       "    <tr>\n",
       "      <th>P_Derivada_Account</th>\n",
       "      <td>802.0</td>\n",
       "      <td>61.0</td>\n",
       "      <td>829.0</td>\n",
       "      <td>6.0</td>\n",
       "      <td>10.0</td>\n",
       "    </tr>\n",
       "    <tr>\n",
       "      <th>P_PayrollAccount</th>\n",
       "      <td>163621.0</td>\n",
       "      <td>19645.0</td>\n",
       "      <td>124202.0</td>\n",
       "      <td>21683.0</td>\n",
       "      <td>5148.0</td>\n",
       "    </tr>\n",
       "    <tr>\n",
       "      <th>P_JuniorAccount</th>\n",
       "      <td>16269.0</td>\n",
       "      <td>5238.0</td>\n",
       "      <td>27994.0</td>\n",
       "      <td>12.0</td>\n",
       "      <td>1.0</td>\n",
       "    </tr>\n",
       "    <tr>\n",
       "      <th>P_MásParticularAccount</th>\n",
       "      <td>12710.0</td>\n",
       "      <td>4013.0</td>\n",
       "      <td>23450.0</td>\n",
       "      <td>156.0</td>\n",
       "      <td>2525.0</td>\n",
       "    </tr>\n",
       "    <tr>\n",
       "      <th>P_ParticularAccount</th>\n",
       "      <td>295632.0</td>\n",
       "      <td>29063.0</td>\n",
       "      <td>215030.0</td>\n",
       "      <td>3.0</td>\n",
       "      <td>5.0</td>\n",
       "    </tr>\n",
       "    <tr>\n",
       "      <th>P_ParticularPlusAccount</th>\n",
       "      <td>105529.0</td>\n",
       "      <td>14441.0</td>\n",
       "      <td>69724.0</td>\n",
       "      <td>2.0</td>\n",
       "      <td>0.0</td>\n",
       "    </tr>\n",
       "    <tr>\n",
       "      <th>P_ShortTermDeposits</th>\n",
       "      <td>2018.0</td>\n",
       "      <td>271.0</td>\n",
       "      <td>1296.0</td>\n",
       "      <td>63.0</td>\n",
       "      <td>6087.0</td>\n",
       "    </tr>\n",
       "    <tr>\n",
       "      <th>P_MeduimTermDeposits</th>\n",
       "      <td>4005.0</td>\n",
       "      <td>576.0</td>\n",
       "      <td>3635.0</td>\n",
       "      <td>19.0</td>\n",
       "      <td>17.0</td>\n",
       "    </tr>\n",
       "    <tr>\n",
       "      <th>P_LongTermDeposits</th>\n",
       "      <td>98744.0</td>\n",
       "      <td>17965.0</td>\n",
       "      <td>73534.0</td>\n",
       "      <td>544.0</td>\n",
       "      <td>1375.0</td>\n",
       "    </tr>\n",
       "    <tr>\n",
       "      <th>P_eAccount</th>\n",
       "      <td>173207.0</td>\n",
       "      <td>24765.0</td>\n",
       "      <td>141647.0</td>\n",
       "      <td>3057.0</td>\n",
       "      <td>1848.0</td>\n",
       "    </tr>\n",
       "    <tr>\n",
       "      <th>P_Funds</th>\n",
       "      <td>47483.0</td>\n",
       "      <td>3678.0</td>\n",
       "      <td>26708.0</td>\n",
       "      <td>202.0</td>\n",
       "      <td>315.0</td>\n",
       "    </tr>\n",
       "    <tr>\n",
       "      <th>P_Mortgage</th>\n",
       "      <td>18774.0</td>\n",
       "      <td>639.0</td>\n",
       "      <td>4232.0</td>\n",
       "      <td>0.0</td>\n",
       "      <td>0.0</td>\n",
       "    </tr>\n",
       "    <tr>\n",
       "      <th>P_Pensions</th>\n",
       "      <td>26622.0</td>\n",
       "      <td>1579.0</td>\n",
       "      <td>12029.0</td>\n",
       "      <td>34.0</td>\n",
       "      <td>69.0</td>\n",
       "    </tr>\n",
       "    <tr>\n",
       "      <th>P_Loans</th>\n",
       "      <td>4784.0</td>\n",
       "      <td>442.0</td>\n",
       "      <td>1665.0</td>\n",
       "      <td>41.0</td>\n",
       "      <td>19.0</td>\n",
       "    </tr>\n",
       "    <tr>\n",
       "      <th>P_Taxes</th>\n",
       "      <td>116068.0</td>\n",
       "      <td>14513.0</td>\n",
       "      <td>79430.0</td>\n",
       "      <td>5196.0</td>\n",
       "      <td>768.0</td>\n",
       "    </tr>\n",
       "    <tr>\n",
       "      <th>P_CreditCard</th>\n",
       "      <td>111876.0</td>\n",
       "      <td>10996.0</td>\n",
       "      <td>69720.0</td>\n",
       "      <td>1416.0</td>\n",
       "      <td>435.0</td>\n",
       "    </tr>\n",
       "    <tr>\n",
       "      <th>P_securities</th>\n",
       "      <td>65503.0</td>\n",
       "      <td>5622.0</td>\n",
       "      <td>36365.0</td>\n",
       "      <td>536.0</td>\n",
       "      <td>224.0</td>\n",
       "    </tr>\n",
       "    <tr>\n",
       "      <th>P_HomeAccount</th>\n",
       "      <td>9883.0</td>\n",
       "      <td>739.0</td>\n",
       "      <td>6724.0</td>\n",
       "      <td>0.0</td>\n",
       "      <td>0.0</td>\n",
       "    </tr>\n",
       "    <tr>\n",
       "      <th>P_Payroll</th>\n",
       "      <td>115750.0</td>\n",
       "      <td>13652.0</td>\n",
       "      <td>85722.0</td>\n",
       "      <td>11701.0</td>\n",
       "      <td>3774.0</td>\n",
       "    </tr>\n",
       "    <tr>\n",
       "      <th>P_DirectDebit</th>\n",
       "      <td>250141.0</td>\n",
       "      <td>28454.0</td>\n",
       "      <td>204297.0</td>\n",
       "      <td>41845.0</td>\n",
       "      <td>9363.0</td>\n",
       "    </tr>\n",
       "  </tbody>\n",
       "</table>\n",
       "</div>"
      ],
      "text/plain": [
       "canal_entrada                 KAT      KFA       KFC        KHE      KHK\n",
       "P_SavingAccount             298.0     21.0     106.0        0.0      0.0\n",
       "P_Garantees                  57.0      0.0      53.0        0.0      0.0\n",
       "P_CurrentAccounts        691191.0  87187.0  653014.0  1266103.0  46150.0\n",
       "P_Derivada_Account          802.0     61.0     829.0        6.0     10.0\n",
       "P_PayrollAccount         163621.0  19645.0  124202.0    21683.0   5148.0\n",
       "P_JuniorAccount           16269.0   5238.0   27994.0       12.0      1.0\n",
       "P_MásParticularAccount    12710.0   4013.0   23450.0      156.0   2525.0\n",
       "P_ParticularAccount      295632.0  29063.0  215030.0        3.0      5.0\n",
       "P_ParticularPlusAccount  105529.0  14441.0   69724.0        2.0      0.0\n",
       "P_ShortTermDeposits        2018.0    271.0    1296.0       63.0   6087.0\n",
       "P_MeduimTermDeposits       4005.0    576.0    3635.0       19.0     17.0\n",
       "P_LongTermDeposits        98744.0  17965.0   73534.0      544.0   1375.0\n",
       "P_eAccount               173207.0  24765.0  141647.0     3057.0   1848.0\n",
       "P_Funds                   47483.0   3678.0   26708.0      202.0    315.0\n",
       "P_Mortgage                18774.0    639.0    4232.0        0.0      0.0\n",
       "P_Pensions                26622.0   1579.0   12029.0       34.0     69.0\n",
       "P_Loans                    4784.0    442.0    1665.0       41.0     19.0\n",
       "P_Taxes                  116068.0  14513.0   79430.0     5196.0    768.0\n",
       "P_CreditCard             111876.0  10996.0   69720.0     1416.0    435.0\n",
       "P_securities              65503.0   5622.0   36365.0      536.0    224.0\n",
       "P_HomeAccount              9883.0    739.0    6724.0        0.0      0.0\n",
       "P_Payroll                115750.0  13652.0   85722.0    11701.0   3774.0\n",
       "P_DirectDebit            250141.0  28454.0  204297.0    41845.0   9363.0"
      ]
     },
     "execution_count": 25,
     "metadata": {},
     "output_type": "execute_result"
    }
   ],
   "source": [
    "#to better visualize we will use the top 5 channels to plot\n",
    "df_a = df.loc[:, ['canal_entrada']].join(df.loc[:,\"P_SavingAccount\": \"P_DirectDebit\"])\n",
    "interested_channels = ['KHE', 'KAT', 'KFC', 'KFA', 'KHK']\n",
    "df_a = df_a[df_a.canal_entrada.isin(interested_channels)]\n",
    "df_a = df_a.groupby(['canal_entrada']).sum()\n",
    "df_a = df_a.T\n",
    "df_a.head(30)"
   ]
  },
  {
   "cell_type": "code",
   "execution_count": 26,
   "id": "4d99da27",
   "metadata": {},
   "outputs": [
    {
     "data": {
      "text/plain": [
       "<matplotlib.legend.Legend at 0x15fa678fb50>"
      ]
     },
     "execution_count": 26,
     "metadata": {},
     "output_type": "execute_result"
    },
    {
     "data": {
      "image/png": "[encoded data removed]",
      "text/plain": [
       "<Figure size 1152x864 with 1 Axes>"
      ]
     },
     "metadata": {
      "needs_background": "light"
     },
     "output_type": "display_data"
    }
   ],
   "source": [
    "df_a.plot(kind='barh', stacked=True, fontsize=14, figsize=[16,12], colormap='jet')\n",
    "plt.title('Distribution of products among customers by channels', fontsize=20, color='black') \n",
    "plt.xlabel('Total number of products', fontsize=17, color='black') \n",
    "plt.ylabel('Products_names', fontsize=17, color='black') \n",
    "plt.legend(prop={'size':15}, loc=1) "
   ]
  },
  {
   "cell_type": "code",
   "execution_count": 27,
   "id": "e0986d69",
   "metadata": {},
   "outputs": [
    {
     "name": "stdout",
     "output_type": "stream",
     "text": [
      "   Gender_Female  Gender_Male  Age              App\n",
      "0              1            0   15       Atom Count\n",
      "1              1            0   25  Check Mate Mate\n",
      "2              0            1   32   Beehive Finder\n",
      "3              1            0   35  Check Mate Mate\n",
      "4              0            1   12       Atom Count\n",
      "5              0            1   14       Atom Count\n"
     ]
    }
   ],
   "source": [
    "import pandas as pd\n",
    "app_dataset = pd.DataFrame({\n",
    "    'Gender_Female':[1,1,0,1,0,0],\n",
    "    'Gender_Male':[0,0,1,0,1,1],\n",
    "    'Age': [15, 25, 32, 35, 12, 14],\n",
    "    'App': ['Atom Count', 'Check Mate Mate', 'Beehive Finder', 'Check Mate Mate', 'Atom Count', 'Atom Count']})\n",
    "print(app_dataset)"
   ]
  },
  {
   "cell_type": "code",
   "execution_count": null,
   "id": "906e44a7",
   "metadata": {},
   "outputs": [],
   "source": []
  },
  {
   "cell_type": "code",
   "execution_count": null,
   "id": "f31e2a5f",
   "metadata": {},
   "outputs": [],
   "source": []
  },
  {
   "cell_type": "code",
   "execution_count": 28,
   "id": "85b7a158",
   "metadata": {
    "scrolled": true
   },
   "outputs": [
    {
     "name": "stdout",
     "output_type": "stream",
     "text": [
      "<class 'pandas.core.frame.DataFrame'>\n",
      "RangeIndex: 4000000 entries, 0 to 3999999\n",
      "Data columns (total 45 columns):\n",
      " #   Column                   Dtype  \n",
      "---  ------                   -----  \n",
      " 0   fecha_dato               object \n",
      " 1   CustomerCode             int64  \n",
      " 2   EmployeeIndex            object \n",
      " 3   CustomerRresidence       object \n",
      " 4   sexe                     object \n",
      " 5   age                      float64\n",
      " 6   FirstContractDate        object \n",
      " 7   ind_nuevo                object \n",
      " 8   seniority                object \n",
      " 9   indrel                   float64\n",
      " 10  indrel_1mes              object \n",
      " 11  tiprel_1mes              object \n",
      " 12  indresi                  object \n",
      " 13  indext                   object \n",
      " 14  canal_entrada            object \n",
      " 15  indfall                  object \n",
      " 16  tipodom                  float64\n",
      " 17  cod_prov                 float64\n",
      " 18  nomprov                  object \n",
      " 19  ind_actividad_cliente    float64\n",
      " 20  GrossIncome              float64\n",
      " 21  segmentation             object \n",
      " 22  P_SavingAccount          int64  \n",
      " 23  P_Garantees              int64  \n",
      " 24  P_CurrentAccounts        int64  \n",
      " 25  P_Derivada_Account       int64  \n",
      " 26  P_PayrollAccount         int64  \n",
      " 27  P_JuniorAccount          int64  \n",
      " 28  P_MásParticularAccount   int64  \n",
      " 29  P_ParticularAccount      int64  \n",
      " 30  P_ParticularPlusAccount  int64  \n",
      " 31  P_ShortTermDeposits      int64  \n",
      " 32  P_MeduimTermDeposits     int64  \n",
      " 33  P_LongTermDeposits       int64  \n",
      " 34  P_eAccount               int64  \n",
      " 35  P_Funds                  int64  \n",
      " 36  P_Mortgage               int64  \n",
      " 37  P_Pensions               int64  \n",
      " 38  P_Loans                  int64  \n",
      " 39  P_Taxes                  int64  \n",
      " 40  P_CreditCard             int64  \n",
      " 41  P_securities             int64  \n",
      " 42  P_HomeAccount            int64  \n",
      " 43  P_Payroll                float64\n",
      " 44  P_DirectDebit            int64  \n",
      "dtypes: float64(7), int64(23), object(15)\n",
      "memory usage: 1.3+ GB\n"
     ]
    }
   ],
   "source": [
    "df.info()"
   ]
  },
  {
   "cell_type": "code",
   "execution_count": 29,
   "id": "cf11a107",
   "metadata": {},
   "outputs": [
    {
     "data": {
      "text/plain": [
       "Index(['fecha_dato', 'CustomerCode', 'EmployeeIndex', 'CustomerRresidence',\n",
       "       'sexe', 'age', 'FirstContractDate', 'ind_nuevo', 'seniority', 'indrel',\n",
       "       'indrel_1mes', 'tiprel_1mes', 'indresi', 'indext', 'canal_entrada',\n",
       "       'indfall', 'tipodom', 'cod_prov', 'nomprov', 'ind_actividad_cliente',\n",
       "       'GrossIncome', 'segmentation', 'P_SavingAccount', 'P_Garantees',\n",
       "       'P_CurrentAccounts', 'P_Derivada_Account ', 'P_PayrollAccount',\n",
       "       'P_JuniorAccount', 'P_MásParticularAccount', 'P_ParticularAccount',\n",
       "       'P_ParticularPlusAccount', 'P_ShortTermDeposits',\n",
       "       'P_MeduimTermDeposits', 'P_LongTermDeposits', 'P_eAccount', 'P_Funds',\n",
       "       'P_Mortgage', 'P_Pensions', 'P_Loans', 'P_Taxes', 'P_CreditCard',\n",
       "       'P_securities', 'P_HomeAccount', 'P_Payroll', 'P_DirectDebit'],\n",
       "      dtype='object')"
      ]
     },
     "execution_count": 29,
     "metadata": {},
     "output_type": "execute_result"
    }
   ],
   "source": [
    "df.columns"
   ]
  },
  {
   "cell_type": "code",
   "execution_count": 126,
   "id": "cc953039",
   "metadata": {},
   "outputs": [],
   "source": [
    "X = df.loc[:,['fecha_dato', 'EmployeeIndex', 'CustomerRresidence',\n",
    "       'sexe', 'age', 'FirstContractDate', 'ind_nuevo', \n",
    "         'canal_entrada',\n",
    "       'indfall', 'cod_prov', 'ind_actividad_cliente',\n",
    "       'GrossIncome', 'segmentation', ]]"
   ]
  },
  {
   "cell_type": "code",
   "execution_count": 127,
   "id": "7704e01b",
   "metadata": {
    "scrolled": true
   },
   "outputs": [
    {
     "data": {
      "text/html": [
       "<div>\n",
       "<style scoped>\n",
       "    .dataframe tbody tr th:only-of-type {\n",
       "        vertical-align: middle;\n",
       "    }\n",
       "\n",
       "    .dataframe tbody tr th {\n",
       "        vertical-align: top;\n",
       "    }\n",
       "\n",
       "    .dataframe thead th {\n",
       "        text-align: right;\n",
       "    }\n",
       "</style>\n",
       "<table border=\"1\" class=\"dataframe\">\n",
       "  <thead>\n",
       "    <tr style=\"text-align: right;\">\n",
       "      <th></th>\n",
       "      <th>fecha_dato</th>\n",
       "      <th>EmployeeIndex</th>\n",
       "      <th>CustomerRresidence</th>\n",
       "      <th>sexe</th>\n",
       "      <th>age</th>\n",
       "      <th>FirstContractDate</th>\n",
       "      <th>ind_nuevo</th>\n",
       "      <th>canal_entrada</th>\n",
       "      <th>indfall</th>\n",
       "      <th>cod_prov</th>\n",
       "      <th>ind_actividad_cliente</th>\n",
       "      <th>GrossIncome</th>\n",
       "      <th>segmentation</th>\n",
       "    </tr>\n",
       "  </thead>\n",
       "  <tbody>\n",
       "    <tr>\n",
       "      <th>0</th>\n",
       "      <td>2015-01-28</td>\n",
       "      <td>N</td>\n",
       "      <td>ES</td>\n",
       "      <td>H</td>\n",
       "      <td>35.0</td>\n",
       "      <td>2015-01-12</td>\n",
       "      <td>0</td>\n",
       "      <td>KHL</td>\n",
       "      <td>N</td>\n",
       "      <td>29.0</td>\n",
       "      <td>1.0</td>\n",
       "      <td>87218.10</td>\n",
       "      <td>02 - PARTICULARES</td>\n",
       "    </tr>\n",
       "    <tr>\n",
       "      <th>1</th>\n",
       "      <td>2015-01-28</td>\n",
       "      <td>N</td>\n",
       "      <td>ES</td>\n",
       "      <td>V</td>\n",
       "      <td>23.0</td>\n",
       "      <td>2012-08-10</td>\n",
       "      <td>0</td>\n",
       "      <td>KHE</td>\n",
       "      <td>N</td>\n",
       "      <td>13.0</td>\n",
       "      <td>0.0</td>\n",
       "      <td>35548.74</td>\n",
       "      <td>03 - UNIVERSITARIO</td>\n",
       "    </tr>\n",
       "    <tr>\n",
       "      <th>2</th>\n",
       "      <td>2015-01-28</td>\n",
       "      <td>N</td>\n",
       "      <td>ES</td>\n",
       "      <td>V</td>\n",
       "      <td>23.0</td>\n",
       "      <td>2012-08-10</td>\n",
       "      <td>0</td>\n",
       "      <td>KHE</td>\n",
       "      <td>N</td>\n",
       "      <td>13.0</td>\n",
       "      <td>0.0</td>\n",
       "      <td>122179.11</td>\n",
       "      <td>03 - UNIVERSITARIO</td>\n",
       "    </tr>\n",
       "    <tr>\n",
       "      <th>3</th>\n",
       "      <td>2015-01-28</td>\n",
       "      <td>N</td>\n",
       "      <td>ES</td>\n",
       "      <td>H</td>\n",
       "      <td>22.0</td>\n",
       "      <td>2012-08-10</td>\n",
       "      <td>0</td>\n",
       "      <td>KHD</td>\n",
       "      <td>N</td>\n",
       "      <td>50.0</td>\n",
       "      <td>0.0</td>\n",
       "      <td>119775.54</td>\n",
       "      <td>03 - UNIVERSITARIO</td>\n",
       "    </tr>\n",
       "    <tr>\n",
       "      <th>4</th>\n",
       "      <td>2015-01-28</td>\n",
       "      <td>N</td>\n",
       "      <td>ES</td>\n",
       "      <td>V</td>\n",
       "      <td>23.0</td>\n",
       "      <td>2012-08-10</td>\n",
       "      <td>0</td>\n",
       "      <td>KHE</td>\n",
       "      <td>N</td>\n",
       "      <td>50.0</td>\n",
       "      <td>1.0</td>\n",
       "      <td>22220.04</td>\n",
       "      <td>03 - UNIVERSITARIO</td>\n",
       "    </tr>\n",
       "  </tbody>\n",
       "</table>\n",
       "</div>"
      ],
      "text/plain": [
       "   fecha_dato EmployeeIndex CustomerRresidence sexe   age FirstContractDate  \\\n",
       "0  2015-01-28             N                 ES    H  35.0        2015-01-12   \n",
       "1  2015-01-28             N                 ES    V  23.0        2012-08-10   \n",
       "2  2015-01-28             N                 ES    V  23.0        2012-08-10   \n",
       "3  2015-01-28             N                 ES    H  22.0        2012-08-10   \n",
       "4  2015-01-28             N                 ES    V  23.0        2012-08-10   \n",
       "\n",
       "  ind_nuevo canal_entrada indfall  cod_prov  ind_actividad_cliente  \\\n",
       "0         0           KHL       N      29.0                    1.0   \n",
       "1         0           KHE       N      13.0                    0.0   \n",
       "2         0           KHE       N      13.0                    0.0   \n",
       "3         0           KHD       N      50.0                    0.0   \n",
       "4         0           KHE       N      50.0                    1.0   \n",
       "\n",
       "   GrossIncome        segmentation  \n",
       "0     87218.10   02 - PARTICULARES  \n",
       "1     35548.74  03 - UNIVERSITARIO  \n",
       "2    122179.11  03 - UNIVERSITARIO  \n",
       "3    119775.54  03 - UNIVERSITARIO  \n",
       "4     22220.04  03 - UNIVERSITARIO  "
      ]
     },
     "execution_count": 127,
     "metadata": {},
     "output_type": "execute_result"
    }
   ],
   "source": [
    "X.head()"
   ]
  },
  {
   "cell_type": "code",
   "execution_count": 128,
   "id": "2485c0d9",
   "metadata": {},
   "outputs": [],
   "source": [
    "# Y = df.loc[:,['P_Garantees',\n",
    "#        'P_CurrentAccounts', 'P_Derivada_Account ', 'P_PayrollAccount',\n",
    "#        'P_JuniorAccount', 'P_MásParticularAccount', 'P_ParticularAccount',\n",
    "#        'P_ParticularPlusAccount', 'P_ShortTermDeposits',\n",
    "#        'P_MeduimTermDeposits', 'P_LongTermDeposits', 'P_eAccount', 'P_Funds',\n",
    "#        'P_Mortgage', 'P_Pensions', 'P_Loans', 'P_Taxes', 'P_CreditCard',\n",
    "#        'P_securities', 'P_HomeAccount', 'P_Payroll', 'P_DirectDebit']]\n",
    "Y = df.loc[:,['P_Garantees', 'P_Derivada_Account ', 'P_PayrollAccount',\n",
    "       'P_JuniorAccount', 'P_MásParticularAccount', 'P_ParticularAccount',\n",
    "       'P_ParticularPlusAccount', 'P_ShortTermDeposits',\n",
    "       'P_MeduimTermDeposits', 'P_LongTermDeposits', 'P_eAccount', 'P_Funds',\n",
    "       'P_Mortgage', 'P_Pensions', 'P_Loans', 'P_Taxes', 'P_CreditCard',\n",
    "       'P_securities', 'P_HomeAccount', 'P_Payroll', 'P_DirectDebit']]\n"
   ]
  },
  {
   "cell_type": "code",
   "execution_count": 129,
   "id": "35329f43",
   "metadata": {},
   "outputs": [
    {
     "data": {
      "text/html": [
       "<div>\n",
       "<style scoped>\n",
       "    .dataframe tbody tr th:only-of-type {\n",
       "        vertical-align: middle;\n",
       "    }\n",
       "\n",
       "    .dataframe tbody tr th {\n",
       "        vertical-align: top;\n",
       "    }\n",
       "\n",
       "    .dataframe thead th {\n",
       "        text-align: right;\n",
       "    }\n",
       "</style>\n",
       "<table border=\"1\" class=\"dataframe\">\n",
       "  <thead>\n",
       "    <tr style=\"text-align: right;\">\n",
       "      <th></th>\n",
       "      <th>P_Garantees</th>\n",
       "      <th>P_Derivada_Account</th>\n",
       "      <th>P_PayrollAccount</th>\n",
       "      <th>P_JuniorAccount</th>\n",
       "      <th>P_MásParticularAccount</th>\n",
       "      <th>P_ParticularAccount</th>\n",
       "      <th>P_ParticularPlusAccount</th>\n",
       "      <th>P_ShortTermDeposits</th>\n",
       "      <th>P_MeduimTermDeposits</th>\n",
       "      <th>P_LongTermDeposits</th>\n",
       "      <th>...</th>\n",
       "      <th>P_Funds</th>\n",
       "      <th>P_Mortgage</th>\n",
       "      <th>P_Pensions</th>\n",
       "      <th>P_Loans</th>\n",
       "      <th>P_Taxes</th>\n",
       "      <th>P_CreditCard</th>\n",
       "      <th>P_securities</th>\n",
       "      <th>P_HomeAccount</th>\n",
       "      <th>P_Payroll</th>\n",
       "      <th>P_DirectDebit</th>\n",
       "    </tr>\n",
       "  </thead>\n",
       "  <tbody>\n",
       "    <tr>\n",
       "      <th>0</th>\n",
       "      <td>0</td>\n",
       "      <td>0</td>\n",
       "      <td>0</td>\n",
       "      <td>0</td>\n",
       "      <td>0</td>\n",
       "      <td>0</td>\n",
       "      <td>0</td>\n",
       "      <td>0</td>\n",
       "      <td>0</td>\n",
       "      <td>0</td>\n",
       "      <td>...</td>\n",
       "      <td>0</td>\n",
       "      <td>0</td>\n",
       "      <td>0</td>\n",
       "      <td>0</td>\n",
       "      <td>0</td>\n",
       "      <td>0</td>\n",
       "      <td>0</td>\n",
       "      <td>0</td>\n",
       "      <td>0.0</td>\n",
       "      <td>0</td>\n",
       "    </tr>\n",
       "    <tr>\n",
       "      <th>1</th>\n",
       "      <td>0</td>\n",
       "      <td>0</td>\n",
       "      <td>0</td>\n",
       "      <td>0</td>\n",
       "      <td>0</td>\n",
       "      <td>0</td>\n",
       "      <td>0</td>\n",
       "      <td>0</td>\n",
       "      <td>0</td>\n",
       "      <td>0</td>\n",
       "      <td>...</td>\n",
       "      <td>0</td>\n",
       "      <td>0</td>\n",
       "      <td>0</td>\n",
       "      <td>0</td>\n",
       "      <td>0</td>\n",
       "      <td>0</td>\n",
       "      <td>0</td>\n",
       "      <td>0</td>\n",
       "      <td>0.0</td>\n",
       "      <td>0</td>\n",
       "    </tr>\n",
       "    <tr>\n",
       "      <th>2</th>\n",
       "      <td>0</td>\n",
       "      <td>0</td>\n",
       "      <td>0</td>\n",
       "      <td>0</td>\n",
       "      <td>0</td>\n",
       "      <td>0</td>\n",
       "      <td>0</td>\n",
       "      <td>0</td>\n",
       "      <td>0</td>\n",
       "      <td>0</td>\n",
       "      <td>...</td>\n",
       "      <td>0</td>\n",
       "      <td>0</td>\n",
       "      <td>0</td>\n",
       "      <td>0</td>\n",
       "      <td>0</td>\n",
       "      <td>0</td>\n",
       "      <td>0</td>\n",
       "      <td>0</td>\n",
       "      <td>0.0</td>\n",
       "      <td>0</td>\n",
       "    </tr>\n",
       "    <tr>\n",
       "      <th>3</th>\n",
       "      <td>0</td>\n",
       "      <td>0</td>\n",
       "      <td>0</td>\n",
       "      <td>0</td>\n",
       "      <td>0</td>\n",
       "      <td>0</td>\n",
       "      <td>0</td>\n",
       "      <td>1</td>\n",
       "      <td>0</td>\n",
       "      <td>0</td>\n",
       "      <td>...</td>\n",
       "      <td>0</td>\n",
       "      <td>0</td>\n",
       "      <td>0</td>\n",
       "      <td>0</td>\n",
       "      <td>0</td>\n",
       "      <td>0</td>\n",
       "      <td>0</td>\n",
       "      <td>0</td>\n",
       "      <td>0.0</td>\n",
       "      <td>0</td>\n",
       "    </tr>\n",
       "    <tr>\n",
       "      <th>4</th>\n",
       "      <td>0</td>\n",
       "      <td>0</td>\n",
       "      <td>0</td>\n",
       "      <td>0</td>\n",
       "      <td>0</td>\n",
       "      <td>0</td>\n",
       "      <td>0</td>\n",
       "      <td>0</td>\n",
       "      <td>0</td>\n",
       "      <td>0</td>\n",
       "      <td>...</td>\n",
       "      <td>0</td>\n",
       "      <td>0</td>\n",
       "      <td>0</td>\n",
       "      <td>0</td>\n",
       "      <td>0</td>\n",
       "      <td>0</td>\n",
       "      <td>0</td>\n",
       "      <td>0</td>\n",
       "      <td>0.0</td>\n",
       "      <td>0</td>\n",
       "    </tr>\n",
       "  </tbody>\n",
       "</table>\n",
       "<p>5 rows × 21 columns</p>\n",
       "</div>"
      ],
      "text/plain": [
       "   P_Garantees  P_Derivada_Account   P_PayrollAccount  P_JuniorAccount  \\\n",
       "0            0                    0                 0                0   \n",
       "1            0                    0                 0                0   \n",
       "2            0                    0                 0                0   \n",
       "3            0                    0                 0                0   \n",
       "4            0                    0                 0                0   \n",
       "\n",
       "   P_MásParticularAccount  P_ParticularAccount  P_ParticularPlusAccount  \\\n",
       "0                       0                    0                        0   \n",
       "1                       0                    0                        0   \n",
       "2                       0                    0                        0   \n",
       "3                       0                    0                        0   \n",
       "4                       0                    0                        0   \n",
       "\n",
       "   P_ShortTermDeposits  P_MeduimTermDeposits  P_LongTermDeposits  ...  \\\n",
       "0                    0                     0                   0  ...   \n",
       "1                    0                     0                   0  ...   \n",
       "2                    0                     0                   0  ...   \n",
       "3                    1                     0                   0  ...   \n",
       "4                    0                     0                   0  ...   \n",
       "\n",
       "   P_Funds  P_Mortgage  P_Pensions  P_Loans  P_Taxes  P_CreditCard  \\\n",
       "0        0           0           0        0        0             0   \n",
       "1        0           0           0        0        0             0   \n",
       "2        0           0           0        0        0             0   \n",
       "3        0           0           0        0        0             0   \n",
       "4        0           0           0        0        0             0   \n",
       "\n",
       "   P_securities  P_HomeAccount  P_Payroll  P_DirectDebit  \n",
       "0             0              0        0.0              0  \n",
       "1             0              0        0.0              0  \n",
       "2             0              0        0.0              0  \n",
       "3             0              0        0.0              0  \n",
       "4             0              0        0.0              0  \n",
       "\n",
       "[5 rows x 21 columns]"
      ]
     },
     "execution_count": 129,
     "metadata": {},
     "output_type": "execute_result"
    }
   ],
   "source": [
    "Y.head()"
   ]
  },
  {
   "cell_type": "code",
   "execution_count": 130,
   "id": "aac32c1c",
   "metadata": {},
   "outputs": [],
   "source": [
    "from sklearn.model_selection import train_test_split\n",
    "\n",
    "X_train, X_test, y_train, y_test = train_test_split(X, Y, test_size = 0.33, random_state = 42)"
   ]
  },
  {
   "cell_type": "code",
   "execution_count": 131,
   "id": "d19add2e",
   "metadata": {},
   "outputs": [
    {
     "data": {
      "text/plain": [
       "((2680000, 13), (1320000, 13))"
      ]
     },
     "execution_count": 131,
     "metadata": {},
     "output_type": "execute_result"
    }
   ],
   "source": [
    "X_train.shape, X_test.shape"
   ]
  },
  {
   "cell_type": "code",
   "execution_count": 132,
   "id": "4640d531",
   "metadata": {},
   "outputs": [],
   "source": [
    "import category_encoders as ce\n",
    "# from sklearn.preprocessing import CategoricalEncoder"
   ]
  },
  {
   "cell_type": "code",
   "execution_count": 133,
   "id": "a1011042",
   "metadata": {},
   "outputs": [],
   "source": [
    "from sklearn.tree import DecisionTreeClassifier"
   ]
  },
  {
   "cell_type": "code",
   "execution_count": 134,
   "id": "c36495f6",
   "metadata": {
    "scrolled": true
   },
   "outputs": [
    {
     "data": {
      "text/plain": [
       "fecha_dato                object\n",
       "EmployeeIndex             object\n",
       "CustomerRresidence        object\n",
       "sexe                      object\n",
       "age                      float64\n",
       "FirstContractDate         object\n",
       "ind_nuevo                 object\n",
       "canal_entrada             object\n",
       "indfall                   object\n",
       "cod_prov                 float64\n",
       "ind_actividad_cliente    float64\n",
       "GrossIncome              float64\n",
       "segmentation              object\n",
       "dtype: object"
      ]
     },
     "execution_count": 134,
     "metadata": {},
     "output_type": "execute_result"
    }
   ],
   "source": [
    "X.dtypes"
   ]
  },
  {
   "cell_type": "code",
   "execution_count": 145,
   "id": "de881e5d",
   "metadata": {},
   "outputs": [],
   "source": [
    "encoder = ce.OrdinalEncoder(cols=[ 'EmployeeIndex', 'FirstContractDate','ind_nuevo',\n",
    "                                  'sexe','fecha_dato' ,'canal_entrada','CustomerRresidence' ,'ind_nuevo','indfall'   ,'segmentation'\n",
    "       ])\n",
    "\n",
    "\n",
    "X_train = encoder.fit_transform(X_train)\n",
    "\n",
    "X_test = encoder.transform(X_test)"
   ]
  },
  {
   "cell_type": "code",
   "execution_count": 146,
   "id": "164286f1",
   "metadata": {
    "scrolled": false
   },
   "outputs": [
    {
     "data": {
      "text/plain": [
       "(         fecha_dato  EmployeeIndex  CustomerRresidence  sexe   age  \\\n",
       " 3577337           1              1                   1     1  63.0   \n",
       " 2921998           2              1                   1     1  58.0   \n",
       " 2440781           3              1                   1     2  38.0   \n",
       " 1123930           4              1                   1     2  45.0   \n",
       " 1263431           5              1                   1     2  70.0   \n",
       " \n",
       "          FirstContractDate  ind_nuevo  canal_entrada  indfall  cod_prov  \\\n",
       " 3577337                  1       -1.0              1        1       8.0   \n",
       " 2921998                  2       -1.0              1        1      28.0   \n",
       " 2440781                  3       -1.0              2        1      46.0   \n",
       " 1123930                  4       -1.0              1        1      28.0   \n",
       " 1263431                  5       -1.0              2        1      28.0   \n",
       " \n",
       "          ind_actividad_cliente  GrossIncome  segmentation  \n",
       " 3577337                    1.0    194418.75             1  \n",
       " 2921998                    1.0     91488.78             2  \n",
       " 2440781                    1.0    190546.44             2  \n",
       " 1123930                    1.0    103521.06             2  \n",
       " 1263431                    0.0     54699.24             2  ,\n",
       "          fecha_dato  EmployeeIndex  CustomerRresidence  sexe   age  \\\n",
       " 1049554           4              1                   1     1  45.0   \n",
       " 214510            7              1                   1     1  23.0   \n",
       " 2145764           3              1                   1     1  55.0   \n",
       " 2198867           3              1                   1     1  37.0   \n",
       " 1184366           4              1                   1     2  30.0   \n",
       " \n",
       "          FirstContractDate  ind_nuevo  canal_entrada  indfall  cod_prov  \\\n",
       " 1049554             1437.0       -1.0              4        1       8.0   \n",
       " 214510               135.0       -1.0              3        1      40.0   \n",
       " 2145764             3249.0       -1.0              1        1      28.0   \n",
       " 2198867              712.0       -1.0              2        1      35.0   \n",
       " 1184366              990.0       -1.0              3        1       8.0   \n",
       " \n",
       "          ind_actividad_cliente  GrossIncome  segmentation  \n",
       " 1049554                    1.0    128558.19             1  \n",
       " 214510                     0.0     67151.70             3  \n",
       " 2145764                    0.0    135544.34             2  \n",
       " 2198867                    1.0     34819.80             2  \n",
       " 1184366                    0.0    112508.43             3  )"
      ]
     },
     "execution_count": 146,
     "metadata": {},
     "output_type": "execute_result"
    }
   ],
   "source": [
    "X_train.head(),X_test.head()"
   ]
  },
  {
   "cell_type": "code",
   "execution_count": 147,
   "id": "a2aaddb7",
   "metadata": {
    "scrolled": true
   },
   "outputs": [
    {
     "data": {
      "text/plain": [
       "False"
      ]
     },
     "execution_count": 147,
     "metadata": {},
     "output_type": "execute_result"
    }
   ],
   "source": [
    "X_train.isnull().values.any()"
   ]
  },
  {
   "cell_type": "code",
   "execution_count": 148,
   "id": "63c7bb03",
   "metadata": {},
   "outputs": [],
   "source": [
    "def perc_missing(df):\n",
    "    '''prints out columns with missing values with its %'''\n",
    "    for col in df.columns:\n",
    "        pct = df[col].isna().mean() * 100\n",
    "        if (pct != 0):\n",
    "            print('{} => {}%'.format(col, round(pct, 2)))"
   ]
  },
  {
   "cell_type": "code",
   "execution_count": 149,
   "id": "24331a07",
   "metadata": {
    "scrolled": true
   },
   "outputs": [],
   "source": [
    " perc_missing(X_train)"
   ]
  },
  {
   "cell_type": "code",
   "execution_count": 150,
   "id": "18f37d9c",
   "metadata": {},
   "outputs": [],
   "source": [
    " perc_missing(X_test)"
   ]
  },
  {
   "cell_type": "code",
   "execution_count": 151,
   "id": "0cdf066c",
   "metadata": {},
   "outputs": [],
   "source": [
    "def backFill(backFill_df):  \n",
    "    for col in backFill_df.columns:\n",
    "        pct = backFill_df[col].isna().mean() * 100\n",
    "        if (pct != 0):\n",
    "            backFill_df[col].bfill(inplace=True)\n",
    "    \n",
    "backFill(X_train)\n",
    "backFill(X_test)"
   ]
  },
  {
   "cell_type": "code",
   "execution_count": 152,
   "id": "ab3cc51f",
   "metadata": {
    "scrolled": true
   },
   "outputs": [],
   "source": [
    " perc_missing(X_train)\n"
   ]
  },
  {
   "cell_type": "code",
   "execution_count": 153,
   "id": "21ee08a3",
   "metadata": {},
   "outputs": [],
   "source": [
    "perc_missing(X_test)"
   ]
  },
  {
   "cell_type": "code",
   "execution_count": 154,
   "id": "b328a350",
   "metadata": {},
   "outputs": [
    {
     "data": {
      "text/plain": [
       "DecisionTreeClassifier(random_state=0)"
      ]
     },
     "execution_count": 154,
     "metadata": {},
     "output_type": "execute_result"
    }
   ],
   "source": [
    "clf_gini = DecisionTreeClassifier(criterion='gini', random_state=0)\n",
    "\n",
    "\n",
    "# fit the model\n",
    "clf_gini.fit(X_train, y_train)"
   ]
  },
  {
   "cell_type": "code",
   "execution_count": 155,
   "id": "d7f2694e",
   "metadata": {},
   "outputs": [],
   "source": [
    "y_pred_gini = clf_gini.predict(X_test)"
   ]
  },
  {
   "cell_type": "code",
   "execution_count": 156,
   "id": "f96d47d5",
   "metadata": {},
   "outputs": [
    {
     "name": "stdout",
     "output_type": "stream",
     "text": [
      "Model accuracy score with criterion gini index: 0.8621\n"
     ]
    }
   ],
   "source": [
    "from sklearn.metrics import accuracy_score\n",
    "\n",
    "print('Model accuracy score with criterion gini index: {0:0.4f}'. format(accuracy_score(y_test, y_pred_gini)))"
   ]
  },
  {
   "cell_type": "code",
   "execution_count": 157,
   "id": "2fe7687c",
   "metadata": {},
   "outputs": [
    {
     "data": {
      "text/plain": [
       "array([[0., 0., 0., ..., 0., 0., 0.],\n",
       "       [0., 0., 1., ..., 0., 1., 1.],\n",
       "       [0., 0., 1., ..., 0., 0., 1.],\n",
       "       ...,\n",
       "       [0., 0., 0., ..., 0., 0., 0.],\n",
       "       [0., 0., 0., ..., 0., 0., 0.],\n",
       "       [0., 0., 0., ..., 0., 0., 0.]])"
      ]
     },
     "execution_count": 157,
     "metadata": {},
     "output_type": "execute_result"
    }
   ],
   "source": [
    "y_pred_train_gini = clf_gini.predict(X_train)\n",
    "\n",
    "y_pred_train_gini"
   ]
  },
  {
   "cell_type": "code",
   "execution_count": 158,
   "id": "ba6d4673",
   "metadata": {},
   "outputs": [
    {
     "name": "stdout",
     "output_type": "stream",
     "text": [
      "Training-set accuracy score: 0.9998\n"
     ]
    }
   ],
   "source": [
    "print('Training-set accuracy score: {0:0.4f}'. format(accuracy_score(y_train, y_pred_train_gini)))"
   ]
  },
  {
   "cell_type": "code",
   "execution_count": 159,
   "id": "16b3a22e",
   "metadata": {},
   "outputs": [
    {
     "name": "stdout",
     "output_type": "stream",
     "text": [
      "Training set score: 0.9998\n",
      "Test set score: 0.8621\n"
     ]
    }
   ],
   "source": [
    "# print the scores on training and test set\n",
    "\n",
    "print('Training set score: {:.4f}'.format(clf_gini.score(X_train, y_train)))\n",
    "\n",
    "print('Test set score: {:.4f}'.format(clf_gini.score(X_test, y_test)))"
   ]
  },
  {
   "cell_type": "code",
   "execution_count": 160,
   "id": "fe9b73fe",
   "metadata": {
    "scrolled": true
   },
   "outputs": [
    {
     "data": {
      "text/html": [
       "<div>\n",
       "<style scoped>\n",
       "    .dataframe tbody tr th:only-of-type {\n",
       "        vertical-align: middle;\n",
       "    }\n",
       "\n",
       "    .dataframe tbody tr th {\n",
       "        vertical-align: top;\n",
       "    }\n",
       "\n",
       "    .dataframe thead th {\n",
       "        text-align: right;\n",
       "    }\n",
       "</style>\n",
       "<table border=\"1\" class=\"dataframe\">\n",
       "  <thead>\n",
       "    <tr style=\"text-align: right;\">\n",
       "      <th></th>\n",
       "      <th>fecha_dato</th>\n",
       "      <th>EmployeeIndex</th>\n",
       "      <th>CustomerRresidence</th>\n",
       "      <th>sexe</th>\n",
       "      <th>age</th>\n",
       "      <th>FirstContractDate</th>\n",
       "      <th>ind_nuevo</th>\n",
       "      <th>canal_entrada</th>\n",
       "      <th>indfall</th>\n",
       "      <th>cod_prov</th>\n",
       "      <th>ind_actividad_cliente</th>\n",
       "      <th>GrossIncome</th>\n",
       "      <th>segmentation</th>\n",
       "    </tr>\n",
       "  </thead>\n",
       "  <tbody>\n",
       "    <tr>\n",
       "      <th>2472931</th>\n",
       "      <td>3</td>\n",
       "      <td>1</td>\n",
       "      <td>1</td>\n",
       "      <td>1</td>\n",
       "      <td>30.0</td>\n",
       "      <td>482.0</td>\n",
       "      <td>-1.0</td>\n",
       "      <td>3</td>\n",
       "      <td>1</td>\n",
       "      <td>41.0</td>\n",
       "      <td>0.0</td>\n",
       "      <td>58613.55</td>\n",
       "      <td>3</td>\n",
       "    </tr>\n",
       "  </tbody>\n",
       "</table>\n",
       "</div>"
      ],
      "text/plain": [
       "         fecha_dato  EmployeeIndex  CustomerRresidence  sexe   age  \\\n",
       "2472931           3              1                   1     1  30.0   \n",
       "\n",
       "         FirstContractDate  ind_nuevo  canal_entrada  indfall  cod_prov  \\\n",
       "2472931              482.0       -1.0              3        1      41.0   \n",
       "\n",
       "         ind_actividad_cliente  GrossIncome  segmentation  \n",
       "2472931                    0.0     58613.55             3  "
      ]
     },
     "execution_count": 160,
     "metadata": {},
     "output_type": "execute_result"
    }
   ],
   "source": [
    "X_test.iloc[[1000]]"
   ]
  },
  {
   "cell_type": "code",
   "execution_count": 165,
   "id": "2d246c02",
   "metadata": {},
   "outputs": [
    {
     "data": {
      "text/plain": [
       "(         P_Garantees  P_Derivada_Account   P_PayrollAccount  P_JuniorAccount  \\\n",
       " 1911004            0                    0                 0                0   \n",
       " \n",
       "          P_MásParticularAccount  P_ParticularAccount  P_ParticularPlusAccount  \\\n",
       " 1911004                       0                    0                        0   \n",
       " \n",
       "          P_ShortTermDeposits  P_MeduimTermDeposits  P_LongTermDeposits  ...  \\\n",
       " 1911004                    0                     0                   1  ...   \n",
       " \n",
       "          P_Funds  P_Mortgage  P_Pensions  P_Loans  P_Taxes  P_CreditCard  \\\n",
       " 1911004        0           0           0        0        0             0   \n",
       " \n",
       "          P_securities  P_HomeAccount  P_Payroll  P_DirectDebit  \n",
       " 1911004             0              0        0.0              0  \n",
       " \n",
       " [1 rows x 21 columns],)"
      ]
     },
     "execution_count": 165,
     "metadata": {},
     "output_type": "execute_result"
    }
   ],
   "source": [
    "y_test.iloc[[190]],"
   ]
  },
  {
   "cell_type": "code",
   "execution_count": 166,
   "id": "99696eec",
   "metadata": {},
   "outputs": [
    {
     "data": {
      "text/plain": [
       "array([[0., 0., 0., 0., 0., 0., 0., 0., 0., 1., 0., 0., 0., 0., 0., 0.,\n",
       "        0., 0., 0., 0., 0.]])"
      ]
     },
     "execution_count": 166,
     "metadata": {},
     "output_type": "execute_result"
    }
   ],
   "source": [
    "clf_gini.predict(X_test.iloc[[190]])"
   ]
  },
  {
   "cell_type": "code",
   "execution_count": 167,
   "id": "ba759085",
   "metadata": {
    "collapsed": true
   },
   "outputs": [
    {
     "ename": "KeyboardInterrupt",
     "evalue": "",
     "output_type": "error",
     "traceback": [
      "\u001b[1;31m---------------------------------------------------------------------------\u001b[0m",
      "\u001b[1;31mKeyboardInterrupt\u001b[0m                         Traceback (most recent call last)",
      "Input \u001b[1;32mIn [167]\u001b[0m, in \u001b[0;36m<cell line: 5>\u001b[1;34m()\u001b[0m\n\u001b[0;32m      1\u001b[0m plt\u001b[38;5;241m.\u001b[39mfigure(figsize\u001b[38;5;241m=\u001b[39m(\u001b[38;5;241m12\u001b[39m,\u001b[38;5;241m8\u001b[39m))\n\u001b[0;32m      3\u001b[0m \u001b[38;5;28;01mfrom\u001b[39;00m \u001b[38;5;21;01msklearn\u001b[39;00m \u001b[38;5;28;01mimport\u001b[39;00m tree\n\u001b[1;32m----> 5\u001b[0m tree\u001b[38;5;241m.\u001b[39mplot_tree(\u001b[43mclf_gini\u001b[49m\u001b[38;5;241;43m.\u001b[39;49m\u001b[43mfit\u001b[49m\u001b[43m(\u001b[49m\u001b[43mX_train\u001b[49m\u001b[43m,\u001b[49m\u001b[43m \u001b[49m\u001b[43my_train\u001b[49m\u001b[43m)\u001b[49m)\n",
      "File \u001b[1;32m~\\anaconda3\\lib\\site-packages\\sklearn\\tree\\_classes.py:937\u001b[0m, in \u001b[0;36mDecisionTreeClassifier.fit\u001b[1;34m(self, X, y, sample_weight, check_input, X_idx_sorted)\u001b[0m\n\u001b[0;32m    899\u001b[0m \u001b[38;5;28;01mdef\u001b[39;00m \u001b[38;5;21mfit\u001b[39m(\n\u001b[0;32m    900\u001b[0m     \u001b[38;5;28mself\u001b[39m, X, y, sample_weight\u001b[38;5;241m=\u001b[39m\u001b[38;5;28;01mNone\u001b[39;00m, check_input\u001b[38;5;241m=\u001b[39m\u001b[38;5;28;01mTrue\u001b[39;00m, X_idx_sorted\u001b[38;5;241m=\u001b[39m\u001b[38;5;124m\"\u001b[39m\u001b[38;5;124mdeprecated\u001b[39m\u001b[38;5;124m\"\u001b[39m\n\u001b[0;32m    901\u001b[0m ):\n\u001b[0;32m    902\u001b[0m     \u001b[38;5;124;03m\"\"\"Build a decision tree classifier from the training set (X, y).\u001b[39;00m\n\u001b[0;32m    903\u001b[0m \n\u001b[0;32m    904\u001b[0m \u001b[38;5;124;03m    Parameters\u001b[39;00m\n\u001b[1;32m   (...)\u001b[0m\n\u001b[0;32m    934\u001b[0m \u001b[38;5;124;03m        Fitted estimator.\u001b[39;00m\n\u001b[0;32m    935\u001b[0m \u001b[38;5;124;03m    \"\"\"\u001b[39;00m\n\u001b[1;32m--> 937\u001b[0m     \u001b[38;5;28;43msuper\u001b[39;49m\u001b[43m(\u001b[49m\u001b[43m)\u001b[49m\u001b[38;5;241;43m.\u001b[39;49m\u001b[43mfit\u001b[49m\u001b[43m(\u001b[49m\n\u001b[0;32m    938\u001b[0m \u001b[43m        \u001b[49m\u001b[43mX\u001b[49m\u001b[43m,\u001b[49m\n\u001b[0;32m    939\u001b[0m \u001b[43m        \u001b[49m\u001b[43my\u001b[49m\u001b[43m,\u001b[49m\n\u001b[0;32m    940\u001b[0m \u001b[43m        \u001b[49m\u001b[43msample_weight\u001b[49m\u001b[38;5;241;43m=\u001b[39;49m\u001b[43msample_weight\u001b[49m\u001b[43m,\u001b[49m\n\u001b[0;32m    941\u001b[0m \u001b[43m        \u001b[49m\u001b[43mcheck_input\u001b[49m\u001b[38;5;241;43m=\u001b[39;49m\u001b[43mcheck_input\u001b[49m\u001b[43m,\u001b[49m\n\u001b[0;32m    942\u001b[0m \u001b[43m        \u001b[49m\u001b[43mX_idx_sorted\u001b[49m\u001b[38;5;241;43m=\u001b[39;49m\u001b[43mX_idx_sorted\u001b[49m\u001b[43m,\u001b[49m\n\u001b[0;32m    943\u001b[0m \u001b[43m    \u001b[49m\u001b[43m)\u001b[49m\n\u001b[0;32m    944\u001b[0m     \u001b[38;5;28;01mreturn\u001b[39;00m \u001b[38;5;28mself\u001b[39m\n",
      "File \u001b[1;32m~\\anaconda3\\lib\\site-packages\\sklearn\\tree\\_classes.py:420\u001b[0m, in \u001b[0;36mBaseDecisionTree.fit\u001b[1;34m(self, X, y, sample_weight, check_input, X_idx_sorted)\u001b[0m\n\u001b[0;32m    409\u001b[0m \u001b[38;5;28;01melse\u001b[39;00m:\n\u001b[0;32m    410\u001b[0m     builder \u001b[38;5;241m=\u001b[39m BestFirstTreeBuilder(\n\u001b[0;32m    411\u001b[0m         splitter,\n\u001b[0;32m    412\u001b[0m         min_samples_split,\n\u001b[1;32m   (...)\u001b[0m\n\u001b[0;32m    417\u001b[0m         \u001b[38;5;28mself\u001b[39m\u001b[38;5;241m.\u001b[39mmin_impurity_decrease,\n\u001b[0;32m    418\u001b[0m     )\n\u001b[1;32m--> 420\u001b[0m \u001b[43mbuilder\u001b[49m\u001b[38;5;241;43m.\u001b[39;49m\u001b[43mbuild\u001b[49m\u001b[43m(\u001b[49m\u001b[38;5;28;43mself\u001b[39;49m\u001b[38;5;241;43m.\u001b[39;49m\u001b[43mtree_\u001b[49m\u001b[43m,\u001b[49m\u001b[43m \u001b[49m\u001b[43mX\u001b[49m\u001b[43m,\u001b[49m\u001b[43m \u001b[49m\u001b[43my\u001b[49m\u001b[43m,\u001b[49m\u001b[43m \u001b[49m\u001b[43msample_weight\u001b[49m\u001b[43m)\u001b[49m\n\u001b[0;32m    422\u001b[0m \u001b[38;5;28;01mif\u001b[39;00m \u001b[38;5;28mself\u001b[39m\u001b[38;5;241m.\u001b[39mn_outputs_ \u001b[38;5;241m==\u001b[39m \u001b[38;5;241m1\u001b[39m \u001b[38;5;129;01mand\u001b[39;00m is_classifier(\u001b[38;5;28mself\u001b[39m):\n\u001b[0;32m    423\u001b[0m     \u001b[38;5;28mself\u001b[39m\u001b[38;5;241m.\u001b[39mn_classes_ \u001b[38;5;241m=\u001b[39m \u001b[38;5;28mself\u001b[39m\u001b[38;5;241m.\u001b[39mn_classes_[\u001b[38;5;241m0\u001b[39m]\n",
      "\u001b[1;31mKeyboardInterrupt\u001b[0m: "
     ]
    },
    {
     "data": {
      "text/plain": [
       "<Figure size 864x576 with 0 Axes>"
      ]
     },
     "metadata": {},
     "output_type": "display_data"
    }
   ],
   "source": [
    "# plt.figure(figsize=(12,8))\n",
    "\n",
    "# from sklearn import tree\n",
    "\n",
    "# tree.plot_tree(clf_gini.fit(X_train, y_train)) "
   ]
  },
  {
   "cell_type": "code",
   "execution_count": 58,
   "id": "bd9e7db3",
   "metadata": {},
   "outputs": [],
   "source": [
    "# import graphviz \n",
    "# dot_data = tree.export_graphviz(clf_gini, out_file=None, \n",
    "#                               feature_names=X_train.columns,  \n",
    "#                               class_names=y_train,  \n",
    "#                               filled=True, rounded=True,  \n",
    "#                               special_characters=True)\n",
    "\n",
    "# graph = graphviz.Source(dot_data) \n",
    "\n",
    "# graph "
   ]
  },
  {
   "cell_type": "code",
   "execution_count": null,
   "id": "ae277116",
   "metadata": {},
   "outputs": [],
   "source": []
  },
  {
   "cell_type": "code",
   "execution_count": null,
   "id": "d2573bf1",
   "metadata": {},
   "outputs": [],
   "source": []
  },
  {
   "cell_type": "code",
   "execution_count": null,
   "id": "5d96f366",
   "metadata": {},
   "outputs": [],
   "source": []
  }
 ],
 "metadata": {
  "kernelspec": {
   "display_name": "Python 3 (ipykernel)",
   "language": "python",
   "name": "python3"
  },
  "language_info": {
   "codemirror_mode": {
    "name": "ipython",
    "version": 3
   },
   "file_extension": ".py",
   "mimetype": "text/x-python",
   "name": "python",
   "nbconvert_exporter": "python",
   "pygments_lexer": "ipython3",
   "version": "3.9.12"
  }
 },
 "nbformat": 4,
 "nbformat_minor": 5
}
