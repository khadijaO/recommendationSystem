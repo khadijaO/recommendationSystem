{
 "cells": [
  {
   "cell_type": "code",
   "execution_count": 1,
   "id": "40c7bbd6",
   "metadata": {},
   "outputs": [
    {
     "name": "stdout",
     "output_type": "stream",
     "text": [
      "%pylab is deprecated, use %matplotlib inline and import the required libraries.\n",
      "Populating the interactive namespace from numpy and matplotlib\n"
     ]
    }
   ],
   "source": [
    "#Importing Libraries\n",
    "import numpy as np\n",
    "import pandas as pd\n",
    "import seaborn as sns\n",
    "import matplotlib.pyplot as plt\n",
    "%pylab inline\n",
    "pylab.rcParams['figure.figsize'] = (10, 6)\n",
    "\n",
    "\n",
    "import warnings\n",
    "warnings.filterwarnings(\"ignore\")"
   ]
  },
  {
   "cell_type": "markdown",
   "id": "50a7ae90",
   "metadata": {},
   "source": [
    "<h2 align=\"center\" style=\"color:green\"> Load data</h2>"
   ]
  },
  {
   "cell_type": "code",
   "execution_count": 2,
   "id": "e9f9b9ad",
   "metadata": {},
   "outputs": [],
   "source": [
    "\n",
    "limit_rows   = 4000000\n",
    "backFill_df           = pd.read_csv(\"./afterCleaning/drop_features_df.csv\",dtype={\"sexo\":str,\n",
    "                                                    \"ind_nuevo\":str,\n",
    "                                                    \"ult_fec_cli_1t\":str,\n",
    "                   \n",
    "                                                   \"indext\":str}, nrows=limit_rows,low_memory=False)\n"
   ]
  },
  {
   "cell_type": "code",
   "execution_count": 5,
   "id": "0828281a",
   "metadata": {},
   "outputs": [],
   "source": [
    "def perc_missing(df):\n",
    "    '''prints out columns with missing values with its %'''\n",
    "    for col in df.columns:\n",
    "        pct = df[col].isna().mean() * 100\n",
    "        if (pct != 0):\n",
    "            print('{} => {}%'.format(col, round(pct, 2)))\n",
    " "
   ]
  },
  {
   "cell_type": "code",
   "execution_count": 6,
   "id": "e484f883",
   "metadata": {},
   "outputs": [],
   "source": [
    "def backFill(backFill_df):  \n",
    "    for col in backFill_df.columns:\n",
    "        pct = backFill_df[col].isna().mean() * 100\n",
    "        if (pct != 0):\n",
    "            backFill_df[col].bfill(inplace=True)\n",
    "    \n",
    "backFill(backFill_df)"
   ]
  },
  {
   "cell_type": "code",
   "execution_count": 7,
   "id": "c44d6f84",
   "metadata": {},
   "outputs": [
    {
     "name": "stdout",
     "output_type": "stream",
     "text": [
      "GrossIncome => 0.0%\n"
     ]
    }
   ],
   "source": [
    "perc_missing(backFill_df)"
   ]
  },
  {
   "cell_type": "code",
   "execution_count": 8,
   "id": "a5a5a500",
   "metadata": {},
   "outputs": [
    {
     "data": {
      "text/plain": [
       "0          False\n",
       "1          False\n",
       "2          False\n",
       "3          False\n",
       "4          False\n",
       "           ...  \n",
       "3999995    False\n",
       "3999996    False\n",
       "3999997    False\n",
       "3999998    False\n",
       "3999999     True\n",
       "Name: GrossIncome, Length: 4000000, dtype: bool"
      ]
     },
     "execution_count": 8,
     "metadata": {},
     "output_type": "execute_result"
    }
   ],
   "source": [
    "backFill_df.isnull().GrossIncome "
   ]
  },
  {
   "cell_type": "code",
   "execution_count": 9,
   "id": "1d33a572",
   "metadata": {},
   "outputs": [],
   "source": [
    "gross_income_value = round(backFill_df['GrossIncome'].median(), 2)\n",
    "\n",
    "backFill_df['GrossIncome'].fillna(gross_income_value, inplace=True)"
   ]
  },
  {
   "cell_type": "code",
   "execution_count": 10,
   "id": "937b135e",
   "metadata": {},
   "outputs": [],
   "source": [
    "perc_missing(backFill_df)"
   ]
  },
  {
   "cell_type": "markdown",
   "id": "a1b59d7c",
   "metadata": {},
   "source": [
    "<h3 align=\"center \" style=\"color:#8F7C8F\">Save the dataset  </h3>\n"
   ]
  },
  {
   "cell_type": "code",
   "execution_count": 11,
   "id": "837c95f3",
   "metadata": {},
   "outputs": [],
   "source": [
    "backFill_df.to_csv('./afterCleaning/backFill_df.csv', index=False)\n"
   ]
  },
  {
   "cell_type": "code",
   "execution_count": null,
   "id": "4ebe39ed",
   "metadata": {},
   "outputs": [],
   "source": []
  }
 ],
 "metadata": {
  "kernelspec": {
   "display_name": "Python 3 (ipykernel)",
   "language": "python",
   "name": "python3"
  },
  "language_info": {
   "codemirror_mode": {
    "name": "ipython",
    "version": 3
   },
   "file_extension": ".py",
   "mimetype": "text/x-python",
   "name": "python",
   "nbconvert_exporter": "python",
   "pygments_lexer": "ipython3",
   "version": "3.9.12"
  }
 },
 "nbformat": 4,
 "nbformat_minor": 5
}
