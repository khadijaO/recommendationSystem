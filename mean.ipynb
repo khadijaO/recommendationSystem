{
 "cells": [
  {
   "cell_type": "code",
   "execution_count": 1,
   "id": "40c7bbd6",
   "metadata": {},
   "outputs": [
    {
     "name": "stdout",
     "output_type": "stream",
     "text": [
      "%pylab is deprecated, use %matplotlib inline and import the required libraries.\n",
      "Populating the interactive namespace from numpy and matplotlib\n"
     ]
    }
   ],
   "source": [
    "#Importing Libraries\n",
    "import numpy as np\n",
    "import pandas as pd\n",
    "import seaborn as sns\n",
    "import matplotlib.pyplot as plt\n",
    "%pylab inline\n",
    "pylab.rcParams['figure.figsize'] = (10, 6)\n",
    "\n",
    "\n",
    "import warnings\n",
    "warnings.filterwarnings(\"ignore\")"
   ]
  },
  {
   "cell_type": "markdown",
   "id": "dee39416",
   "metadata": {},
   "source": [
    "<h2 align=\"center\" style=\"color:green\"> Load data</h2>"
   ]
  },
  {
   "cell_type": "code",
   "execution_count": 2,
   "id": "e813e0f0",
   "metadata": {},
   "outputs": [],
   "source": [
    "\n",
    "limit_rows   = 4000000\n",
    "fill_mean_df           = pd.read_csv(\"./afterCleaning/drop_features_df.csv\",dtype={\"sexo\":str,\n",
    "                                                    \"ind_nuevo\":str,\n",
    "                                                    \"ult_fec_cli_1t\":str,\n",
    "                   \n",
    "                                                   \"indext\":str}, nrows=limit_rows,low_memory=False)\n"
   ]
  },
  {
   "cell_type": "markdown",
   "id": "ed6bfecf",
   "metadata": {},
   "source": [
    "<h2 align=\"center\" style=\"color:green\"> Missing Data</h2>"
   ]
  },
  {
   "cell_type": "markdown",
   "id": "86be1a22",
   "metadata": {},
   "source": [
    "<h2 align=\"center\" style=\"color:green\"> Technique to deal with missing values</h2>"
   ]
  },
  {
   "cell_type": "markdown",
   "id": "c9d2e2c5",
   "metadata": {},
   "source": [
    "<h3 align=\"left\" style=\"color:#8FBC8F\">3) filling in null values based on mean</h3>\n"
   ]
  },
  {
   "cell_type": "code",
   "execution_count": 3,
   "id": "1a422ba5",
   "metadata": {},
   "outputs": [],
   "source": [
    "def perc_missing(df):\n",
    "    '''prints out columns with missing values with its %'''\n",
    "    for col in df.columns:\n",
    "        pct = df[col].isna().mean() * 100\n",
    "        if (pct != 0):\n",
    "            print('{} => {}%'.format(col, round(pct, 2)))\n",
    " "
   ]
  },
  {
   "cell_type": "code",
   "execution_count": 4,
   "id": "f9e2d136",
   "metadata": {},
   "outputs": [
    {
     "name": "stdout",
     "output_type": "stream",
     "text": [
      "EmployeeIndex => 0.69%\n",
      "CustomerRresidence => 0.69%\n",
      "sexe => 0.69%\n",
      "FirstContractDate => 0.69%\n",
      "ind_nuevo => 0.69%\n",
      "indrel => 0.69%\n",
      "indrel_1mes => 0.69%\n",
      "tiprel_1mes => 0.69%\n",
      "indresi => 0.69%\n",
      "indext => 0.69%\n",
      "canal_entrada => 0.71%\n",
      "indfall => 0.69%\n",
      "tipodom => 0.69%\n",
      "cod_prov => 1.29%\n",
      "nomprov => 1.29%\n",
      "ind_actividad_cliente => 0.69%\n",
      "GrossIncome => 17.53%\n",
      "segmentation => 0.71%\n",
      "P_Payroll => 0.4%\n"
     ]
    }
   ],
   "source": [
    "perc_missing(fill_mean_df)"
   ]
  },
  {
   "cell_type": "markdown",
   "id": "82026415",
   "metadata": {},
   "source": [
    "<h3 align=\"center \" style=\"color:#8F7C8F\">mean for numeric values </h3>\n"
   ]
  },
  {
   "cell_type": "code",
   "execution_count": 5,
   "id": "42b54b1b",
   "metadata": {},
   "outputs": [],
   "source": [
    "num_df = fill_mean_df.select_dtypes(exclude=['object'])"
   ]
  },
  {
   "cell_type": "code",
   "execution_count": 6,
   "id": "3280bce2",
   "metadata": {},
   "outputs": [],
   "source": [
    "def meanFill(fill_mean_df):\n",
    "   \n",
    "    for col in fill_mean_df.columns:\n",
    "        pct = fill_mean_df[col].isna().mean() * 100\n",
    "        if (pct != 0):\n",
    "            # imputing price with mean\n",
    "            col_mean = round(fill_mean_df[col].mean(), 2)\n",
    "            fill_mean_df[col].fillna(col_mean, inplace=True)\n",
    "    \n",
    "meanFill(num_df)"
   ]
  },
  {
   "cell_type": "code",
   "execution_count": 7,
   "id": "b9013d31",
   "metadata": {},
   "outputs": [
    {
     "name": "stdout",
     "output_type": "stream",
     "text": [
      "EmployeeIndex => 0.69%\n",
      "CustomerRresidence => 0.69%\n",
      "sexe => 0.69%\n",
      "FirstContractDate => 0.69%\n",
      "ind_nuevo => 0.69%\n",
      "indrel_1mes => 0.69%\n",
      "tiprel_1mes => 0.69%\n",
      "indresi => 0.69%\n",
      "indext => 0.69%\n",
      "canal_entrada => 0.71%\n",
      "indfall => 0.69%\n",
      "nomprov => 1.29%\n",
      "segmentation => 0.71%\n"
     ]
    }
   ],
   "source": [
    "perc_missing(fill_mean_df)"
   ]
  },
  {
   "cell_type": "markdown",
   "id": "6ae7d689",
   "metadata": {},
   "source": [
    "<h3 align=\"center \" style=\"color:#8F7C8F\">mode for  non numeric values </h3>\n"
   ]
  },
  {
   "cell_type": "code",
   "execution_count": 8,
   "id": "2dcf6387",
   "metadata": {},
   "outputs": [],
   "source": [
    "def modeFill(fill_mean_df):\n",
    "   \n",
    "    for col in fill_mean_df.columns:\n",
    "        pct = fill_mean_df[col].isna().mean() * 100\n",
    "        if (pct != 0):\n",
    "#             print(fill_mean_df[col].mode()+\"------\")\n",
    "            fill_mean_df[col].fillna(fill_mean_df[col].mode()[0], inplace=True)\n",
    "    \n",
    "modeFill(fill_mean_df)"
   ]
  },
  {
   "cell_type": "code",
   "execution_count": 9,
   "id": "784265db",
   "metadata": {},
   "outputs": [],
   "source": [
    "perc_missing(fill_mean_df)"
   ]
  },
  {
   "cell_type": "markdown",
   "id": "3fa3447d",
   "metadata": {},
   "source": [
    "<h2 align=\"center \" style=\"color:#8F7C8F\">Save the dataset  </h2>\n"
   ]
  },
  {
   "cell_type": "code",
   "execution_count": 10,
   "id": "f214e653",
   "metadata": {},
   "outputs": [],
   "source": [
    "fill_mean_df.to_csv('./afterCleaning/fill_mean_df.csv', index=False)"
   ]
  }
 ],
 "metadata": {
  "kernelspec": {
   "display_name": "Python 3 (ipykernel)",
   "language": "python",
   "name": "python3"
  },
  "language_info": {
   "codemirror_mode": {
    "name": "ipython",
    "version": 3
   },
   "file_extension": ".py",
   "mimetype": "text/x-python",
   "name": "python",
   "nbconvert_exporter": "python",
   "pygments_lexer": "ipython3",
   "version": "3.9.12"
  }
 },
 "nbformat": 4,
 "nbformat_minor": 5
}
