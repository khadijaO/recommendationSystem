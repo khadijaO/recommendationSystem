{
 "cells": [
  {
   "cell_type": "code",
   "execution_count": 1,
   "id": "0df2f758",
   "metadata": {},
   "outputs": [
    {
     "name": "stdout",
     "output_type": "stream",
     "text": [
      "%pylab is deprecated, use %matplotlib inline and import the required libraries.\n",
      "Populating the interactive namespace from numpy and matplotlib\n"
     ]
    }
   ],
   "source": [
    "#Importing Libraries\n",
    "import numpy as np\n",
    "import pandas as pd\n",
    "import seaborn as sns\n",
    "import matplotlib.pyplot as plt\n",
    "%pylab inline\n",
    "pylab.rcParams['figure.figsize'] = (10, 6)\n",
    "\n",
    "\n",
    "import warnings\n",
    "warnings.filterwarnings(\"ignore\")"
   ]
  },
  {
   "cell_type": "markdown",
   "id": "5312cb37",
   "metadata": {},
   "source": [
    "<h2 align=\"center\" style=\"color:green\"> Load data</h2>"
   ]
  },
  {
   "cell_type": "code",
   "execution_count": 2,
   "id": "daf75ccc",
   "metadata": {},
   "outputs": [],
   "source": [
    "\n",
    "limit_rows   = 4000000\n",
    "df           = pd.read_csv(\"C:/Users/khadi/Desktop/PFA/santander/train_ver2.csv\",dtype={\"sexo\":str,\n",
    "                                                    \"ind_nuevo\":str,\n",
    "                                                    \"ult_fec_cli_1t\":str,\n",
    "                   \n",
    "                                                   \"indext\":str}, nrows=limit_rows,low_memory=False)\n"
   ]
  },
  {
   "cell_type": "markdown",
   "id": "5a63252a",
   "metadata": {},
   "source": [
    "<h2 align=\"center\" style=\"color:green\"> Exploratory Data Analysis</h2>"
   ]
  },
  {
   "cell_type": "code",
   "execution_count": 3,
   "id": "5ceafda1",
   "metadata": {
    "scrolled": true
   },
   "outputs": [
    {
     "data": {
      "text/html": [
       "<div>\n",
       "<style scoped>\n",
       "    .dataframe tbody tr th:only-of-type {\n",
       "        vertical-align: middle;\n",
       "    }\n",
       "\n",
       "    .dataframe tbody tr th {\n",
       "        vertical-align: top;\n",
       "    }\n",
       "\n",
       "    .dataframe thead th {\n",
       "        text-align: right;\n",
       "    }\n",
       "</style>\n",
       "<table border=\"1\" class=\"dataframe\">\n",
       "  <thead>\n",
       "    <tr style=\"text-align: right;\">\n",
       "      <th></th>\n",
       "      <th>fecha_dato</th>\n",
       "      <th>ncodpers</th>\n",
       "      <th>ind_empleado</th>\n",
       "      <th>pais_residencia</th>\n",
       "      <th>sexo</th>\n",
       "      <th>age</th>\n",
       "      <th>fecha_alta</th>\n",
       "      <th>ind_nuevo</th>\n",
       "      <th>antiguedad</th>\n",
       "      <th>indrel</th>\n",
       "      <th>...</th>\n",
       "      <th>ind_hip_fin_ult1</th>\n",
       "      <th>ind_plan_fin_ult1</th>\n",
       "      <th>ind_pres_fin_ult1</th>\n",
       "      <th>ind_reca_fin_ult1</th>\n",
       "      <th>ind_tjcr_fin_ult1</th>\n",
       "      <th>ind_valo_fin_ult1</th>\n",
       "      <th>ind_viv_fin_ult1</th>\n",
       "      <th>ind_nomina_ult1</th>\n",
       "      <th>ind_nom_pens_ult1</th>\n",
       "      <th>ind_recibo_ult1</th>\n",
       "    </tr>\n",
       "  </thead>\n",
       "  <tbody>\n",
       "    <tr>\n",
       "      <th>0</th>\n",
       "      <td>2015-01-28</td>\n",
       "      <td>1375586</td>\n",
       "      <td>N</td>\n",
       "      <td>ES</td>\n",
       "      <td>H</td>\n",
       "      <td>35</td>\n",
       "      <td>2015-01-12</td>\n",
       "      <td>0</td>\n",
       "      <td>6</td>\n",
       "      <td>1.0</td>\n",
       "      <td>...</td>\n",
       "      <td>0</td>\n",
       "      <td>0</td>\n",
       "      <td>0</td>\n",
       "      <td>0</td>\n",
       "      <td>0</td>\n",
       "      <td>0</td>\n",
       "      <td>0</td>\n",
       "      <td>0.0</td>\n",
       "      <td>0.0</td>\n",
       "      <td>0</td>\n",
       "    </tr>\n",
       "    <tr>\n",
       "      <th>1</th>\n",
       "      <td>2015-01-28</td>\n",
       "      <td>1050611</td>\n",
       "      <td>N</td>\n",
       "      <td>ES</td>\n",
       "      <td>V</td>\n",
       "      <td>23</td>\n",
       "      <td>2012-08-10</td>\n",
       "      <td>0</td>\n",
       "      <td>35</td>\n",
       "      <td>1.0</td>\n",
       "      <td>...</td>\n",
       "      <td>0</td>\n",
       "      <td>0</td>\n",
       "      <td>0</td>\n",
       "      <td>0</td>\n",
       "      <td>0</td>\n",
       "      <td>0</td>\n",
       "      <td>0</td>\n",
       "      <td>0.0</td>\n",
       "      <td>0.0</td>\n",
       "      <td>0</td>\n",
       "    </tr>\n",
       "    <tr>\n",
       "      <th>2</th>\n",
       "      <td>2015-01-28</td>\n",
       "      <td>1050612</td>\n",
       "      <td>N</td>\n",
       "      <td>ES</td>\n",
       "      <td>V</td>\n",
       "      <td>23</td>\n",
       "      <td>2012-08-10</td>\n",
       "      <td>0</td>\n",
       "      <td>35</td>\n",
       "      <td>1.0</td>\n",
       "      <td>...</td>\n",
       "      <td>0</td>\n",
       "      <td>0</td>\n",
       "      <td>0</td>\n",
       "      <td>0</td>\n",
       "      <td>0</td>\n",
       "      <td>0</td>\n",
       "      <td>0</td>\n",
       "      <td>0.0</td>\n",
       "      <td>0.0</td>\n",
       "      <td>0</td>\n",
       "    </tr>\n",
       "    <tr>\n",
       "      <th>3</th>\n",
       "      <td>2015-01-28</td>\n",
       "      <td>1050613</td>\n",
       "      <td>N</td>\n",
       "      <td>ES</td>\n",
       "      <td>H</td>\n",
       "      <td>22</td>\n",
       "      <td>2012-08-10</td>\n",
       "      <td>0</td>\n",
       "      <td>35</td>\n",
       "      <td>1.0</td>\n",
       "      <td>...</td>\n",
       "      <td>0</td>\n",
       "      <td>0</td>\n",
       "      <td>0</td>\n",
       "      <td>0</td>\n",
       "      <td>0</td>\n",
       "      <td>0</td>\n",
       "      <td>0</td>\n",
       "      <td>0.0</td>\n",
       "      <td>0.0</td>\n",
       "      <td>0</td>\n",
       "    </tr>\n",
       "    <tr>\n",
       "      <th>4</th>\n",
       "      <td>2015-01-28</td>\n",
       "      <td>1050614</td>\n",
       "      <td>N</td>\n",
       "      <td>ES</td>\n",
       "      <td>V</td>\n",
       "      <td>23</td>\n",
       "      <td>2012-08-10</td>\n",
       "      <td>0</td>\n",
       "      <td>35</td>\n",
       "      <td>1.0</td>\n",
       "      <td>...</td>\n",
       "      <td>0</td>\n",
       "      <td>0</td>\n",
       "      <td>0</td>\n",
       "      <td>0</td>\n",
       "      <td>0</td>\n",
       "      <td>0</td>\n",
       "      <td>0</td>\n",
       "      <td>0.0</td>\n",
       "      <td>0.0</td>\n",
       "      <td>0</td>\n",
       "    </tr>\n",
       "    <tr>\n",
       "      <th>5</th>\n",
       "      <td>2015-01-28</td>\n",
       "      <td>1050615</td>\n",
       "      <td>N</td>\n",
       "      <td>ES</td>\n",
       "      <td>H</td>\n",
       "      <td>23</td>\n",
       "      <td>2012-08-10</td>\n",
       "      <td>0</td>\n",
       "      <td>35</td>\n",
       "      <td>1.0</td>\n",
       "      <td>...</td>\n",
       "      <td>0</td>\n",
       "      <td>0</td>\n",
       "      <td>0</td>\n",
       "      <td>0</td>\n",
       "      <td>0</td>\n",
       "      <td>0</td>\n",
       "      <td>0</td>\n",
       "      <td>0.0</td>\n",
       "      <td>0.0</td>\n",
       "      <td>0</td>\n",
       "    </tr>\n",
       "    <tr>\n",
       "      <th>6</th>\n",
       "      <td>2015-01-28</td>\n",
       "      <td>1050616</td>\n",
       "      <td>N</td>\n",
       "      <td>ES</td>\n",
       "      <td>H</td>\n",
       "      <td>23</td>\n",
       "      <td>2012-08-10</td>\n",
       "      <td>0</td>\n",
       "      <td>35</td>\n",
       "      <td>1.0</td>\n",
       "      <td>...</td>\n",
       "      <td>0</td>\n",
       "      <td>0</td>\n",
       "      <td>0</td>\n",
       "      <td>0</td>\n",
       "      <td>0</td>\n",
       "      <td>0</td>\n",
       "      <td>0</td>\n",
       "      <td>0.0</td>\n",
       "      <td>0.0</td>\n",
       "      <td>0</td>\n",
       "    </tr>\n",
       "    <tr>\n",
       "      <th>7</th>\n",
       "      <td>2015-01-28</td>\n",
       "      <td>1050617</td>\n",
       "      <td>N</td>\n",
       "      <td>ES</td>\n",
       "      <td>H</td>\n",
       "      <td>23</td>\n",
       "      <td>2012-08-10</td>\n",
       "      <td>0</td>\n",
       "      <td>35</td>\n",
       "      <td>1.0</td>\n",
       "      <td>...</td>\n",
       "      <td>0</td>\n",
       "      <td>0</td>\n",
       "      <td>0</td>\n",
       "      <td>0</td>\n",
       "      <td>0</td>\n",
       "      <td>0</td>\n",
       "      <td>0</td>\n",
       "      <td>0.0</td>\n",
       "      <td>0.0</td>\n",
       "      <td>0</td>\n",
       "    </tr>\n",
       "    <tr>\n",
       "      <th>8</th>\n",
       "      <td>2015-01-28</td>\n",
       "      <td>1050619</td>\n",
       "      <td>N</td>\n",
       "      <td>ES</td>\n",
       "      <td>H</td>\n",
       "      <td>24</td>\n",
       "      <td>2012-08-10</td>\n",
       "      <td>0</td>\n",
       "      <td>35</td>\n",
       "      <td>1.0</td>\n",
       "      <td>...</td>\n",
       "      <td>0</td>\n",
       "      <td>0</td>\n",
       "      <td>0</td>\n",
       "      <td>0</td>\n",
       "      <td>0</td>\n",
       "      <td>0</td>\n",
       "      <td>0</td>\n",
       "      <td>0.0</td>\n",
       "      <td>0.0</td>\n",
       "      <td>0</td>\n",
       "    </tr>\n",
       "    <tr>\n",
       "      <th>9</th>\n",
       "      <td>2015-01-28</td>\n",
       "      <td>1050620</td>\n",
       "      <td>N</td>\n",
       "      <td>ES</td>\n",
       "      <td>H</td>\n",
       "      <td>23</td>\n",
       "      <td>2012-08-10</td>\n",
       "      <td>0</td>\n",
       "      <td>35</td>\n",
       "      <td>1.0</td>\n",
       "      <td>...</td>\n",
       "      <td>0</td>\n",
       "      <td>0</td>\n",
       "      <td>0</td>\n",
       "      <td>0</td>\n",
       "      <td>0</td>\n",
       "      <td>0</td>\n",
       "      <td>0</td>\n",
       "      <td>0.0</td>\n",
       "      <td>0.0</td>\n",
       "      <td>0</td>\n",
       "    </tr>\n",
       "  </tbody>\n",
       "</table>\n",
       "<p>10 rows × 48 columns</p>\n",
       "</div>"
      ],
      "text/plain": [
       "   fecha_dato  ncodpers ind_empleado pais_residencia sexo  age  fecha_alta  \\\n",
       "0  2015-01-28   1375586            N              ES    H   35  2015-01-12   \n",
       "1  2015-01-28   1050611            N              ES    V   23  2012-08-10   \n",
       "2  2015-01-28   1050612            N              ES    V   23  2012-08-10   \n",
       "3  2015-01-28   1050613            N              ES    H   22  2012-08-10   \n",
       "4  2015-01-28   1050614            N              ES    V   23  2012-08-10   \n",
       "5  2015-01-28   1050615            N              ES    H   23  2012-08-10   \n",
       "6  2015-01-28   1050616            N              ES    H   23  2012-08-10   \n",
       "7  2015-01-28   1050617            N              ES    H   23  2012-08-10   \n",
       "8  2015-01-28   1050619            N              ES    H   24  2012-08-10   \n",
       "9  2015-01-28   1050620            N              ES    H   23  2012-08-10   \n",
       "\n",
       "  ind_nuevo antiguedad  indrel  ... ind_hip_fin_ult1 ind_plan_fin_ult1  \\\n",
       "0         0          6     1.0  ...                0                 0   \n",
       "1         0         35     1.0  ...                0                 0   \n",
       "2         0         35     1.0  ...                0                 0   \n",
       "3         0         35     1.0  ...                0                 0   \n",
       "4         0         35     1.0  ...                0                 0   \n",
       "5         0         35     1.0  ...                0                 0   \n",
       "6         0         35     1.0  ...                0                 0   \n",
       "7         0         35     1.0  ...                0                 0   \n",
       "8         0         35     1.0  ...                0                 0   \n",
       "9         0         35     1.0  ...                0                 0   \n",
       "\n",
       "  ind_pres_fin_ult1 ind_reca_fin_ult1 ind_tjcr_fin_ult1 ind_valo_fin_ult1  \\\n",
       "0                 0                 0                 0                 0   \n",
       "1                 0                 0                 0                 0   \n",
       "2                 0                 0                 0                 0   \n",
       "3                 0                 0                 0                 0   \n",
       "4                 0                 0                 0                 0   \n",
       "5                 0                 0                 0                 0   \n",
       "6                 0                 0                 0                 0   \n",
       "7                 0                 0                 0                 0   \n",
       "8                 0                 0                 0                 0   \n",
       "9                 0                 0                 0                 0   \n",
       "\n",
       "  ind_viv_fin_ult1 ind_nomina_ult1  ind_nom_pens_ult1  ind_recibo_ult1  \n",
       "0                0             0.0                0.0                0  \n",
       "1                0             0.0                0.0                0  \n",
       "2                0             0.0                0.0                0  \n",
       "3                0             0.0                0.0                0  \n",
       "4                0             0.0                0.0                0  \n",
       "5                0             0.0                0.0                0  \n",
       "6                0             0.0                0.0                0  \n",
       "7                0             0.0                0.0                0  \n",
       "8                0             0.0                0.0                0  \n",
       "9                0             0.0                0.0                0  \n",
       "\n",
       "[10 rows x 48 columns]"
      ]
     },
     "execution_count": 3,
     "metadata": {},
     "output_type": "execute_result"
    }
   ],
   "source": [
    "\n",
    "df.head(10)\n"
   ]
  },
  {
   "cell_type": "code",
   "execution_count": 4,
   "id": "5c547db9",
   "metadata": {},
   "outputs": [
    {
     "data": {
      "text/plain": [
       "(4000000, 48)"
      ]
     },
     "execution_count": 4,
     "metadata": {},
     "output_type": "execute_result"
    }
   ],
   "source": [
    "\n",
    "df.shape"
   ]
  },
  {
   "cell_type": "code",
   "execution_count": 5,
   "id": "cc8f9680",
   "metadata": {},
   "outputs": [
    {
     "data": {
      "text/plain": [
       "Index(['fecha_dato', 'ncodpers', 'ind_empleado', 'pais_residencia', 'sexo',\n",
       "       'age', 'fecha_alta', 'ind_nuevo', 'antiguedad', 'indrel',\n",
       "       'ult_fec_cli_1t', 'indrel_1mes', 'tiprel_1mes', 'indresi', 'indext',\n",
       "       'conyuemp', 'canal_entrada', 'indfall', 'tipodom', 'cod_prov',\n",
       "       'nomprov', 'ind_actividad_cliente', 'renta', 'segmento',\n",
       "       'ind_ahor_fin_ult1', 'ind_aval_fin_ult1', 'ind_cco_fin_ult1',\n",
       "       'ind_cder_fin_ult1', 'ind_cno_fin_ult1', 'ind_ctju_fin_ult1',\n",
       "       'ind_ctma_fin_ult1', 'ind_ctop_fin_ult1', 'ind_ctpp_fin_ult1',\n",
       "       'ind_deco_fin_ult1', 'ind_deme_fin_ult1', 'ind_dela_fin_ult1',\n",
       "       'ind_ecue_fin_ult1', 'ind_fond_fin_ult1', 'ind_hip_fin_ult1',\n",
       "       'ind_plan_fin_ult1', 'ind_pres_fin_ult1', 'ind_reca_fin_ult1',\n",
       "       'ind_tjcr_fin_ult1', 'ind_valo_fin_ult1', 'ind_viv_fin_ult1',\n",
       "       'ind_nomina_ult1', 'ind_nom_pens_ult1', 'ind_recibo_ult1'],\n",
       "      dtype='object')"
      ]
     },
     "execution_count": 5,
     "metadata": {},
     "output_type": "execute_result"
    }
   ],
   "source": [
    "df.columns\n"
   ]
  },
  {
   "cell_type": "markdown",
   "id": "64d875f4",
   "metadata": {},
   "source": [
    "<h2 align=\"center\" style=\"color:green\"> Renaming columns</h2>"
   ]
  },
  {
   "cell_type": "code",
   "execution_count": 6,
   "id": "ce32b100",
   "metadata": {},
   "outputs": [],
   "source": [
    "df.rename(columns ={'ncodpers' : 'CustomerCode'}, inplace = True)\n",
    "df.rename(columns ={'ind_empleado' : 'EmployeeIndex'},  inplace = True)#: A active, B ex employed, F filial, N not employee, P pasive\n",
    "df.rename(columns ={'pais_residencia' : 'CustomerRresidence'},  inplace = True)\n",
    "df.rename(columns ={'sexo' : 'sexe'},  inplace = True)\n",
    "df.rename(columns ={'fecha_alta' : 'FirstContractDate'},  inplace = True)#The date in which the customer became as the first holder of a contract in the bank\n",
    "df.rename(columns ={'antiguedad' : 'seniority'},  inplace = True)\n",
    "\n",
    "'indrel' #1 (premier/principal), 99 (client principal pendant le mois mais pas à la fin du mois)\n",
    "df.rename(columns ={'ult_fec_cli_1t' : 'LastPrimayCuDate'},  inplace = True)#: Last date as primary customer (if he isn't at the end of the month)\n",
    "df.rename(columns ={'conyuemp' : 'SpouseIndex'},  inplace = True)#indice de conjoint si le client est un employee \n",
    "df.rename(columns ={'renta' : 'GrossIncome'},  inplace = True)\n",
    "df.rename(columns ={'segmento' : 'segmentation'},  inplace = True)# Segmentation: 01 - VIP, 02 - Individuals 03 - college graduated\n",
    "\n",
    "\n",
    "#---------------les produits ( commence par  P___)--------------------\n",
    "df.rename(columns ={'ind_ahor_fin_ult1' : 'P_SavingAccount'},  inplace = True)\n",
    "df.rename(columns ={'ind_aval_fin_ult1' : 'P_Garantees'},  inplace = True)\n",
    "df.rename(columns ={'ind_cco_fin_ult1' : 'P_CurrentAccounts'},  inplace = True)\n",
    "df.rename(columns ={'ind_cder_fin_ult1' : 'P_Derivada_Account '},  inplace = True)\n",
    "df.rename(columns ={'ind_cno_fin_ult1' : 'P_PayrollAccount'},  inplace = True)\n",
    "df.rename(columns ={'ind_ctju_fin_ult1' : 'P_JuniorAccount'},  inplace = True)\n",
    "df.rename(columns ={'ind_ctma_fin_ult1' : 'P_MásParticularAccount'},  inplace = True) #tres particulier \n",
    "df.rename(columns ={'ind_ctop_fin_ult1' : 'P_ParticularAccount'},  inplace = True)\n",
    "df.rename(columns ={'ind_ctpp_fin_ult1' : 'P_ParticularPlusAccount'},  inplace = True)\n",
    "df.rename(columns ={'ind_deco_fin_ult1' : 'P_ShortTermDeposits'},  inplace = True)\n",
    "df.rename(columns ={'ind_deme_fin_ult1' : 'P_MeduimTermDeposits'},  inplace = True)\n",
    "df.rename(columns ={'ind_dela_fin_ult1' : 'P_LongTermDeposits'},  inplace = True)\n",
    "df.rename(columns ={'ind_ecue_fin_ult1' : 'P_eAccount'},  inplace = True)\n",
    "df.rename(columns ={'ind_fond_fin_ult1' : 'P_Funds'}, inplace = True)\n",
    "df.rename(columns ={'ind_hip_fin_ult1' : 'P_Mortgage'},  inplace = True)#الرهن العقاري\n",
    "df.rename(columns ={'ind_plan_fin_ult1' : 'P_Pensions'},  inplace = True)#retraite\n",
    "df.rename(columns ={'ind_pres_fin_ult1' : 'P_Loans'}, inplace = True)#Prêts\n",
    "df.rename(columns ={'ind_reca_fin_ult1' : 'P_Taxes'}, inplace = True)\n",
    "df.rename(columns ={'ind_tjcr_fin_ult1' : 'P_CreditCard'},  inplace = True)\n",
    "df.rename(columns ={'ind_valo_fin_ult1' : 'P_securities'},  inplace = True)\n",
    "df.rename(columns ={'ind_viv_fin_ult1' : 'P_HomeAccount'},  inplace = True)\n",
    "df.rename(columns ={'ind_nomina_ult1' : 'P_Payroll'},  inplace = True)\n",
    "df.rename(columns ={'ind_nom_pens_ult1' : 'P_Pensions2'}, inplace = True)\n",
    "df.rename(columns ={'ind_recibo_ult1' : 'P_DirectDebit'},  inplace = True)"
   ]
  },
  {
   "cell_type": "code",
   "execution_count": 7,
   "id": "04ead954",
   "metadata": {},
   "outputs": [
    {
     "data": {
      "text/plain": [
       "Index(['fecha_dato', 'CustomerCode', 'EmployeeIndex', 'CustomerRresidence',\n",
       "       'sexe', 'age', 'FirstContractDate', 'ind_nuevo', 'seniority', 'indrel',\n",
       "       'LastPrimayCuDate', 'indrel_1mes', 'tiprel_1mes', 'indresi', 'indext',\n",
       "       'SpouseIndex', 'canal_entrada', 'indfall', 'tipodom', 'cod_prov',\n",
       "       'nomprov', 'ind_actividad_cliente', 'GrossIncome', 'segmentation',\n",
       "       'P_SavingAccount', 'P_Garantees', 'P_CurrentAccounts',\n",
       "       'P_Derivada_Account ', 'P_PayrollAccount', 'P_JuniorAccount',\n",
       "       'P_MásParticularAccount', 'P_ParticularAccount',\n",
       "       'P_ParticularPlusAccount', 'P_ShortTermDeposits',\n",
       "       'P_MeduimTermDeposits', 'P_LongTermDeposits', 'P_eAccount', 'P_Funds',\n",
       "       'P_Mortgage', 'P_Pensions', 'P_Loans', 'P_Taxes', 'P_CreditCard',\n",
       "       'P_securities', 'P_HomeAccount', 'P_Payroll', 'P_Pensions2',\n",
       "       'P_DirectDebit'],\n",
       "      dtype='object')"
      ]
     },
     "execution_count": 7,
     "metadata": {},
     "output_type": "execute_result"
    }
   ],
   "source": [
    "df.columns\n"
   ]
  },
  {
   "cell_type": "markdown",
   "id": "971255e6",
   "metadata": {},
   "source": [
    "<h2 align=\"center\" style=\"color:green\"> Duplicates rows</h2>"
   ]
  },
  {
   "cell_type": "code",
   "execution_count": 8,
   "id": "7c0b1739",
   "metadata": {},
   "outputs": [
    {
     "data": {
      "text/plain": [
       "False"
      ]
     },
     "execution_count": 8,
     "metadata": {},
     "output_type": "execute_result"
    }
   ],
   "source": [
    "df.duplicated().any()"
   ]
  },
  {
   "cell_type": "markdown",
   "id": "6fd180d1",
   "metadata": {},
   "source": [
    "<h2 align=\"center\" style=\"color:green\"> Convert to Date Time</h2>"
   ]
  },
  {
   "cell_type": "code",
   "execution_count": 9,
   "id": "f9235ba5",
   "metadata": {},
   "outputs": [
    {
     "data": {
      "text/plain": [
       "numpy.datetime64"
      ]
     },
     "execution_count": 9,
     "metadata": {},
     "output_type": "execute_result"
    }
   ],
   "source": [
    "# df.fecha_dato[1]\n",
    "df['fecha_dato'] = pd.to_datetime(df['fecha_dato'], format='%Y-%m-%d')\n",
    "df['FirstContractDate'] = pd.to_datetime(df['FirstContractDate'], format='%Y-%m-%d')\n",
    "df['LastPrimayCuDate'] = pd.to_datetime(df['LastPrimayCuDate'], format='%Y-%m-%d')\n",
    "df['fecha_dato'].dtype.type\n"
   ]
  },
  {
   "cell_type": "markdown",
   "id": "c087800c",
   "metadata": {},
   "source": [
    "<h2 align=\"center\" style=\"color:green\"> Spelling errors in categorical data</h2>"
   ]
  },
  {
   "cell_type": "code",
   "execution_count": 10,
   "id": "1e618975",
   "metadata": {},
   "outputs": [
    {
     "data": {
      "text/plain": [
       "array(['N', nan, 'A', 'B', 'F', 'S'], dtype=object)"
      ]
     },
     "execution_count": 10,
     "metadata": {},
     "output_type": "execute_result"
    }
   ],
   "source": [
    "df.EmployeeIndex.unique()\n"
   ]
  },
  {
   "cell_type": "code",
   "execution_count": 11,
   "id": "b2d28973",
   "metadata": {},
   "outputs": [
    {
     "data": {
      "text/plain": [
       "array(['ES', nan, 'CA', 'CH', 'CL', 'IE', 'AT', 'NL', 'FR', 'GB', 'DE',\n",
       "       'DO', 'BE', 'AR', 'VE', 'US', 'MX', 'BR', 'IT', 'EC', 'PE', 'CO',\n",
       "       'HN', 'FI', 'SE', 'AL', 'PT', 'MZ', 'CN', 'TW', 'PL', 'IN', 'CR',\n",
       "       'NI', 'HK', 'AD', 'CZ', 'AE', 'MA', 'GR', 'PR', 'RO', 'IL', 'RU',\n",
       "       'GT', 'GA', 'NO', 'SN', 'MR', 'UA', 'BG', 'PY', 'EE', 'SV', 'ET',\n",
       "       'CM', 'SA', 'CI', 'QA', 'LU', 'PA', 'BA', 'BO', 'AU', 'BY', 'KE',\n",
       "       'SG', 'HR', 'MD', 'SK', 'TR', 'AO', 'CU', 'GQ', 'EG', 'ZA', 'DK',\n",
       "       'UY', 'GE', 'TH', 'DZ', 'LB', 'JP', 'NG', 'PK', 'TN', 'TG', 'KR',\n",
       "       'GH', 'RS', 'VN', 'PH', 'KW', 'NZ', 'MM', 'KH', 'GI', 'SL', 'GN',\n",
       "       'GW', 'OM', 'CG', 'LV', 'LT', 'ML', 'MK', 'HU', 'IS', 'LY', 'CF',\n",
       "       'GM', 'KZ', 'CD', 'BZ', 'ZW'], dtype=object)"
      ]
     },
     "execution_count": 11,
     "metadata": {},
     "output_type": "execute_result"
    }
   ],
   "source": [
    "df.CustomerRresidence.unique()\n"
   ]
  },
  {
   "cell_type": "code",
   "execution_count": 12,
   "id": "2354e258",
   "metadata": {},
   "outputs": [
    {
     "data": {
      "text/plain": [
       "array(['H', 'V', nan], dtype=object)"
      ]
     },
     "execution_count": 12,
     "metadata": {},
     "output_type": "execute_result"
    }
   ],
   "source": [
    "df.sexe.unique()\n"
   ]
  },
  {
   "cell_type": "code",
   "execution_count": 13,
   "id": "e9a1ac2b",
   "metadata": {},
   "outputs": [
    {
     "data": {
      "text/plain": [
       "array(['S', nan, 'N'], dtype=object)"
      ]
     },
     "execution_count": 13,
     "metadata": {},
     "output_type": "execute_result"
    }
   ],
   "source": [
    "df.indresi.unique()\n"
   ]
  },
  {
   "cell_type": "code",
   "execution_count": 14,
   "id": "4c8725bd",
   "metadata": {},
   "outputs": [
    {
     "data": {
      "text/plain": [
       "array(['N', 'S', nan], dtype=object)"
      ]
     },
     "execution_count": 14,
     "metadata": {},
     "output_type": "execute_result"
    }
   ],
   "source": [
    "df.indext.unique()\n"
   ]
  },
  {
   "cell_type": "code",
   "execution_count": 15,
   "id": "f6d2d610",
   "metadata": {},
   "outputs": [
    {
     "data": {
      "text/plain": [
       "array([nan, 'N', 'S'], dtype=object)"
      ]
     },
     "execution_count": 15,
     "metadata": {},
     "output_type": "execute_result"
    }
   ],
   "source": [
    "df.SpouseIndex.unique()\n"
   ]
  },
  {
   "cell_type": "code",
   "execution_count": 16,
   "id": "4986807b",
   "metadata": {},
   "outputs": [
    {
     "data": {
      "text/plain": [
       "array(['KHL', 'KHE', 'KHD', 'KFA', 'KFC', 'KAT', nan, 'KAZ', 'RED', 'KHC',\n",
       "       'KHK', 'KGN', 'KHM', 'KHO', 'KDH', 'KEH', 'KAD', 'KBG', 'KGC',\n",
       "       'KHF', 'KFK', 'KHN', 'KHA', 'KAF', 'KGX', 'KFD', 'KAG', 'KFG',\n",
       "       'KAB', 'KCC', 'KAE', 'KAH', 'KAR', 'KFJ', 'KFL', 'KAI', 'KFU',\n",
       "       'KAQ', 'KFS', 'KAA', 'KFP', 'KAJ', 'KFN', 'KGV', 'KGY', 'KFF',\n",
       "       'KAP', 'KDE', 'KFV', '013', 'K00', 'KAK', 'KCK', 'KCL', 'KAY',\n",
       "       'KBU', 'KDR', 'KAC', 'KDT', 'KCG', 'KDO', 'KDY', 'KBQ', 'KDA',\n",
       "       'KBO', 'KCI', 'KEC', 'KBZ', 'KES', 'KDX', 'KAS', '007', 'KEU',\n",
       "       'KCA', 'KAL', 'KDC', 'KAW', 'KCS', 'KCB', 'KDU', 'KDQ', 'KCN',\n",
       "       'KCM', '004', 'KCH', 'KCD', 'KCE', 'KEV', 'KBL', 'KEA', 'KBH',\n",
       "       'KDV', 'KFT', 'KEY', 'KAO', 'KEJ', 'KEO', 'KEI', 'KEW', 'KDZ',\n",
       "       'KBV', 'KBR', 'KBF', 'KDP', 'KCO', 'KCF', 'KCV', 'KAM', 'KEZ',\n",
       "       'KBD', 'KAN', 'KBY', 'KCT', 'KDD', 'KBW', 'KCU', 'KBX', 'KDB',\n",
       "       'KBS', 'KBE', 'KCX', 'KBP', 'KBN', 'KEB', 'KDS', 'KEL', 'KDG',\n",
       "       'KDF', 'KEF', 'KCP', 'KDM', 'KBB', 'KDW', 'KBJ', 'KFI', 'KBM',\n",
       "       'KEG', 'KEN', 'KEQ', 'KAV', 'KFH', 'KFM', 'KAU', 'KED', 'KFR',\n",
       "       'KEK', 'KFB', 'KGW', 'KFE', 'KGU', 'KDI', 'KDN', 'KEE', 'KCR',\n",
       "       'KCQ', 'KEM', 'KCJ', 'KHQ', 'KDL'], dtype=object)"
      ]
     },
     "execution_count": 16,
     "metadata": {},
     "output_type": "execute_result"
    }
   ],
   "source": [
    "df.canal_entrada.unique()\n"
   ]
  },
  {
   "cell_type": "code",
   "execution_count": 17,
   "id": "ff8a8de0",
   "metadata": {},
   "outputs": [
    {
     "data": {
      "text/plain": [
       "array(['MALAGA', 'CIUDAD REAL', 'ZARAGOZA', 'TOLEDO', 'LEON', 'GIPUZKOA',\n",
       "       'CACERES', 'GIRONA', 'ZAMORA', 'BARCELONA', 'SALAMANCA', 'BURGOS',\n",
       "       'HUESCA', 'NAVARRA', 'AVILA', 'SEGOVIA', 'LUGO', 'LERIDA',\n",
       "       'MADRID', 'ALICANTE', 'SORIA', 'SEVILLA', 'CANTABRIA',\n",
       "       'BALEARS, ILLES', 'VALLADOLID', 'PONTEVEDRA', 'VALENCIA', 'TERUEL',\n",
       "       'CORUÑA, A', 'OURENSE', 'JAEN', 'CUENCA', 'BIZKAIA', 'CASTELLON',\n",
       "       'RIOJA, LA', 'ALBACETE', 'BADAJOZ', 'MURCIA', 'CADIZ', nan,\n",
       "       'ALMERIA', 'GUADALAJARA', 'PALENCIA', 'PALMAS, LAS', 'CORDOBA',\n",
       "       'HUELVA', 'GRANADA', 'ASTURIAS', 'SANTA CRUZ DE TENERIFE',\n",
       "       'MELILLA', 'TARRAGONA', 'ALAVA', 'CEUTA'], dtype=object)"
      ]
     },
     "execution_count": 17,
     "metadata": {},
     "output_type": "execute_result"
    }
   ],
   "source": [
    "df.nomprov.unique()\n"
   ]
  },
  {
   "cell_type": "code",
   "execution_count": 18,
   "id": "b82149f1",
   "metadata": {},
   "outputs": [
    {
     "data": {
      "text/plain": [
       "array(['02 - PARTICULARES', '03 - UNIVERSITARIO', nan, '01 - TOP'],\n",
       "      dtype=object)"
      ]
     },
     "execution_count": 18,
     "metadata": {},
     "output_type": "execute_result"
    }
   ],
   "source": [
    "df.segmentation.unique()\n"
   ]
  },
  {
   "cell_type": "code",
   "execution_count": 19,
   "id": "0f6584a4",
   "metadata": {},
   "outputs": [
    {
     "data": {
      "text/plain": [
       "array([' 0', nan, ' 1'], dtype=object)"
      ]
     },
     "execution_count": 19,
     "metadata": {},
     "output_type": "execute_result"
    }
   ],
   "source": [
    "df.ind_nuevo.unique()"
   ]
  },
  {
   "cell_type": "markdown",
   "id": "e8c2c9ad",
   "metadata": {},
   "source": [
    "<h2 align=\"center\" style=\"color:green\">  Change data type to reduce memory</h2>\n",
    "\n"
   ]
  },
  {
   "cell_type": "code",
   "execution_count": 20,
   "id": "24512d6a",
   "metadata": {},
   "outputs": [
    {
     "name": "stdout",
     "output_type": "stream",
     "text": [
      "<class 'pandas.core.frame.DataFrame'>\n",
      "RangeIndex: 4000000 entries, 0 to 3999999\n",
      "Data columns (total 48 columns):\n",
      " #   Column                   Dtype         \n",
      "---  ------                   -----         \n",
      " 0   fecha_dato               datetime64[ns]\n",
      " 1   CustomerCode             int64         \n",
      " 2   EmployeeIndex            object        \n",
      " 3   CustomerRresidence       object        \n",
      " 4   sexe                     object        \n",
      " 5   age                      object        \n",
      " 6   FirstContractDate        datetime64[ns]\n",
      " 7   ind_nuevo                object        \n",
      " 8   seniority                object        \n",
      " 9   indrel                   float64       \n",
      " 10  LastPrimayCuDate         datetime64[ns]\n",
      " 11  indrel_1mes              object        \n",
      " 12  tiprel_1mes              object        \n",
      " 13  indresi                  object        \n",
      " 14  indext                   object        \n",
      " 15  SpouseIndex              object        \n",
      " 16  canal_entrada            object        \n",
      " 17  indfall                  object        \n",
      " 18  tipodom                  float64       \n",
      " 19  cod_prov                 float64       \n",
      " 20  nomprov                  object        \n",
      " 21  ind_actividad_cliente    float64       \n",
      " 22  GrossIncome              float64       \n",
      " 23  segmentation             object        \n",
      " 24  P_SavingAccount          int64         \n",
      " 25  P_Garantees              int64         \n",
      " 26  P_CurrentAccounts        int64         \n",
      " 27  P_Derivada_Account       int64         \n",
      " 28  P_PayrollAccount         int64         \n",
      " 29  P_JuniorAccount          int64         \n",
      " 30  P_MásParticularAccount   int64         \n",
      " 31  P_ParticularAccount      int64         \n",
      " 32  P_ParticularPlusAccount  int64         \n",
      " 33  P_ShortTermDeposits      int64         \n",
      " 34  P_MeduimTermDeposits     int64         \n",
      " 35  P_LongTermDeposits       int64         \n",
      " 36  P_eAccount               int64         \n",
      " 37  P_Funds                  int64         \n",
      " 38  P_Mortgage               int64         \n",
      " 39  P_Pensions               int64         \n",
      " 40  P_Loans                  int64         \n",
      " 41  P_Taxes                  int64         \n",
      " 42  P_CreditCard             int64         \n",
      " 43  P_securities             int64         \n",
      " 44  P_HomeAccount            int64         \n",
      " 45  P_Payroll                float64       \n",
      " 46  P_Pensions2              float64       \n",
      " 47  P_DirectDebit            int64         \n",
      "dtypes: datetime64[ns](3), float64(7), int64(23), object(15)\n",
      "memory usage: 1.4+ GB\n"
     ]
    }
   ],
   "source": [
    "df.info()"
   ]
  },
  {
   "cell_type": "code",
   "execution_count": 21,
   "id": "6233ec5a",
   "metadata": {},
   "outputs": [],
   "source": [
    "d = dict.fromkeys(df.select_dtypes(np.int64).columns, np.int32)\n",
    "df = df.astype(d)\n",
    "\n",
    "d_ = dict.fromkeys(df.select_dtypes(np.float64).columns, np.float32)\n",
    "df = df.astype(d_)\n",
    "\n"
   ]
  },
  {
   "cell_type": "code",
   "execution_count": 22,
   "id": "51805630",
   "metadata": {},
   "outputs": [
    {
     "name": "stdout",
     "output_type": "stream",
     "text": [
      "<class 'pandas.core.frame.DataFrame'>\n",
      "RangeIndex: 4000000 entries, 0 to 3999999\n",
      "Data columns (total 48 columns):\n",
      " #   Column                   Dtype         \n",
      "---  ------                   -----         \n",
      " 0   fecha_dato               datetime64[ns]\n",
      " 1   CustomerCode             int32         \n",
      " 2   EmployeeIndex            object        \n",
      " 3   CustomerRresidence       object        \n",
      " 4   sexe                     object        \n",
      " 5   age                      object        \n",
      " 6   FirstContractDate        datetime64[ns]\n",
      " 7   ind_nuevo                object        \n",
      " 8   seniority                object        \n",
      " 9   indrel                   float32       \n",
      " 10  LastPrimayCuDate         datetime64[ns]\n",
      " 11  indrel_1mes              object        \n",
      " 12  tiprel_1mes              object        \n",
      " 13  indresi                  object        \n",
      " 14  indext                   object        \n",
      " 15  SpouseIndex              object        \n",
      " 16  canal_entrada            object        \n",
      " 17  indfall                  object        \n",
      " 18  tipodom                  float32       \n",
      " 19  cod_prov                 float32       \n",
      " 20  nomprov                  object        \n",
      " 21  ind_actividad_cliente    float32       \n",
      " 22  GrossIncome              float32       \n",
      " 23  segmentation             object        \n",
      " 24  P_SavingAccount          int32         \n",
      " 25  P_Garantees              int32         \n",
      " 26  P_CurrentAccounts        int32         \n",
      " 27  P_Derivada_Account       int32         \n",
      " 28  P_PayrollAccount         int32         \n",
      " 29  P_JuniorAccount          int32         \n",
      " 30  P_MásParticularAccount   int32         \n",
      " 31  P_ParticularAccount      int32         \n",
      " 32  P_ParticularPlusAccount  int32         \n",
      " 33  P_ShortTermDeposits      int32         \n",
      " 34  P_MeduimTermDeposits     int32         \n",
      " 35  P_LongTermDeposits       int32         \n",
      " 36  P_eAccount               int32         \n",
      " 37  P_Funds                  int32         \n",
      " 38  P_Mortgage               int32         \n",
      " 39  P_Pensions               int32         \n",
      " 40  P_Loans                  int32         \n",
      " 41  P_Taxes                  int32         \n",
      " 42  P_CreditCard             int32         \n",
      " 43  P_securities             int32         \n",
      " 44  P_HomeAccount            int32         \n",
      " 45  P_Payroll                float32       \n",
      " 46  P_Pensions2              float32       \n",
      " 47  P_DirectDebit            int32         \n",
      "dtypes: datetime64[ns](3), float32(7), int32(23), object(15)\n",
      "memory usage: 1007.1+ MB\n"
     ]
    }
   ],
   "source": [
    "df.info()"
   ]
  },
  {
   "cell_type": "markdown",
   "id": "ef7a274a",
   "metadata": {},
   "source": [
    "<h2 align=\"center\" style=\"color:green\"> Missing Data</h2>"
   ]
  },
  {
   "cell_type": "markdown",
   "id": "b23778ea",
   "metadata": {},
   "source": [
    "<h3 align=\"left\" style=\"color:#8FBC8F\"> Columns with missing values</h3>"
   ]
  },
  {
   "cell_type": "code",
   "execution_count": 23,
   "id": "be5f00d0",
   "metadata": {},
   "outputs": [
    {
     "name": "stdout",
     "output_type": "stream",
     "text": [
      "fecha_dato => 0\n",
      "CustomerCode => 0\n",
      "EmployeeIndex => 27734\n",
      "CustomerRresidence => 27734\n",
      "sexe => 27751\n",
      "age => 0\n",
      "FirstContractDate => 27734\n",
      "ind_nuevo => 27734\n",
      "seniority => 0\n",
      "indrel => 27734\n",
      "LastPrimayCuDate => 3995058\n",
      "indrel_1mes => 27741\n",
      "tiprel_1mes => 27741\n",
      "indresi => 27734\n",
      "indext => 27734\n",
      "SpouseIndex => 3999471\n",
      "canal_entrada => 28421\n",
      "indfall => 27734\n",
      "tipodom => 27734\n",
      "cod_prov => 51450\n",
      "nomprov => 51450\n",
      "ind_actividad_cliente => 27734\n",
      "GrossIncome => 701051\n",
      "segmentation => 28514\n",
      "P_SavingAccount => 0\n",
      "P_Garantees => 0\n",
      "P_CurrentAccounts => 0\n",
      "P_Derivada_Account  => 0\n",
      "P_PayrollAccount => 0\n",
      "P_JuniorAccount => 0\n",
      "P_MásParticularAccount => 0\n",
      "P_ParticularAccount => 0\n",
      "P_ParticularPlusAccount => 0\n",
      "P_ShortTermDeposits => 0\n",
      "P_MeduimTermDeposits => 0\n",
      "P_LongTermDeposits => 0\n",
      "P_eAccount => 0\n",
      "P_Funds => 0\n",
      "P_Mortgage => 0\n",
      "P_Pensions => 0\n",
      "P_Loans => 0\n",
      "P_Taxes => 0\n",
      "P_CreditCard => 0\n",
      "P_securities => 0\n",
      "P_HomeAccount => 0\n",
      "P_Payroll => 16063\n",
      "P_Pensions2 => 16063\n",
      "P_DirectDebit => 0\n"
     ]
    }
   ],
   "source": [
    "def missing_cols(df):\n",
    "    '''prints out columns with its amount of missing values'''\n",
    "    total = 0\n",
    "    for col in df.columns:\n",
    "        missing_vals = df[col].isnull().sum()\n",
    "        total += missing_vals\n",
    "        if (missing_vals is not 0):\n",
    "            \n",
    "            \n",
    "            print(f\"{col} => {df[col].isnull().sum()}\")\n",
    "    \n",
    "    if total is 0:\n",
    "        print(\"no missing values left\")\n",
    "            \n",
    "missing_cols(df)\n"
   ]
  },
  {
   "cell_type": "code",
   "execution_count": 24,
   "id": "00f0133f",
   "metadata": {},
   "outputs": [
    {
     "name": "stdout",
     "output_type": "stream",
     "text": [
      "EmployeeIndex => 0.69%\n",
      "CustomerRresidence => 0.69%\n",
      "sexe => 0.69%\n",
      "FirstContractDate => 0.69%\n",
      "ind_nuevo => 0.69%\n",
      "indrel => 0.69%\n",
      "LastPrimayCuDate => 99.88%\n",
      "indrel_1mes => 0.69%\n",
      "tiprel_1mes => 0.69%\n",
      "indresi => 0.69%\n",
      "indext => 0.69%\n",
      "SpouseIndex => 99.99%\n",
      "canal_entrada => 0.71%\n",
      "indfall => 0.69%\n",
      "tipodom => 0.69%\n",
      "cod_prov => 1.29%\n",
      "nomprov => 1.29%\n",
      "ind_actividad_cliente => 0.69%\n",
      "GrossIncome => 17.53%\n",
      "segmentation => 0.71%\n",
      "P_Payroll => 0.4%\n",
      "P_Pensions2 => 0.4%\n"
     ]
    }
   ],
   "source": [
    "def perc_missing(df):\n",
    "    '''prints out columns with missing values with its %'''\n",
    "    for col in df.columns:\n",
    "        pct = df[col].isna().mean() * 100\n",
    "        if (pct != 0):\n",
    "            print('{} => {}%'.format(col, round(pct, 2)))\n",
    "    \n",
    "perc_missing(df)"
   ]
  },
  {
   "cell_type": "markdown",
   "id": "ef60e4e5",
   "metadata": {},
   "source": [
    "<h3 align=\"center \" style=\"color:#8F7C8F\">Save the dataset  </h3>\n"
   ]
  },
  {
   "cell_type": "code",
   "execution_count": 26,
   "id": "2b9070c0",
   "metadata": {},
   "outputs": [],
   "source": [
    "df.to_csv('./afterCleaning/exploratory_df.csv', index=False)"
   ]
  },
  {
   "cell_type": "code",
   "execution_count": null,
   "id": "45c2c271",
   "metadata": {},
   "outputs": [],
   "source": []
  }
 ],
 "metadata": {
  "kernelspec": {
   "display_name": "Python 3 (ipykernel)",
   "language": "python",
   "name": "python3"
  },
  "language_info": {
   "codemirror_mode": {
    "name": "ipython",
    "version": 3
   },
   "file_extension": ".py",
   "mimetype": "text/x-python",
   "name": "python",
   "nbconvert_exporter": "python",
   "pygments_lexer": "ipython3",
   "version": "3.9.12"
  }
 },
 "nbformat": 4,
 "nbformat_minor": 5
}
