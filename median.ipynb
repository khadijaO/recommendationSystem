{
 "cells": [
  {
   "cell_type": "code",
   "execution_count": 8,
   "id": "40c7bbd6",
   "metadata": {},
   "outputs": [
    {
     "name": "stdout",
     "output_type": "stream",
     "text": [
      "%pylab is deprecated, use %matplotlib inline and import the required libraries.\n",
      "Populating the interactive namespace from numpy and matplotlib\n"
     ]
    }
   ],
   "source": [
    "#Importing Libraries\n",
    "import numpy as np\n",
    "import pandas as pd\n",
    "import seaborn as sns\n",
    "import matplotlib.pyplot as plt\n",
    "%pylab inline\n",
    "pylab.rcParams['figure.figsize'] = (10, 6)\n",
    "\n",
    "\n",
    "import warnings\n",
    "warnings.filterwarnings(\"ignore\")"
   ]
  },
  {
   "cell_type": "markdown",
   "id": "526f014a",
   "metadata": {},
   "source": [
    "<h2 align=\"center\" style=\"color:green\"> Load data</h2>"
   ]
  },
  {
   "cell_type": "code",
   "execution_count": 9,
   "id": "52864965",
   "metadata": {},
   "outputs": [],
   "source": [
    "\n",
    "limit_rows   = 4000000\n",
    "fill_median_df           = pd.read_csv(\"./afterCleaning/drop_features_df.csv\",dtype={\"sexo\":str,\n",
    "                                                    \"ind_nuevo\":str,\n",
    "                                                    \"ult_fec_cli_1t\":str,\n",
    "                   \n",
    "                                                   \"indext\":str}, nrows=limit_rows,low_memory=False)\n"
   ]
  },
  {
   "cell_type": "markdown",
   "id": "0ffb33d3",
   "metadata": {},
   "source": [
    "<h2 align=\"center\" style=\"color:green\"> Missing Data</h2>"
   ]
  },
  {
   "cell_type": "markdown",
   "id": "bc2e1675",
   "metadata": {},
   "source": [
    "<h3 align=\"left\" style=\"color:#8FBC8F\">3) filling in null values based on median</h3>\n"
   ]
  },
  {
   "cell_type": "code",
   "execution_count": 10,
   "id": "fae5a4a8",
   "metadata": {},
   "outputs": [],
   "source": [
    "def perc_missing(df):\n",
    "    '''prints out columns with missing values with its %'''\n",
    "    for col in df.columns:\n",
    "        pct = df[col].isna().mean() * 100\n",
    "        if (pct != 0):\n",
    "            print('{} => {}%'.format(col, round(pct, 2)))\n",
    " "
   ]
  },
  {
   "cell_type": "code",
   "execution_count": 11,
   "id": "13c71676",
   "metadata": {},
   "outputs": [
    {
     "name": "stdout",
     "output_type": "stream",
     "text": [
      "EmployeeIndex => 0.69%\n",
      "CustomerRresidence => 0.69%\n",
      "sexe => 0.69%\n",
      "FirstContractDate => 0.69%\n",
      "ind_nuevo => 0.69%\n",
      "indrel => 0.69%\n",
      "indrel_1mes => 0.69%\n",
      "tiprel_1mes => 0.69%\n",
      "indresi => 0.69%\n",
      "indext => 0.69%\n",
      "canal_entrada => 0.71%\n",
      "indfall => 0.69%\n",
      "tipodom => 0.69%\n",
      "cod_prov => 1.29%\n",
      "nomprov => 1.29%\n",
      "ind_actividad_cliente => 0.69%\n",
      "GrossIncome => 17.53%\n",
      "segmentation => 0.71%\n",
      "P_Payroll => 0.4%\n"
     ]
    }
   ],
   "source": [
    "perc_missing(fill_median_df)"
   ]
  },
  {
   "cell_type": "markdown",
   "id": "a0e88f9e",
   "metadata": {},
   "source": [
    "<h3 align=\"center \" style=\"color:#8F7C8F\">mode for  non numeric values </h3>\n"
   ]
  },
  {
   "cell_type": "code",
   "execution_count": 12,
   "id": "28dd4489",
   "metadata": {},
   "outputs": [],
   "source": [
    "num_df_m = fill_median_df.select_dtypes(exclude=['object'])"
   ]
  },
  {
   "cell_type": "code",
   "execution_count": 13,
   "id": "b4b63944",
   "metadata": {},
   "outputs": [],
   "source": [
    "def MedianFill(fill_median_df):\n",
    "   \n",
    "     for col in fill_median_df.columns:\n",
    "        pct = fill_median_df[col].isna().mean() * 100\n",
    "\n",
    "        if (pct != 0):\n",
    "            # imputing price with mean\n",
    "            col_med = round(fill_median_df[col].mean(), 2)\n",
    "            fill_median_df[col].fillna(col_med, inplace=True)\n",
    "    \n",
    "    \n",
    "MedianFill(num_df_m)"
   ]
  },
  {
   "cell_type": "code",
   "execution_count": 14,
   "id": "bc3faa38",
   "metadata": {},
   "outputs": [
    {
     "name": "stdout",
     "output_type": "stream",
     "text": [
      "EmployeeIndex => 0.69%\n",
      "CustomerRresidence => 0.69%\n",
      "sexe => 0.69%\n",
      "FirstContractDate => 0.69%\n",
      "ind_nuevo => 0.69%\n",
      "indrel_1mes => 0.69%\n",
      "tiprel_1mes => 0.69%\n",
      "indresi => 0.69%\n",
      "indext => 0.69%\n",
      "canal_entrada => 0.71%\n",
      "indfall => 0.69%\n",
      "nomprov => 1.29%\n",
      "segmentation => 0.71%\n"
     ]
    }
   ],
   "source": [
    "perc_missing(fill_median_df)"
   ]
  },
  {
   "cell_type": "markdown",
   "id": "30f164cf",
   "metadata": {},
   "source": [
    "<h3 align=\"center \" style=\"color:#8F7C8F\">mode for  non numeric values </h3>\n"
   ]
  },
  {
   "cell_type": "code",
   "execution_count": 16,
   "id": "c2eaa518",
   "metadata": {},
   "outputs": [],
   "source": [
    "def modeFill(fill_mean_df):\n",
    "   \n",
    "    for col in fill_mean_df.columns:\n",
    "        pct = fill_mean_df[col].isna().mean() * 100\n",
    "        if (pct != 0):\n",
    "#             print(fill_mean_df[col].mode()+\"------\")\n",
    "            fill_mean_df[col].fillna(fill_mean_df[col].mode()[0], inplace=True)\n",
    "    \n"
   ]
  },
  {
   "cell_type": "code",
   "execution_count": 17,
   "id": "861c51f0",
   "metadata": {},
   "outputs": [],
   "source": [
    "\n",
    "modeFill(fill_median_df)"
   ]
  },
  {
   "cell_type": "code",
   "execution_count": 18,
   "id": "0b3bfdcf",
   "metadata": {},
   "outputs": [],
   "source": [
    "perc_missing(fill_median_df)"
   ]
  },
  {
   "cell_type": "markdown",
   "id": "8489cc55",
   "metadata": {},
   "source": [
    "<h3 align=\"center \" style=\"color:#8F7C8F\">Save the dataset  </h3>\n"
   ]
  },
  {
   "cell_type": "code",
   "execution_count": 19,
   "id": "bce56d9d",
   "metadata": {},
   "outputs": [],
   "source": [
    "fill_median_df.to_csv(\"./afterCleaning/fill_median_df.csv\") \n"
   ]
  }
 ],
 "metadata": {
  "kernelspec": {
   "display_name": "Python 3 (ipykernel)",
   "language": "python",
   "name": "python3"
  },
  "language_info": {
   "codemirror_mode": {
    "name": "ipython",
    "version": 3
   },
   "file_extension": ".py",
   "mimetype": "text/x-python",
   "name": "python",
   "nbconvert_exporter": "python",
   "pygments_lexer": "ipython3",
   "version": "3.9.12"
  }
 },
 "nbformat": 4,
 "nbformat_minor": 5
}
