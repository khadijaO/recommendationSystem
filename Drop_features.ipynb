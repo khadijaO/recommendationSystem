{
 "cells": [
  {
   "cell_type": "code",
   "execution_count": 1,
   "id": "40c7bbd6",
   "metadata": {},
   "outputs": [
    {
     "name": "stdout",
     "output_type": "stream",
     "text": [
      "%pylab is deprecated, use %matplotlib inline and import the required libraries.\n",
      "Populating the interactive namespace from numpy and matplotlib\n"
     ]
    }
   ],
   "source": [
    "#Importing Libraries\n",
    "import numpy as np\n",
    "import pandas as pd\n",
    "import seaborn as sns\n",
    "import matplotlib.pyplot as plt\n",
    "%pylab inline\n",
    "pylab.rcParams['figure.figsize'] = (10, 6)\n",
    "\n",
    "\n",
    "import warnings\n",
    "warnings.filterwarnings(\"ignore\")"
   ]
  },
  {
   "cell_type": "markdown",
   "id": "339d81d8",
   "metadata": {},
   "source": [
    "<h2 align=\"center\" style=\"color:green\"> Load data</h2>"
   ]
  },
  {
   "cell_type": "code",
   "execution_count": 2,
   "id": "5caf8c2a",
   "metadata": {},
   "outputs": [],
   "source": [
    "\n",
    "limit_rows   = 4000000\n",
    "new_df           = pd.read_csv(\"./afterCleaning/exploratory_df.csv\",dtype={\"sexo\":str,\n",
    "                                                    \"ind_nuevo\":str,\n",
    "                                                    \"ult_fec_cli_1t\":str,\n",
    "                   \n",
    "                                                   \"indext\":str}, nrows=limit_rows,low_memory=False)\n"
   ]
  },
  {
   "cell_type": "markdown",
   "id": "1a989766",
   "metadata": {},
   "source": [
    "<h2 align=\"center\" style=\"color:green\"> Exploratory Data Analysis</h2>"
   ]
  },
  {
   "cell_type": "markdown",
   "id": "00734b6d",
   "metadata": {},
   "source": [
    "<h2 align=\"center\" style=\"color:green\"> Technique to deal with missing values</h2>"
   ]
  },
  {
   "cell_type": "markdown",
   "id": "0ff62457",
   "metadata": {},
   "source": [
    "<h3 align=\"left\" style=\"color:#8FBC8F\">1) droping the feature</h3>\n"
   ]
  },
  {
   "cell_type": "code",
   "execution_count": 3,
   "id": "ea5a9eb7",
   "metadata": {},
   "outputs": [],
   "source": [
    "# we can drop the product Pension who is already repeted \n",
    "#and the feature in wich 99% of data is missing  LastPrimayCuDate and SpouseIndex \n",
    "colsToDrop = ['P_Pensions2','SpouseIndex' ,'LastPrimayCuDate']\n",
    "\n",
    "new_df.drop(colsToDrop, axis=1, inplace=True)\n"
   ]
  },
  {
   "cell_type": "code",
   "execution_count": 4,
   "id": "07cead90",
   "metadata": {},
   "outputs": [
    {
     "data": {
      "text/plain": [
       "(4000000, 45)"
      ]
     },
     "execution_count": 4,
     "metadata": {},
     "output_type": "execute_result"
    }
   ],
   "source": [
    "new_df.shape"
   ]
  },
  {
   "cell_type": "markdown",
   "id": "c593f071",
   "metadata": {},
   "source": [
    "<h3 align=\"center \" style=\"color:#8F7C8F\">Save the dataset  </h3>\n"
   ]
  },
  {
   "cell_type": "code",
   "execution_count": 5,
   "id": "06416cdd",
   "metadata": {},
   "outputs": [],
   "source": [
    "new_df.to_csv('./afterCleaning/drop_features_df.csv', index=False)"
   ]
  }
 ],
 "metadata": {
  "kernelspec": {
   "display_name": "Python 3 (ipykernel)",
   "language": "python",
   "name": "python3"
  },
  "language_info": {
   "codemirror_mode": {
    "name": "ipython",
    "version": 3
   },
   "file_extension": ".py",
   "mimetype": "text/x-python",
   "name": "python",
   "nbconvert_exporter": "python",
   "pygments_lexer": "ipython3",
   "version": "3.9.12"
  }
 },
 "nbformat": 4,
 "nbformat_minor": 5
}
