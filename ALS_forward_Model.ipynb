{
 "cells": [
  {
   "cell_type": "code",
   "execution_count": 2,
   "id": "b5cb4f3a",
   "metadata": {},
   "outputs": [
    {
     "data": {
      "text/plain": [
       "'C:\\\\Users\\\\khadi\\\\Desktop\\\\spark-3.3.0-bin-hadoop3'"
      ]
     },
     "execution_count": 2,
     "metadata": {},
     "output_type": "execute_result"
    }
   ],
   "source": [
    "import findspark\n",
    "findspark.init()\n",
    "findspark.find()"
   ]
  },
  {
   "cell_type": "markdown",
   "id": "9388e487",
   "metadata": {
    "pycharm": {
     "name": "#%% md\n"
    }
   },
   "source": [
    "here we have not  an explicit rating about each product , but we have an implicit one , we can extract either a user likes an X product by \n",
    "counting the number of time that user purchased that X product \n",
    "\n",
    "\n",
    "P(u,i)between (0,1)\n",
    "R(u,i) in R\n",
    "\n",
    "\n",
    "P(u,i)====>0 if R(u,i)=0\n",
    "      ====>1 if R(u,i)>=1"
   ]
  },
  {
   "cell_type": "code",
   "execution_count": 1,
   "id": "07f10c4c",
   "metadata": {
    "pycharm": {
     "is_executing": true,
     "name": "#%%\n"
    }
   },
   "outputs": [
    {
     "name": "stdout",
     "output_type": "stream",
     "text": [
      "%pylab is deprecated, use %matplotlib inline and import the required libraries.\n",
      "Populating the interactive namespace from numpy and matplotlib\n"
     ]
    }
   ],
   "source": [
    "#Importing Libraries\n",
    "import numpy as np\n",
    "import pandas as pd\n",
    "import seaborn as sns\n",
    "import matplotlib.pyplot as plt\n",
    "%pylab inline\n",
    "pylab.rcParams['figure.figsize'] = (10, 6)\n",
    "\n",
    "\n",
    "import scipy.sparse as sparse\n",
    "from scipy.sparse.linalg import spsolve\n",
    "import random\n",
    "from sklearn import metrics\n",
    "from sklearn.preprocessing import MinMaxScaler\n",
    "# import implicit\n",
    "\n",
    "import warnings\n",
    "warnings.filterwarnings(\"ignore\")"
   ]
  },
  {
   "cell_type": "code",
   "execution_count": 3,
   "id": "04306147",
   "metadata": {},
   "outputs": [],
   "source": [
    "R           = pd.read_csv(\"./ALS_datasets/fill_forward_als.csv\")\n",
    "\n"
   ]
  },
  {
   "cell_type": "code",
   "execution_count": 6,
   "id": "e0ec466c",
   "metadata": {},
   "outputs": [
    {
     "data": {
      "text/html": [
       "<div>\n",
       "<style scoped>\n",
       "    .dataframe tbody tr th:only-of-type {\n",
       "        vertical-align: middle;\n",
       "    }\n",
       "\n",
       "    .dataframe tbody tr th {\n",
       "        vertical-align: top;\n",
       "    }\n",
       "\n",
       "    .dataframe thead th {\n",
       "        text-align: right;\n",
       "    }\n",
       "</style>\n",
       "<table border=\"1\" class=\"dataframe\">\n",
       "  <thead>\n",
       "    <tr style=\"text-align: right;\">\n",
       "      <th></th>\n",
       "      <th>CustomerCode</th>\n",
       "      <th>Quantity</th>\n",
       "      <th>itemCode</th>\n",
       "    </tr>\n",
       "  </thead>\n",
       "  <tbody>\n",
       "    <tr>\n",
       "      <th>count</th>\n",
       "      <td>1.150000e+05</td>\n",
       "      <td>115000.000000</td>\n",
       "      <td>115000.000000</td>\n",
       "    </tr>\n",
       "    <tr>\n",
       "      <th>mean</th>\n",
       "      <td>1.052455e+06</td>\n",
       "      <td>1.330826</td>\n",
       "      <td>12.000000</td>\n",
       "    </tr>\n",
       "    <tr>\n",
       "      <th>std</th>\n",
       "      <td>5.452519e+03</td>\n",
       "      <td>1.349391</td>\n",
       "      <td>6.633278</td>\n",
       "    </tr>\n",
       "    <tr>\n",
       "      <th>min</th>\n",
       "      <td>1.044068e+06</td>\n",
       "      <td>1.000000</td>\n",
       "      <td>1.000000</td>\n",
       "    </tr>\n",
       "    <tr>\n",
       "      <th>25%</th>\n",
       "      <td>1.049965e+06</td>\n",
       "      <td>1.000000</td>\n",
       "      <td>6.000000</td>\n",
       "    </tr>\n",
       "    <tr>\n",
       "      <th>50%</th>\n",
       "      <td>1.052314e+06</td>\n",
       "      <td>1.000000</td>\n",
       "      <td>12.000000</td>\n",
       "    </tr>\n",
       "    <tr>\n",
       "      <th>75%</th>\n",
       "      <td>1.055044e+06</td>\n",
       "      <td>1.000000</td>\n",
       "      <td>18.000000</td>\n",
       "    </tr>\n",
       "    <tr>\n",
       "      <th>max</th>\n",
       "      <td>1.375586e+06</td>\n",
       "      <td>7.000000</td>\n",
       "      <td>23.000000</td>\n",
       "    </tr>\n",
       "  </tbody>\n",
       "</table>\n",
       "</div>"
      ],
      "text/plain": [
       "       CustomerCode       Quantity       itemCode\n",
       "count  1.150000e+05  115000.000000  115000.000000\n",
       "mean   1.052455e+06       1.330826      12.000000\n",
       "std    5.452519e+03       1.349391       6.633278\n",
       "min    1.044068e+06       1.000000       1.000000\n",
       "25%    1.049965e+06       1.000000       6.000000\n",
       "50%    1.052314e+06       1.000000      12.000000\n",
       "75%    1.055044e+06       1.000000      18.000000\n",
       "max    1.375586e+06       7.000000      23.000000"
      ]
     },
     "execution_count": 6,
     "metadata": {},
     "output_type": "execute_result"
    }
   ],
   "source": [
    "R.describe()"
   ]
  },
  {
   "cell_type": "code",
   "execution_count": 7,
   "id": "a4207595",
   "metadata": {},
   "outputs": [
    {
     "data": {
      "text/plain": [
       "(115000, 4)"
      ]
     },
     "execution_count": 7,
     "metadata": {},
     "output_type": "execute_result"
    }
   ],
   "source": [
    "R.shape"
   ]
  },
  {
   "cell_type": "code",
   "execution_count": 14,
   "id": "505a5639",
   "metadata": {},
   "outputs": [],
   "source": [
    "maxV=R['Quantity'].max()"
   ]
  },
  {
   "cell_type": "code",
   "execution_count": 15,
   "id": "40777910",
   "metadata": {},
   "outputs": [],
   "source": [
    "minV=R['Quantity'].min()"
   ]
  },
  {
   "cell_type": "code",
   "execution_count": 4,
   "id": "1fede622",
   "metadata": {
    "pycharm": {
     "name": "#%%\n"
    }
   },
   "outputs": [],
   "source": [
    "from pyspark.mllib.recommendation import ALS"
   ]
  },
  {
   "cell_type": "code",
   "execution_count": 5,
   "id": "f8179f85",
   "metadata": {
    "pycharm": {
     "name": "#%%\n"
    }
   },
   "outputs": [],
   "source": [
    "from pyspark import SparkContext\n",
    "from pyspark.sql import SQLContext \n",
    "sc = SparkContext(\"local\", \"App Name\")\n",
    "sql = SQLContext(sc)\n"
   ]
  },
  {
   "cell_type": "code",
   "execution_count": 8,
   "id": "c178d528",
   "metadata": {
    "pycharm": {
     "name": "#%%\n"
    }
   },
   "outputs": [],
   "source": [
    "spark_df = sql.createDataFrame(R)\n",
    "(training, test) = spark_df.randomSplit([0.8, 0.2])"
   ]
  },
  {
   "cell_type": "code",
   "execution_count": 20,
   "id": "8428cfa1",
   "metadata": {
    "pycharm": {
     "name": "#%%\n"
    }
   },
   "outputs": [],
   "source": [
    "from pyspark.ml.evaluation import RegressionEvaluator\n",
    "from pyspark.ml.recommendation import ALS\n",
    "from pyspark.sql import Row"
   ]
  },
  {
   "cell_type": "code",
   "execution_count": 10,
   "id": "cabbfa81",
   "metadata": {
    "pycharm": {
     "name": "#%%\n"
    }
   },
   "outputs": [
    {
     "data": {
      "text/html": [
       "<div>\n",
       "<style scoped>\n",
       "    .dataframe tbody tr th:only-of-type {\n",
       "        vertical-align: middle;\n",
       "    }\n",
       "\n",
       "    .dataframe tbody tr th {\n",
       "        vertical-align: top;\n",
       "    }\n",
       "\n",
       "    .dataframe thead th {\n",
       "        text-align: right;\n",
       "    }\n",
       "</style>\n",
       "<table border=\"1\" class=\"dataframe\">\n",
       "  <thead>\n",
       "    <tr style=\"text-align: right;\">\n",
       "      <th></th>\n",
       "      <th>summary</th>\n",
       "      <th>Quantity</th>\n",
       "    </tr>\n",
       "  </thead>\n",
       "  <tbody>\n",
       "    <tr>\n",
       "      <th>0</th>\n",
       "      <td>count</td>\n",
       "      <td>115000</td>\n",
       "    </tr>\n",
       "    <tr>\n",
       "      <th>1</th>\n",
       "      <td>mean</td>\n",
       "      <td>1.3308260869565218</td>\n",
       "    </tr>\n",
       "    <tr>\n",
       "      <th>2</th>\n",
       "      <td>stddev</td>\n",
       "      <td>1.3493913036065408</td>\n",
       "    </tr>\n",
       "    <tr>\n",
       "      <th>3</th>\n",
       "      <td>min</td>\n",
       "      <td>1</td>\n",
       "    </tr>\n",
       "    <tr>\n",
       "      <th>4</th>\n",
       "      <td>max</td>\n",
       "      <td>7</td>\n",
       "    </tr>\n",
       "  </tbody>\n",
       "</table>\n",
       "</div>"
      ],
      "text/plain": [
       "  summary            Quantity\n",
       "0   count              115000\n",
       "1    mean  1.3308260869565218\n",
       "2  stddev  1.3493913036065408\n",
       "3     min                   1\n",
       "4     max                   7"
      ]
     },
     "execution_count": 10,
     "metadata": {},
     "output_type": "execute_result"
    }
   ],
   "source": [
    "spark_df.select('Quantity').describe().toPandas()"
   ]
  },
  {
   "cell_type": "code",
   "execution_count": 11,
   "id": "ce63fc23",
   "metadata": {},
   "outputs": [],
   "source": [
    "from pyspark.ml.evaluation import RegressionEvaluator\n",
    "from pyspark.ml.recommendation import ALS\n",
    "from pyspark.sql import Row"
   ]
  },
  {
   "cell_type": "code",
   "execution_count": 16,
   "id": "16d49e1a",
   "metadata": {},
   "outputs": [],
   "source": [
    "\n",
    "from pyspark.ml.recommendation import ALS\n",
    "\n",
    "\n",
    "def tune_ALS(train_data, validation_data, maxIter, regParams, ranks):\n",
    " \n",
    "  \n",
    "    # initial\n",
    "    min_error = float('inf')\n",
    "    best_rank = -1\n",
    "    best_regularization = 0\n",
    "    best_model = None\n",
    "    for rank in ranks:\n",
    "        for reg in regParams:\n",
    "            # get ALS model\n",
    "            als = ALS(userCol=\"CustomerCode\", itemCol=\"itemCode\", coldStartStrategy=\"drop\",implicitPrefs=True, seed=1, ratingCol=\"Quantity\").setMaxIter(maxIter).setRank(rank).setRegParam(reg)\n",
    "            # train ALS model\n",
    "            model = als.fit(training)\n",
    "            # evaluate the model by computing the RMSE on the validation data\n",
    "            predictions = model.transform(test)\n",
    "            evaluator = RegressionEvaluator(metricName=\"rmse\",\n",
    "                                            labelCol=\"Quantity\",\n",
    "                                            predictionCol=\"prediction\")\n",
    "            rmse = evaluator.evaluate(predictions)/(maxV-minV)\n",
    "            print('{} latent factors and regularization = {}: '\n",
    "                  'validation RMSE is {}'.format(rank, reg, rmse))\n",
    "            if rmse < min_error:\n",
    "                min_error = rmse\n",
    "                best_rank = rank\n",
    "                best_regularization = reg\n",
    "                best_model = model\n",
    "    print('\\nThe best model has {} latent factors and '\n",
    "          'regularization = {}'.format(best_rank, best_regularization))\n",
    "    return best_model\n",
    "    "
   ]
  },
  {
   "cell_type": "code",
   "execution_count": 17,
   "id": "f67e84fd",
   "metadata": {},
   "outputs": [
    {
     "name": "stdout",
     "output_type": "stream",
     "text": [
      "1 latent factors and regularization = 0.06: validation RMSE is 0.23380914837146716\n",
      "1 latent factors and regularization = 0.05: validation RMSE is 0.23385186774136443\n",
      "1 latent factors and regularization = 0.1: validation RMSE is 0.23426472167904325\n",
      "1 latent factors and regularization = 0.2: validation RMSE is 0.23662711947520695\n",
      "2 latent factors and regularization = 0.06: validation RMSE is 0.235280872242442\n",
      "2 latent factors and regularization = 0.05: validation RMSE is 0.23581013473355505\n",
      "2 latent factors and regularization = 0.1: validation RMSE is 0.2356674366747693\n",
      "2 latent factors and regularization = 0.2: validation RMSE is 0.2365850852431497\n",
      "4 latent factors and regularization = 0.06: validation RMSE is 0.25264229347263395\n",
      "4 latent factors and regularization = 0.05: validation RMSE is 0.2548173781310852\n",
      "4 latent factors and regularization = 0.1: validation RMSE is 0.24467130969331705\n",
      "4 latent factors and regularization = 0.2: validation RMSE is 0.23667563148913232\n",
      "10 latent factors and regularization = 0.06: validation RMSE is 0.2622691042104257\n",
      "10 latent factors and regularization = 0.05: validation RMSE is 0.2663701645547606\n",
      "10 latent factors and regularization = 0.1: validation RMSE is 0.24832536452536932\n",
      "10 latent factors and regularization = 0.2: validation RMSE is 0.23683911668014976\n",
      "\n",
      "The best model has 1 latent factors and regularization = 0.06\n"
     ]
    },
    {
     "data": {
      "text/plain": [
       "ALSModel: uid=ALS_59831648f548, rank=1"
      ]
     },
     "execution_count": 17,
     "metadata": {},
     "output_type": "execute_result"
    }
   ],
   "source": [
    "ranks=[1,2,4,10]\n",
    "regul=[0.06,0.05,0.1,0.2]\n",
    "tune_ALS(training,test,10,regul,ranks)"
   ]
  },
  {
   "cell_type": "code",
   "execution_count": 20,
   "id": "f11c688a",
   "metadata": {},
   "outputs": [],
   "source": [
    "# als = ALS(maxIter=20, regParam=0.05, userCol=\"CustomerCode\",  seed=1,itemCol=\"itemCode\", ratingCol=\"Purchases\",rank=5,\n",
    "#           coldStartStrategy=\"drop\",implicitPrefs=True,)\n",
    "als = ALS(userCol=\"CustomerCode\", itemCol=\"itemCode\", seed=1, ratingCol=\"Quantity\", \n",
    "          coldStartStrategy=\"drop\",implicitPrefs=True).setMaxIter(10).setRank(1).setRegParam(0.06)\n",
    "            \n",
    "# model = als.fit(R)\n"
   ]
  },
  {
   "cell_type": "code",
   "execution_count": 21,
   "id": "c0cf5c06",
   "metadata": {},
   "outputs": [],
   "source": [
    "model = als.fit(training)"
   ]
  },
  {
   "cell_type": "code",
   "execution_count": 24,
   "id": "9a56f586",
   "metadata": {},
   "outputs": [
    {
     "name": "stdout",
     "output_type": "stream",
     "text": [
      "Root-mean-square error = 0.23380914837146716\n"
     ]
    }
   ],
   "source": [
    "# Evaluate the model by computing the RMSE on the test data\n",
    "predictions = model.transform(test)\n",
    "\n",
    "evaluator = RegressionEvaluator(metricName=\"rmse\", labelCol=\"Quantity\",\n",
    "                                predictionCol=\"prediction\")\n",
    "rmse = evaluator.evaluate(predictions)\n",
    "print(\"Root-mean-square error = \" + str(rmse/6))\n"
   ]
  },
  {
   "cell_type": "code",
   "execution_count": 26,
   "id": "c24739b0",
   "metadata": {},
   "outputs": [
    {
     "data": {
      "text/html": [
       "<div>\n",
       "<style scoped>\n",
       "    .dataframe tbody tr th:only-of-type {\n",
       "        vertical-align: middle;\n",
       "    }\n",
       "\n",
       "    .dataframe tbody tr th {\n",
       "        vertical-align: top;\n",
       "    }\n",
       "\n",
       "    .dataframe thead th {\n",
       "        text-align: right;\n",
       "    }\n",
       "</style>\n",
       "<table border=\"1\" class=\"dataframe\">\n",
       "  <thead>\n",
       "    <tr style=\"text-align: right;\">\n",
       "      <th></th>\n",
       "      <th>Quantity</th>\n",
       "      <th>prediction</th>\n",
       "    </tr>\n",
       "  </thead>\n",
       "  <tbody>\n",
       "    <tr>\n",
       "      <th>0</th>\n",
       "      <td>7</td>\n",
       "      <td>0.789014</td>\n",
       "    </tr>\n",
       "    <tr>\n",
       "      <th>1</th>\n",
       "      <td>1</td>\n",
       "      <td>0.700563</td>\n",
       "    </tr>\n",
       "    <tr>\n",
       "      <th>2</th>\n",
       "      <td>1</td>\n",
       "      <td>0.698833</td>\n",
       "    </tr>\n",
       "    <tr>\n",
       "      <th>3</th>\n",
       "      <td>1</td>\n",
       "      <td>0.702992</td>\n",
       "    </tr>\n",
       "    <tr>\n",
       "      <th>4</th>\n",
       "      <td>1</td>\n",
       "      <td>0.709655</td>\n",
       "    </tr>\n",
       "    <tr>\n",
       "      <th>...</th>\n",
       "      <td>...</td>\n",
       "      <td>...</td>\n",
       "    </tr>\n",
       "    <tr>\n",
       "      <th>95</th>\n",
       "      <td>1</td>\n",
       "      <td>0.772311</td>\n",
       "    </tr>\n",
       "    <tr>\n",
       "      <th>96</th>\n",
       "      <td>1</td>\n",
       "      <td>0.842338</td>\n",
       "    </tr>\n",
       "    <tr>\n",
       "      <th>97</th>\n",
       "      <td>1</td>\n",
       "      <td>0.836026</td>\n",
       "    </tr>\n",
       "    <tr>\n",
       "      <th>98</th>\n",
       "      <td>1</td>\n",
       "      <td>0.844574</td>\n",
       "    </tr>\n",
       "    <tr>\n",
       "      <th>99</th>\n",
       "      <td>1</td>\n",
       "      <td>0.836874</td>\n",
       "    </tr>\n",
       "  </tbody>\n",
       "</table>\n",
       "<p>100 rows × 2 columns</p>\n",
       "</div>"
      ],
      "text/plain": [
       "    Quantity  prediction\n",
       "0          7    0.789014\n",
       "1          1    0.700563\n",
       "2          1    0.698833\n",
       "3          1    0.702992\n",
       "4          1    0.709655\n",
       "..       ...         ...\n",
       "95         1    0.772311\n",
       "96         1    0.842338\n",
       "97         1    0.836026\n",
       "98         1    0.844574\n",
       "99         1    0.836874\n",
       "\n",
       "[100 rows x 2 columns]"
      ]
     },
     "execution_count": 26,
     "metadata": {},
     "output_type": "execute_result"
    }
   ],
   "source": [
    "# p=predictions.toPandas\n",
    "pre=predictions.select('Quantity','prediction').toPandas()\n",
    "pre.head(100)\n"
   ]
  },
  {
   "cell_type": "code",
   "execution_count": 27,
   "id": "00e8cc8e",
   "metadata": {},
   "outputs": [
    {
     "data": {
      "text/html": [
       "<div>\n",
       "<style scoped>\n",
       "    .dataframe tbody tr th:only-of-type {\n",
       "        vertical-align: middle;\n",
       "    }\n",
       "\n",
       "    .dataframe tbody tr th {\n",
       "        vertical-align: top;\n",
       "    }\n",
       "\n",
       "    .dataframe thead th {\n",
       "        text-align: right;\n",
       "    }\n",
       "</style>\n",
       "<table border=\"1\" class=\"dataframe\">\n",
       "  <thead>\n",
       "    <tr style=\"text-align: right;\">\n",
       "      <th></th>\n",
       "      <th>Quantity</th>\n",
       "      <th>prediction</th>\n",
       "    </tr>\n",
       "  </thead>\n",
       "  <tbody>\n",
       "    <tr>\n",
       "      <th>count</th>\n",
       "      <td>22957.000000</td>\n",
       "      <td>22957.000000</td>\n",
       "    </tr>\n",
       "    <tr>\n",
       "      <th>mean</th>\n",
       "      <td>1.326044</td>\n",
       "      <td>0.858366</td>\n",
       "    </tr>\n",
       "    <tr>\n",
       "      <th>std</th>\n",
       "      <td>1.338744</td>\n",
       "      <td>0.050916</td>\n",
       "    </tr>\n",
       "    <tr>\n",
       "      <th>min</th>\n",
       "      <td>1.000000</td>\n",
       "      <td>0.663164</td>\n",
       "    </tr>\n",
       "    <tr>\n",
       "      <th>25%</th>\n",
       "      <td>1.000000</td>\n",
       "      <td>0.828058</td>\n",
       "    </tr>\n",
       "    <tr>\n",
       "      <th>50%</th>\n",
       "      <td>1.000000</td>\n",
       "      <td>0.859787</td>\n",
       "    </tr>\n",
       "    <tr>\n",
       "      <th>75%</th>\n",
       "      <td>1.000000</td>\n",
       "      <td>0.889054</td>\n",
       "    </tr>\n",
       "    <tr>\n",
       "      <th>max</th>\n",
       "      <td>7.000000</td>\n",
       "      <td>1.078543</td>\n",
       "    </tr>\n",
       "  </tbody>\n",
       "</table>\n",
       "</div>"
      ],
      "text/plain": [
       "           Quantity    prediction\n",
       "count  22957.000000  22957.000000\n",
       "mean       1.326044      0.858366\n",
       "std        1.338744      0.050916\n",
       "min        1.000000      0.663164\n",
       "25%        1.000000      0.828058\n",
       "50%        1.000000      0.859787\n",
       "75%        1.000000      0.889054\n",
       "max        7.000000      1.078543"
      ]
     },
     "execution_count": 27,
     "metadata": {},
     "output_type": "execute_result"
    }
   ],
   "source": [
    "pre.describe()"
   ]
  },
  {
   "cell_type": "code",
   "execution_count": 28,
   "id": "acf958e0",
   "metadata": {},
   "outputs": [],
   "source": [
    "Recom=predictions.rdd.map(lambda p: Row(user=p[0],ProductPredictions=(p[4]),name=p[1])).toDF()\n"
   ]
  },
  {
   "cell_type": "code",
   "execution_count": 29,
   "id": "b6dafb3d",
   "metadata": {},
   "outputs": [
    {
     "name": "stdout",
     "output_type": "stream",
     "text": [
      "+-------+------------------+--------------------+\n",
      "|   user|ProductPredictions|                name|\n",
      "+-------+------------------+--------------------+\n",
      "|1044068| 0.908418595790863|          P_eAccount|\n",
      "|1044068|0.8771370649337769|        P_securities|\n",
      "|1044068|0.8796070218086243|       P_HomeAccount|\n",
      "|1044068|0.8809033036231995|          P_Mortgage|\n",
      "|1044069|0.8599770069122314|             P_Loans|\n",
      "|1044069|0.8551916480064392|     P_SavingAccount|\n",
      "|1044069|0.8535797595977783|             P_Funds|\n",
      "|1044069|0.8609153628349304|P_MásParticularAc...|\n",
      "|1044069|0.8591799139976501|          P_Pensions|\n",
      "|1044072|0.9075520634651184|        P_CreditCard|\n",
      "+-------+------------------+--------------------+\n",
      "only showing top 10 rows\n",
      "\n"
     ]
    }
   ],
   "source": [
    "Recom=Recom.sort('user')\n",
    "Recom.show(10)"
   ]
  },
  {
   "cell_type": "code",
   "execution_count": 30,
   "id": "de1f0f8e",
   "metadata": {},
   "outputs": [
    {
     "data": {
      "text/html": [
       "<div>\n",
       "<style scoped>\n",
       "    .dataframe tbody tr th:only-of-type {\n",
       "        vertical-align: middle;\n",
       "    }\n",
       "\n",
       "    .dataframe tbody tr th {\n",
       "        vertical-align: top;\n",
       "    }\n",
       "\n",
       "    .dataframe thead th {\n",
       "        text-align: right;\n",
       "    }\n",
       "</style>\n",
       "<table border=\"1\" class=\"dataframe\">\n",
       "  <thead>\n",
       "    <tr style=\"text-align: right;\">\n",
       "      <th></th>\n",
       "      <th>user</th>\n",
       "      <th>ProductPredictions</th>\n",
       "      <th>name</th>\n",
       "    </tr>\n",
       "  </thead>\n",
       "  <tbody>\n",
       "    <tr>\n",
       "      <th>0</th>\n",
       "      <td>1044068</td>\n",
       "      <td>0.879607</td>\n",
       "      <td>P_HomeAccount</td>\n",
       "    </tr>\n",
       "    <tr>\n",
       "      <th>1</th>\n",
       "      <td>1044068</td>\n",
       "      <td>0.880903</td>\n",
       "      <td>P_Mortgage</td>\n",
       "    </tr>\n",
       "    <tr>\n",
       "      <th>2</th>\n",
       "      <td>1044068</td>\n",
       "      <td>0.908419</td>\n",
       "      <td>P_eAccount</td>\n",
       "    </tr>\n",
       "    <tr>\n",
       "      <th>3</th>\n",
       "      <td>1044068</td>\n",
       "      <td>0.877137</td>\n",
       "      <td>P_securities</td>\n",
       "    </tr>\n",
       "    <tr>\n",
       "      <th>4</th>\n",
       "      <td>1044069</td>\n",
       "      <td>0.853580</td>\n",
       "      <td>P_Funds</td>\n",
       "    </tr>\n",
       "    <tr>\n",
       "      <th>...</th>\n",
       "      <td>...</td>\n",
       "      <td>...</td>\n",
       "      <td>...</td>\n",
       "    </tr>\n",
       "    <tr>\n",
       "      <th>22952</th>\n",
       "      <td>1057215</td>\n",
       "      <td>0.886158</td>\n",
       "      <td>P_eAccount</td>\n",
       "    </tr>\n",
       "    <tr>\n",
       "      <th>22953</th>\n",
       "      <td>1375586</td>\n",
       "      <td>0.878432</td>\n",
       "      <td>P_Funds</td>\n",
       "    </tr>\n",
       "    <tr>\n",
       "      <th>22954</th>\n",
       "      <td>1375586</td>\n",
       "      <td>0.883660</td>\n",
       "      <td>P_Garantees</td>\n",
       "    </tr>\n",
       "    <tr>\n",
       "      <th>22955</th>\n",
       "      <td>1375586</td>\n",
       "      <td>0.882441</td>\n",
       "      <td>P_ParticularPlusAccount</td>\n",
       "    </tr>\n",
       "    <tr>\n",
       "      <th>22956</th>\n",
       "      <td>1375586</td>\n",
       "      <td>0.880774</td>\n",
       "      <td>P_securities</td>\n",
       "    </tr>\n",
       "  </tbody>\n",
       "</table>\n",
       "<p>22957 rows × 3 columns</p>\n",
       "</div>"
      ],
      "text/plain": [
       "          user  ProductPredictions                     name\n",
       "0      1044068            0.879607            P_HomeAccount\n",
       "1      1044068            0.880903               P_Mortgage\n",
       "2      1044068            0.908419               P_eAccount\n",
       "3      1044068            0.877137             P_securities\n",
       "4      1044069            0.853580                  P_Funds\n",
       "...        ...                 ...                      ...\n",
       "22952  1057215            0.886158               P_eAccount\n",
       "22953  1375586            0.878432                  P_Funds\n",
       "22954  1375586            0.883660              P_Garantees\n",
       "22955  1375586            0.882441  P_ParticularPlusAccount\n",
       "22956  1375586            0.880774             P_securities\n",
       "\n",
       "[22957 rows x 3 columns]"
      ]
     },
     "execution_count": 30,
     "metadata": {},
     "output_type": "execute_result"
    }
   ],
   "source": [
    "Recom.toPandas()\n"
   ]
  },
  {
   "cell_type": "code",
   "execution_count": 31,
   "id": "de1ba6b7",
   "metadata": {},
   "outputs": [
    {
     "data": {
      "text/plain": [
       "count    22957.000000\n",
       "mean         0.858361\n",
       "std          0.050917\n",
       "min          0.663164\n",
       "25%          0.828058\n",
       "50%          0.859787\n",
       "75%          0.889054\n",
       "max          1.078543\n",
       "Name: ProductPredictions, dtype: float64"
      ]
     },
     "execution_count": 31,
     "metadata": {},
     "output_type": "execute_result"
    }
   ],
   "source": [
    "Rec=Recom.toPandas()\n",
    "\n",
    "Rec['ProductPredictions'].describe()"
   ]
  },
  {
   "cell_type": "code",
   "execution_count": 32,
   "id": "8dde4729",
   "metadata": {},
   "outputs": [
    {
     "data": {
      "text/html": [
       "<div>\n",
       "<style scoped>\n",
       "    .dataframe tbody tr th:only-of-type {\n",
       "        vertical-align: middle;\n",
       "    }\n",
       "\n",
       "    .dataframe tbody tr th {\n",
       "        vertical-align: top;\n",
       "    }\n",
       "\n",
       "    .dataframe thead th {\n",
       "        text-align: right;\n",
       "    }\n",
       "</style>\n",
       "<table border=\"1\" class=\"dataframe\">\n",
       "  <thead>\n",
       "    <tr style=\"text-align: right;\">\n",
       "      <th></th>\n",
       "      <th>user</th>\n",
       "      <th>ProductPredictions</th>\n",
       "      <th>name</th>\n",
       "    </tr>\n",
       "  </thead>\n",
       "  <tbody>\n",
       "    <tr>\n",
       "      <th>6232</th>\n",
       "      <td>1050088</td>\n",
       "      <td>0.833388</td>\n",
       "      <td>P_Derivada_Account</td>\n",
       "    </tr>\n",
       "    <tr>\n",
       "      <th>6233</th>\n",
       "      <td>1050088</td>\n",
       "      <td>0.835894</td>\n",
       "      <td>P_HomeAccount</td>\n",
       "    </tr>\n",
       "    <tr>\n",
       "      <th>6234</th>\n",
       "      <td>1050088</td>\n",
       "      <td>0.835837</td>\n",
       "      <td>P_MeduimTermDeposits</td>\n",
       "    </tr>\n",
       "    <tr>\n",
       "      <th>6235</th>\n",
       "      <td>1050088</td>\n",
       "      <td>0.837126</td>\n",
       "      <td>P_Mortgage</td>\n",
       "    </tr>\n",
       "    <tr>\n",
       "      <th>6236</th>\n",
       "      <td>1050088</td>\n",
       "      <td>0.835125</td>\n",
       "      <td>P_ParticularPlusAccount</td>\n",
       "    </tr>\n",
       "    <tr>\n",
       "      <th>6237</th>\n",
       "      <td>1050088</td>\n",
       "      <td>0.832900</td>\n",
       "      <td>P_SavingAccount</td>\n",
       "    </tr>\n",
       "  </tbody>\n",
       "</table>\n",
       "</div>"
      ],
      "text/plain": [
       "         user  ProductPredictions                     name\n",
       "6232  1050088            0.833388      P_Derivada_Account \n",
       "6233  1050088            0.835894            P_HomeAccount\n",
       "6234  1050088            0.835837     P_MeduimTermDeposits\n",
       "6235  1050088            0.837126               P_Mortgage\n",
       "6236  1050088            0.835125  P_ParticularPlusAccount\n",
       "6237  1050088            0.832900          P_SavingAccount"
      ]
     },
     "execution_count": 32,
     "metadata": {},
     "output_type": "execute_result"
    }
   ],
   "source": [
    "Rec[Rec.user==1050088]"
   ]
  },
  {
   "cell_type": "code",
   "execution_count": 33,
   "id": "92152399",
   "metadata": {},
   "outputs": [],
   "source": [
    "# Generate top 10 movie recommendations for each user\n",
    "userRecs = model.recommendForAllUsers(10)\n",
    "# Generate top 10 user recommendations for each product\n",
    "ProductRecs = model.recommendForAllItems(10)"
   ]
  },
  {
   "cell_type": "code",
   "execution_count": 34,
   "id": "d538a025",
   "metadata": {},
   "outputs": [],
   "source": [
    "# Generate top 10 product recommendations for a specified set of users\n",
    "users = spark_df.select(als.getUserCol()).where('CustomerCode=1375586')\n",
    "userSubsetRecs = model.recommendForUserSubset(users, 10)\n",
    "# Generate top 10 user recommendations for a specified set of product\n",
    "items = spark_df.select(als.getItemCol()).distinct().limit(3)\n",
    "itemSubSetRecs = model.recommendForItemSubset(items, 10)"
   ]
  },
  {
   "cell_type": "code",
   "execution_count": 35,
   "id": "bf7be474",
   "metadata": {},
   "outputs": [
    {
     "data": {
      "text/plain": [
       "[Row(CustomerCode=1375586, recommendations=[Row(itemCode=3, rating=0.9917897582054138), Row(itemCode=23, rating=0.9135057926177979), Row(itemCode=13, rating=0.9121853113174438), Row(itemCode=5, rating=0.9005982279777527), Row(itemCode=12, rating=0.8926946520805359), Row(itemCode=6, rating=0.8920359015464783), Row(itemCode=22, rating=0.8910372257232666), Row(itemCode=19, rating=0.8903310894966125), Row(itemCode=18, rating=0.8896164298057556), Row(itemCode=8, rating=0.8881850838661194)])]"
      ]
     },
     "execution_count": 35,
     "metadata": {},
     "output_type": "execute_result"
    }
   ],
   "source": [
    "userSubsetRecs.head(10)\n",
    "# typeof(userSubsetRecs)"
   ]
  },
  {
   "cell_type": "code",
   "execution_count": null,
   "id": "92ab2ed9",
   "metadata": {},
   "outputs": [],
   "source": []
  }
 ],
 "metadata": {
  "kernelspec": {
   "display_name": "Python 3 (ipykernel)",
   "language": "python",
   "name": "python3"
  },
  "language_info": {
   "codemirror_mode": {
    "name": "ipython",
    "version": 3
   },
   "file_extension": ".py",
   "mimetype": "text/x-python",
   "name": "python",
   "nbconvert_exporter": "python",
   "pygments_lexer": "ipython3",
   "version": "3.9.12"
  }
 },
 "nbformat": 4,
 "nbformat_minor": 5
}
